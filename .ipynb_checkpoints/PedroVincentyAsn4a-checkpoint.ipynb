{
 "cells": [
  {
   "cell_type": "code",
   "execution_count": 1,
   "id": "08fbdd77",
   "metadata": {},
   "outputs": [],
   "source": [
    "# Import relevant packages\n",
    "import nasdaqdatalink\n",
    "import os\n",
    "from dotenv import load_dotenv\n",
    "import pandas as pd"
   ]
  },
  {
   "cell_type": "code",
   "execution_count": 3,
   "id": "a437e1ca",
   "metadata": {},
   "outputs": [],
   "source": [
    "# get a previously issued Nasdaq API key from an .env file\n",
    "# *Pedro's key name is 'nasdaqAPIKey'.  Key name varies by user\n",
    "env_file = 'env_vars.env'\n",
    "load_dotenv(env_file)\n",
    "nasdaq_key = os.getenv('nasdaqAPIKey')\n",
    "#print(nasdaq_key)"
   ]
  },
  {
   "cell_type": "code",
   "execution_count": 3,
   "id": "16981651",
   "metadata": {},
   "outputs": [],
   "source": [
    "# Configure NASDAQ API key\n",
    "nasdaqdatalink.ApiConfig.api_key = nasdaq_key"
   ]
  },
  {
   "cell_type": "code",
   "execution_count": 4,
   "id": "b11069d7",
   "metadata": {},
   "outputs": [
    {
     "name": "stdout",
     "output_type": "stream",
     "text": [
      "<class 'pandas.core.frame.DataFrame'>\n"
     ]
    }
   ],
   "source": [
    "# USA CPI Data\n",
    "USdata = nasdaqdatalink.get('RATEINF/CPI_USA', start_date='2022-01-31', end_date='2023-01-31')\n",
    "\n",
    "print(type(USdata))\n",
    "# Assign Column Name\n",
    "USdata.columns = ['U.S.A.']"
   ]
  },
  {
   "cell_type": "code",
   "execution_count": 5,
   "id": "d73aa6f5",
   "metadata": {},
   "outputs": [],
   "source": [
    "# Japan CPI Data\n",
    "Jdata = nasdaqdatalink.get('RATEINF/CPI_JPN', start_date='2022-01-31', end_date='2023-01-31')\n",
    "\n",
    "# Assign Column Name\n",
    "Jdata.columns = ['Japan']"
   ]
  },
  {
   "cell_type": "code",
   "execution_count": 11,
   "id": "cc6a808b",
   "metadata": {},
   "outputs": [],
   "source": [
    "# France CPI Data\n",
    "FRdata = nasdaqdatalink.get('RATEINF/CPI_FRA', start_date='2022-01-31', end_date='2023-01-31')\n",
    "\n",
    "# Assign Column Name\n",
    "FRdata.columns = ['France']"
   ]
  },
  {
   "cell_type": "code",
   "execution_count": 12,
   "id": "34c54802",
   "metadata": {
    "scrolled": false
   },
   "outputs": [
    {
     "data": {
      "text/html": [
       "<div>\n",
       "<style scoped>\n",
       "    .dataframe tbody tr th:only-of-type {\n",
       "        vertical-align: middle;\n",
       "    }\n",
       "\n",
       "    .dataframe tbody tr th {\n",
       "        vertical-align: top;\n",
       "    }\n",
       "\n",
       "    .dataframe thead th {\n",
       "        text-align: right;\n",
       "    }\n",
       "</style>\n",
       "<table border=\"1\" class=\"dataframe\">\n",
       "  <thead>\n",
       "    <tr style=\"text-align: right;\">\n",
       "      <th></th>\n",
       "      <th>U.S.A.</th>\n",
       "      <th>Japan</th>\n",
       "      <th>France</th>\n",
       "    </tr>\n",
       "    <tr>\n",
       "      <th>Date</th>\n",
       "      <th></th>\n",
       "      <th></th>\n",
       "      <th></th>\n",
       "    </tr>\n",
       "  </thead>\n",
       "  <tbody>\n",
       "    <tr>\n",
       "      <th>2022-01-31</th>\n",
       "      <td>281.148</td>\n",
       "      <td>100.3</td>\n",
       "      <td>108.12</td>\n",
       "    </tr>\n",
       "    <tr>\n",
       "      <th>2022-02-28</th>\n",
       "      <td>283.716</td>\n",
       "      <td>100.7</td>\n",
       "      <td>108.94</td>\n",
       "    </tr>\n",
       "    <tr>\n",
       "      <th>2022-03-31</th>\n",
       "      <td>287.504</td>\n",
       "      <td>101.1</td>\n",
       "      <td>110.49</td>\n",
       "    </tr>\n",
       "    <tr>\n",
       "      <th>2022-04-30</th>\n",
       "      <td>289.109</td>\n",
       "      <td>101.5</td>\n",
       "      <td>110.97</td>\n",
       "    </tr>\n",
       "    <tr>\n",
       "      <th>2022-05-31</th>\n",
       "      <td>292.296</td>\n",
       "      <td>101.8</td>\n",
       "      <td>111.72</td>\n",
       "    </tr>\n",
       "    <tr>\n",
       "      <th>2022-06-30</th>\n",
       "      <td>296.311</td>\n",
       "      <td>101.8</td>\n",
       "      <td>112.55</td>\n",
       "    </tr>\n",
       "    <tr>\n",
       "      <th>2022-07-31</th>\n",
       "      <td>296.276</td>\n",
       "      <td>102.3</td>\n",
       "      <td>112.87</td>\n",
       "    </tr>\n",
       "    <tr>\n",
       "      <th>2022-08-31</th>\n",
       "      <td>296.171</td>\n",
       "      <td>102.7</td>\n",
       "      <td>113.38</td>\n",
       "    </tr>\n",
       "    <tr>\n",
       "      <th>2022-09-30</th>\n",
       "      <td>296.808</td>\n",
       "      <td>103.1</td>\n",
       "      <td>112.74</td>\n",
       "    </tr>\n",
       "    <tr>\n",
       "      <th>2022-10-31</th>\n",
       "      <td>298.012</td>\n",
       "      <td>103.7</td>\n",
       "      <td>113.90</td>\n",
       "    </tr>\n",
       "    <tr>\n",
       "      <th>2022-11-30</th>\n",
       "      <td>297.711</td>\n",
       "      <td>103.9</td>\n",
       "      <td>114.26</td>\n",
       "    </tr>\n",
       "    <tr>\n",
       "      <th>2022-12-31</th>\n",
       "      <td>296.797</td>\n",
       "      <td>104.1</td>\n",
       "      <td>114.16</td>\n",
       "    </tr>\n",
       "  </tbody>\n",
       "</table>\n",
       "</div>"
      ],
      "text/plain": [
       "             U.S.A.  Japan  France\n",
       "Date                              \n",
       "2022-01-31  281.148  100.3  108.12\n",
       "2022-02-28  283.716  100.7  108.94\n",
       "2022-03-31  287.504  101.1  110.49\n",
       "2022-04-30  289.109  101.5  110.97\n",
       "2022-05-31  292.296  101.8  111.72\n",
       "2022-06-30  296.311  101.8  112.55\n",
       "2022-07-31  296.276  102.3  112.87\n",
       "2022-08-31  296.171  102.7  113.38\n",
       "2022-09-30  296.808  103.1  112.74\n",
       "2022-10-31  298.012  103.7  113.90\n",
       "2022-11-30  297.711  103.9  114.26\n",
       "2022-12-31  296.797  104.1  114.16"
      ]
     },
     "execution_count": 12,
     "metadata": {},
     "output_type": "execute_result"
    }
   ],
   "source": [
    "# Consolidate US, Japan, France Data\n",
    "dfCPI = pd.merge(pd.merge(USdata,Jdata,on='Date'),FRdata,on='Date')\n",
    "dfCPI"
   ]
  },
  {
   "cell_type": "code",
   "execution_count": 14,
   "id": "1c6f956c",
   "metadata": {
    "scrolled": false
   },
   "outputs": [
    {
     "data": {
      "text/plain": [
       "<AxesSubplot:title={'center':'Consumer Price Index 2022'}, xlabel='Date', ylabel='CPI'>"
      ]
     },
     "execution_count": 14,
     "metadata": {},
     "output_type": "execute_result"
    },
    {
     "data": {
      "image/png": "[encoded data removed]",
      "text/plain": [
       "<Figure size 640x480 with 1 Axes>"
      ]
     },
     "metadata": {},
     "output_type": "display_data"
    }
   ],
   "source": [
    "# Plot consolidated dataframe \n",
    "%matplotlib inline\n",
    "dfCPI.plot.line(subplots=False, ylabel = \"CPI\",title = \"Consumer Price Index 2022\")\n"
   ]
  },
  {
   "cell_type": "code",
   "execution_count": null,
   "id": "8f5c47a6",
   "metadata": {},
   "outputs": [],
   "source": []
  }
 ],
 "metadata": {
  "kernelspec": {
   "display_name": "Python 3 (ipykernel)",
   "language": "python",
   "name": "python3"
  },
  "language_info": {
   "codemirror_mode": {
    "name": "ipython",
    "version": 3
   },
   "file_extension": ".py",
   "mimetype": "text/x-python",
   "name": "python",
   "nbconvert_exporter": "python",
   "pygments_lexer": "ipython3",
   "version": "3.9.13"
  }
 },
 "nbformat": 4,
 "nbformat_minor": 5
}
