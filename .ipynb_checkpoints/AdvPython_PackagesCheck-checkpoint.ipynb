{
 "cells": [
  {
   "cell_type": "markdown",
   "metadata": {},
   "source": [
    "## Package Install Check - Advanced Python\n",
    "### Gabelli School of Business, ITO area\n",
    "Run all cells in this notebook to verify all required packages are installed<br>\n",
    "note: (-) indicates this package is not required for a course assignment"
   ]
  },
  {
   "cell_type": "markdown",
   "metadata": {},
   "source": [
    "1) Core packages - included with the Anaconda Distribution"
   ]
  },
  {
   "cell_type": "code",
   "execution_count": 2,
   "metadata": {},
   "outputs": [],
   "source": [
    "import pandas"
   ]
  },
  {
   "cell_type": "code",
   "execution_count": 3,
   "metadata": {},
   "outputs": [],
   "source": [
    "import numpy"
   ]
  },
  {
   "cell_type": "code",
   "execution_count": 4,
   "metadata": {},
   "outputs": [],
   "source": [
    "import scipy"
   ]
  },
  {
   "cell_type": "code",
   "execution_count": 5,
   "metadata": {},
   "outputs": [],
   "source": [
    "import matplotlib"
   ]
  },
  {
   "cell_type": "code",
   "execution_count": 6,
   "metadata": {},
   "outputs": [],
   "source": [
    "import statsmodels"
   ]
  },
  {
   "cell_type": "code",
   "execution_count": 7,
   "metadata": {},
   "outputs": [],
   "source": [
    "import seaborn"
   ]
  },
  {
   "cell_type": "code",
   "execution_count": 8,
   "metadata": {},
   "outputs": [],
   "source": [
    "# For accessing Web pages and services\n",
    "import requests"
   ]
  },
  {
   "cell_type": "code",
   "execution_count": 9,
   "metadata": {},
   "outputs": [],
   "source": [
    "# Web page and XML parsing\n",
    "from bs4 import BeautifulSoup"
   ]
  },
  {
   "cell_type": "code",
   "execution_count": 10,
   "metadata": {},
   "outputs": [],
   "source": [
    "# Machine Learning and related visualization (-)\n",
    "import sklearn"
   ]
  },
  {
   "cell_type": "markdown",
   "metadata": {},
   "source": [
    "2) Packages not included in the Anaconda distribution"
   ]
  },
  {
   "cell_type": "code",
   "execution_count": 11,
   "metadata": {},
   "outputs": [
    {
     "name": "stdout",
     "output_type": "stream",
     "text": [
      "Collecting nasdaq-data-link\n",
      "  Downloading Nasdaq_Data_Link-1.0.4-py2.py3-none-any.whl (28 kB)\n",
      "Requirement already satisfied: pandas>=0.14 in /Applications/anaconda3/lib/python3.9/site-packages (from nasdaq-data-link) (1.4.4)\n",
      "Requirement already satisfied: inflection>=0.3.1 in /Applications/anaconda3/lib/python3.9/site-packages (from nasdaq-data-link) (0.5.1)\n",
      "Requirement already satisfied: python-dateutil in /Applications/anaconda3/lib/python3.9/site-packages (from nasdaq-data-link) (2.8.2)\n",
      "Requirement already satisfied: numpy>=1.8 in /Applications/anaconda3/lib/python3.9/site-packages (from nasdaq-data-link) (1.21.5)\n",
      "Requirement already satisfied: requests>=2.7.0 in /Applications/anaconda3/lib/python3.9/site-packages (from nasdaq-data-link) (2.28.1)\n",
      "Collecting more-itertools\n",
      "  Using cached more_itertools-9.0.0-py3-none-any.whl (52 kB)\n",
      "Requirement already satisfied: six in /Applications/anaconda3/lib/python3.9/site-packages (from nasdaq-data-link) (1.16.0)\n",
      "Requirement already satisfied: pytz>=2020.1 in /Applications/anaconda3/lib/python3.9/site-packages (from pandas>=0.14->nasdaq-data-link) (2022.1)\n",
      "Requirement already satisfied: idna<4,>=2.5 in /Applications/anaconda3/lib/python3.9/site-packages (from requests>=2.7.0->nasdaq-data-link) (3.3)\n",
      "Requirement already satisfied: certifi>=2017.4.17 in /Applications/anaconda3/lib/python3.9/site-packages (from requests>=2.7.0->nasdaq-data-link) (2022.9.24)\n",
      "Requirement already satisfied: charset-normalizer<3,>=2 in /Applications/anaconda3/lib/python3.9/site-packages (from requests>=2.7.0->nasdaq-data-link) (2.0.4)\n",
      "Requirement already satisfied: urllib3<1.27,>=1.21.1 in /Applications/anaconda3/lib/python3.9/site-packages (from requests>=2.7.0->nasdaq-data-link) (1.26.11)\n",
      "Installing collected packages: more-itertools, nasdaq-data-link\n",
      "Successfully installed more-itertools-9.0.0 nasdaq-data-link-1.0.4\n"
     ]
    }
   ],
   "source": [
    "# Nasdaq Data Link Financial Data API\n",
    "!pip install nasdaq-data-link\n",
    "import nasdaqdatalink "
   ]
  },
  {
   "cell_type": "code",
   "execution_count": 12,
   "metadata": {},
   "outputs": [
    {
     "name": "stdout",
     "output_type": "stream",
     "text": [
      "Collecting python-dotenv\n",
      "  Downloading python_dotenv-0.21.0-py3-none-any.whl (18 kB)\n",
      "Installing collected packages: python-dotenv\n",
      "Successfully installed python-dotenv-0.21.0\n"
     ]
    }
   ],
   "source": [
    "# Environment variables handling\n",
    "!pip install python-dotenv\n",
    "import dotenv"
   ]
  },
  {
   "cell_type": "code",
   "execution_count": 13,
   "metadata": {},
   "outputs": [
    {
     "name": "stdout",
     "output_type": "stream",
     "text": [
      "Collecting Quantlib-Python\n",
      "  Downloading QuantLib_Python-1.18-py2.py3-none-any.whl (1.4 kB)\n",
      "Collecting QuantLib\n",
      "  Downloading QuantLib-1.29-cp39-cp39-macosx_10_9_x86_64.whl (16.1 MB)\n",
      "\u001b[2K     \u001b[90m━━━━━━━━━━━━━━━━━━━━━━━━━━━━━━━━━━━━━━━━\u001b[0m \u001b[32m16.1/16.1 MB\u001b[0m \u001b[31m5.6 MB/s\u001b[0m eta \u001b[36m0:00:00\u001b[0m00:01\u001b[0m00:01\u001b[0m\n",
      "\u001b[?25hInstalling collected packages: QuantLib, Quantlib-Python\n",
      "Successfully installed QuantLib-1.29 Quantlib-Python-1.18\n"
     ]
    }
   ],
   "source": [
    "# Financial analytics\n",
    "!pip install Quantlib-Python\n",
    "import QuantLib"
   ]
  },
  {
   "cell_type": "code",
   "execution_count": 14,
   "metadata": {},
   "outputs": [
    {
     "name": "stdout",
     "output_type": "stream",
     "text": [
      "Collecting optable\n",
      "  Downloading optable-0.2.2-py3-none-any.whl (8.9 kB)\n",
      "Requirement already satisfied: scipy>=1.0.0 in /Applications/anaconda3/lib/python3.9/site-packages (from optable) (1.9.1)\n",
      "Requirement already satisfied: numpy<1.25.0,>=1.18.5 in /Applications/anaconda3/lib/python3.9/site-packages (from scipy>=1.0.0->optable) (1.21.5)\n",
      "Installing collected packages: optable\n",
      "Successfully installed optable-0.2.2\n"
     ]
    }
   ],
   "source": [
    "# Optimization (-)\n",
    "!pip install optable\n",
    "import optable"
   ]
  }
 ],
 "metadata": {
  "kernelspec": {
   "display_name": "Python 3 (ipykernel)",
   "language": "python",
   "name": "python3"
  },
  "language_info": {
   "codemirror_mode": {
    "name": "ipython",
    "version": 3
   },
   "file_extension": ".py",
   "mimetype": "text/x-python",
   "name": "python",
   "nbconvert_exporter": "python",
   "pygments_lexer": "ipython3",
   "version": "3.9.13"
  }
 },
 "nbformat": 4,
 "nbformat_minor": 2
}
