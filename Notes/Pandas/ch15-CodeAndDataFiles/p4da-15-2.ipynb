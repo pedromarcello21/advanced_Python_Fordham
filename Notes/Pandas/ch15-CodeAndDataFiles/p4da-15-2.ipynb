{
 "cells": [
  {
   "cell_type": "markdown",
   "id": "f8a196c7",
   "metadata": {},
   "source": [
    "Python for Data & Analytics<br>\n",
    "Chapter 15, section 2\n",
    "\n",
    "*** requires datafile: PythonExcelTable.xlsx"
   ]
  },
  {
   "cell_type": "code",
   "execution_count": 1,
   "id": "eeb77071",
   "metadata": {},
   "outputs": [
    {
     "data": {
      "text/html": [
       "<div>\n",
       "<style scoped>\n",
       "    .dataframe tbody tr th:only-of-type {\n",
       "        vertical-align: middle;\n",
       "    }\n",
       "\n",
       "    .dataframe tbody tr th {\n",
       "        vertical-align: top;\n",
       "    }\n",
       "\n",
       "    .dataframe thead th {\n",
       "        text-align: right;\n",
       "    }\n",
       "</style>\n",
       "<table border=\"1\" class=\"dataframe\">\n",
       "  <thead>\n",
       "    <tr style=\"text-align: right;\">\n",
       "      <th></th>\n",
       "      <th>integer</th>\n",
       "      <th>float</th>\n",
       "      <th>date</th>\n",
       "      <th>datetime</th>\n",
       "      <th>text</th>\n",
       "      <th>formula</th>\n",
       "      <th>boolean</th>\n",
       "      <th>error</th>\n",
       "      <th>empty</th>\n",
       "    </tr>\n",
       "  </thead>\n",
       "  <tbody>\n",
       "    <tr>\n",
       "      <th>0</th>\n",
       "      <td>1</td>\n",
       "      <td>1.5</td>\n",
       "      <td>2019-05-31</td>\n",
       "      <td>2019-05-31 12:00:00</td>\n",
       "      <td>hello</td>\n",
       "      <td>2.5</td>\n",
       "      <td>False</td>\n",
       "      <td>NaN</td>\n",
       "      <td>NaN</td>\n",
       "    </tr>\n",
       "    <tr>\n",
       "      <th>1</th>\n",
       "      <td>2</td>\n",
       "      <td>2.5</td>\n",
       "      <td>2019-06-30</td>\n",
       "      <td>2019-06-30 12:00:00</td>\n",
       "      <td>goodbye</td>\n",
       "      <td>4.5</td>\n",
       "      <td>True</td>\n",
       "      <td>NaN</td>\n",
       "      <td>NaN</td>\n",
       "    </tr>\n",
       "  </tbody>\n",
       "</table>\n",
       "</div>"
      ],
      "text/plain": [
       "   integer  float       date            datetime     text  formula  boolean  \\\n",
       "0        1    1.5 2019-05-31 2019-05-31 12:00:00    hello      2.5    False   \n",
       "1        2    2.5 2019-06-30 2019-06-30 12:00:00  goodbye      4.5     True   \n",
       "\n",
       "   error  empty  \n",
       "0    NaN    NaN  \n",
       "1    NaN    NaN  "
      ]
     },
     "execution_count": 1,
     "metadata": {},
     "output_type": "execute_result"
    }
   ],
   "source": [
    "import pandas as pd\n",
    "df = pd.read_excel('PythonExcelTable.xlsx')\n",
    "df"
   ]
  },
  {
   "cell_type": "code",
   "execution_count": 2,
   "id": "320e93d3",
   "metadata": {},
   "outputs": [
    {
     "name": "stdout",
     "output_type": "stream",
     "text": [
      "<class 'pandas.core.frame.DataFrame'>\n",
      "RangeIndex: 2 entries, 0 to 1\n",
      "Data columns (total 9 columns):\n",
      " #   Column    Non-Null Count  Dtype         \n",
      "---  ------    --------------  -----         \n",
      " 0   integer   2 non-null      int64         \n",
      " 1   float     2 non-null      float64       \n",
      " 2   date      2 non-null      datetime64[ns]\n",
      " 3   datetime  2 non-null      datetime64[ns]\n",
      " 4   text      2 non-null      object        \n",
      " 5   formula   2 non-null      float64       \n",
      " 6   boolean   2 non-null      bool          \n",
      " 7   error     0 non-null      float64       \n",
      " 8   empty     0 non-null      float64       \n",
      "dtypes: bool(1), datetime64[ns](2), float64(4), int64(1), object(1)\n",
      "memory usage: 258.0+ bytes\n"
     ]
    }
   ],
   "source": [
    "df.info()"
   ]
  },
  {
   "cell_type": "markdown",
   "id": "8ba62333",
   "metadata": {},
   "source": [
    "Code from: Python for Data & Analytics, (c) 2023 Rose River Software, LLC"
   ]
  }
 ],
 "metadata": {
  "colab": {
   "name": "p4da-15-2.ipynb",
   "provenance": []
  },
  "kernelspec": {
   "display_name": "Python 3 (ipykernel)",
   "language": "python",
   "name": "python3"
  },
  "language_info": {
   "codemirror_mode": {
    "name": "ipython",
    "version": 3
   },
   "file_extension": ".py",
   "mimetype": "text/x-python",
   "name": "python",
   "nbconvert_exporter": "python",
   "pygments_lexer": "ipython3",
   "version": "3.9.13"
  }
 },
 "nbformat": 4,
 "nbformat_minor": 5
}
