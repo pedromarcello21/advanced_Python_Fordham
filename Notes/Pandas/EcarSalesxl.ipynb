{
 "cells": [
  {
   "cell_type": "markdown",
   "id": "a098a9b5",
   "metadata": {},
   "source": [
    "# Test Script"
   ]
  },
  {
   "cell_type": "code",
   "execution_count": 1,
   "id": "ce2eb802",
   "metadata": {},
   "outputs": [],
   "source": [
    "import pandas as pd\n",
    "from openpyxl import load_workbook"
   ]
  },
  {
   "cell_type": "code",
   "execution_count": 12,
   "id": "d02007bb",
   "metadata": {},
   "outputs": [
    {
     "data": {
      "text/html": [
       "<div>\n",
       "<style scoped>\n",
       "    .dataframe tbody tr th:only-of-type {\n",
       "        vertical-align: middle;\n",
       "    }\n",
       "\n",
       "    .dataframe tbody tr th {\n",
       "        vertical-align: top;\n",
       "    }\n",
       "\n",
       "    .dataframe thead th {\n",
       "        text-align: right;\n",
       "    }\n",
       "</style>\n",
       "<table border=\"1\" class=\"dataframe\">\n",
       "  <thead>\n",
       "    <tr style=\"text-align: right;\">\n",
       "      <th></th>\n",
       "      <th>Sales2021</th>\n",
       "      <th>Sales2020</th>\n",
       "      <th>Sales2019</th>\n",
       "      <th>Sales2018</th>\n",
       "      <th>Sales2017</th>\n",
       "    </tr>\n",
       "    <tr>\n",
       "      <th>Country</th>\n",
       "      <th></th>\n",
       "      <th></th>\n",
       "      <th></th>\n",
       "      <th></th>\n",
       "      <th></th>\n",
       "    </tr>\n",
       "  </thead>\n",
       "  <tbody>\n",
       "    <tr>\n",
       "      <th>Canada</th>\n",
       "      <td>87700</td>\n",
       "      <td>51376</td>\n",
       "      <td>50960</td>\n",
       "      <td>44150</td>\n",
       "      <td>18746</td>\n",
       "    </tr>\n",
       "    <tr>\n",
       "      <th>China</th>\n",
       "      <td>3334000</td>\n",
       "      <td>1246000</td>\n",
       "      <td>1204000</td>\n",
       "      <td>1016002</td>\n",
       "      <td>579000</td>\n",
       "    </tr>\n",
       "    <tr>\n",
       "      <th>France</th>\n",
       "      <td>315978</td>\n",
       "      <td>194881</td>\n",
       "      <td>69466</td>\n",
       "      <td>53745</td>\n",
       "      <td>42799</td>\n",
       "    </tr>\n",
       "    <tr>\n",
       "      <th>Germany</th>\n",
       "      <td>681410</td>\n",
       "      <td>394632</td>\n",
       "      <td>108839</td>\n",
       "      <td>67504</td>\n",
       "      <td>54492</td>\n",
       "    </tr>\n",
       "    <tr>\n",
       "      <th>Japan</th>\n",
       "      <td>44296</td>\n",
       "      <td>29000</td>\n",
       "      <td>43867</td>\n",
       "      <td>52013</td>\n",
       "      <td>54100</td>\n",
       "    </tr>\n",
       "    <tr>\n",
       "      <th>Netherlands</th>\n",
       "      <td>95464</td>\n",
       "      <td>89362</td>\n",
       "      <td>67520</td>\n",
       "      <td>29187</td>\n",
       "      <td>11085</td>\n",
       "    </tr>\n",
       "    <tr>\n",
       "      <th>Norway</th>\n",
       "      <td>167949</td>\n",
       "      <td>113588</td>\n",
       "      <td>88443</td>\n",
       "      <td>86290</td>\n",
       "      <td>71737</td>\n",
       "    </tr>\n",
       "    <tr>\n",
       "      <th>Sweden</th>\n",
       "      <td>138033</td>\n",
       "      <td>96054</td>\n",
       "      <td>41784</td>\n",
       "      <td>29909</td>\n",
       "      <td>19793</td>\n",
       "    </tr>\n",
       "    <tr>\n",
       "      <th>United Kingdom</th>\n",
       "      <td>305281</td>\n",
       "      <td>175082</td>\n",
       "      <td>72584</td>\n",
       "      <td>59911</td>\n",
       "      <td>49182</td>\n",
       "    </tr>\n",
       "    <tr>\n",
       "      <th>United States</th>\n",
       "      <td>607567</td>\n",
       "      <td>297939</td>\n",
       "      <td>329528</td>\n",
       "      <td>361307</td>\n",
       "      <td>199818</td>\n",
       "    </tr>\n",
       "  </tbody>\n",
       "</table>\n",
       "</div>"
      ],
      "text/plain": [
       "                Sales2021  Sales2020  Sales2019  Sales2018  Sales2017\n",
       "Country                                                              \n",
       "Canada              87700      51376      50960      44150      18746\n",
       "China             3334000    1246000    1204000    1016002     579000\n",
       "France             315978     194881      69466      53745      42799\n",
       "Germany            681410     394632     108839      67504      54492\n",
       "Japan               44296      29000      43867      52013      54100\n",
       "Netherlands         95464      89362      67520      29187      11085\n",
       "Norway             167949     113588      88443      86290      71737\n",
       "Sweden             138033      96054      41784      29909      19793\n",
       "United Kingdom     305281     175082      72584      59911      49182\n",
       "United States      607567     297939     329528     361307     199818"
      ]
     },
     "execution_count": 12,
     "metadata": {},
     "output_type": "execute_result"
    }
   ],
   "source": [
    "df = pd.read_excel(\"EcarSalesByCountryAndYear2.xlsx\",\"EcarSalesByCountryAndYear\", index_col = \"Country\")\n",
    "df"
   ]
  },
  {
   "cell_type": "code",
   "execution_count": 20,
   "id": "0bac8888",
   "metadata": {},
   "outputs": [
    {
     "data": {
      "text/plain": [
       "<Worksheet \"Documentation\">"
      ]
     },
     "execution_count": 20,
     "metadata": {},
     "output_type": "execute_result"
    }
   ],
   "source": [
    "workbook = load_workbook('EcarSalesByCountryAndYear2.xlsx', data_only=True)\n",
    "worksheet = workbook[\"Documentation\"]\n",
    "worksheet"
   ]
  },
  {
   "cell_type": "code",
   "execution_count": 24,
   "id": "88b90c9f",
   "metadata": {},
   "outputs": [
    {
     "data": {
      "text/plain": [
       "'https://en.wikipedia.org/wiki/Electric_car_use_by_country'"
      ]
     },
     "execution_count": 24,
     "metadata": {},
     "output_type": "execute_result"
    }
   ],
   "source": [
    "cell = worksheet[\"B2\"]\n",
    "cell.value"
   ]
  },
  {
   "cell_type": "code",
   "execution_count": null,
   "id": "c353d594",
   "metadata": {},
   "outputs": [],
   "source": []
  },
  {
   "cell_type": "code",
   "execution_count": null,
   "id": "cb181999",
   "metadata": {},
   "outputs": [],
   "source": []
  },
  {
   "cell_type": "code",
   "execution_count": null,
   "id": "78a3baf0",
   "metadata": {},
   "outputs": [],
   "source": []
  }
 ],
 "metadata": {
  "kernelspec": {
   "display_name": "Python 3 (ipykernel)",
   "language": "python",
   "name": "python3"
  },
  "language_info": {
   "codemirror_mode": {
    "name": "ipython",
    "version": 3
   },
   "file_extension": ".py",
   "mimetype": "text/x-python",
   "name": "python",
   "nbconvert_exporter": "python",
   "pygments_lexer": "ipython3",
   "version": "3.9.13"
  }
 },
 "nbformat": 4,
 "nbformat_minor": 5
}
