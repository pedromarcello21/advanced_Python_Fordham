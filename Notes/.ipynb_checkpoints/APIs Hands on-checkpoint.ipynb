{
 "cells": [
  {
   "cell_type": "code",
   "execution_count": 1,
   "id": "e05d2e3f",
   "metadata": {},
   "outputs": [],
   "source": [
    "import requests\n",
    "import os\n",
    "from dotenv import load_dotenv"
   ]
  },
  {
   "cell_type": "code",
   "execution_count": 2,
   "id": "c60f3ae9",
   "metadata": {},
   "outputs": [],
   "source": [
    "# get a previously issued Alpha Vantage key from an .env file\n",
    "env_file = 'env_vars.env'\n",
    "load_dotenv(env_file)\n",
    "myAPIKey = os.getenv(\"alphaVantageKey\")\n",
    "#print(myAPIKey)"
   ]
  },
  {
   "cell_type": "code",
   "execution_count": null,
   "id": "2f05dd2b",
   "metadata": {},
   "outputs": [],
   "source": []
  },
  {
   "cell_type": "code",
   "execution_count": 3,
   "id": "fe483834",
   "metadata": {},
   "outputs": [],
   "source": [
    "# define the ticker of interest\n",
    "symbol = 'NVDA'\n",
    "\n",
    "# define the url where the web service is\n",
    "API_URL = \"https://www.alphavantage.co/query\"\n",
    "\n",
    "# define the details for the Alpha Vantage request (key/value pairs in a dictionary)\n",
    "data = {\n",
    "        \"function\": \"TIME_SERIES_DAILY_ADJUSTED\",\n",
    "        \"symbol\": symbol,\n",
    "        \"apikey\": myAPIKey\n",
    "       }"
   ]
  },
  {
   "cell_type": "code",
   "execution_count": 4,
   "id": "e4ea0290",
   "metadata": {},
   "outputs": [
    {
     "name": "stdout",
     "output_type": "stream",
     "text": [
      "<class 'requests.models.Response'>\n"
     ]
    }
   ],
   "source": [
    "response = requests.get(API_URL, data)\n",
    "print(type(response))"
   ]
  },
  {
   "cell_type": "code",
   "execution_count": 5,
   "id": "072a3a60",
   "metadata": {},
   "outputs": [
    {
     "name": "stdout",
     "output_type": "stream",
     "text": [
      "<class 'dict'>\n"
     ]
    }
   ],
   "source": [
    "data = response.json()\n",
    "print(type(data))"
   ]
  },
  {
   "cell_type": "code",
   "execution_count": null,
   "id": "cbc37a4e",
   "metadata": {},
   "outputs": [],
   "source": []
  },
  {
   "cell_type": "code",
   "execution_count": 6,
   "id": "14eedcf9",
   "metadata": {},
   "outputs": [
    {
     "data": {
      "text/plain": [
       "dict_keys(['Meta Data', 'Time Series (Daily)'])"
      ]
     },
     "execution_count": 6,
     "metadata": {},
     "output_type": "execute_result"
    }
   ],
   "source": [
    "data.keys()"
   ]
  },
  {
   "cell_type": "code",
   "execution_count": 7,
   "id": "6635086f",
   "metadata": {},
   "outputs": [
    {
     "data": {
      "text/plain": [
       "'US/Eastern'"
      ]
     },
     "execution_count": 7,
     "metadata": {},
     "output_type": "execute_result"
    }
   ],
   "source": [
    "data['Meta Data']['5. Time Zone']"
   ]
  },
  {
   "cell_type": "code",
   "execution_count": 8,
   "id": "ae79aae6",
   "metadata": {},
   "outputs": [
    {
     "name": "stdout",
     "output_type": "stream",
     "text": [
      "Date\t\tAdj Close\n",
      "2023-02-21 \t  206.55\n",
      "2023-02-17 \t  213.88\n",
      "2023-02-16 \t  220.02\n",
      "2023-02-15 \t  227.64\n",
      "2023-02-14 \t  229.71\n",
      "2023-02-13 \t  217.88\n",
      "2023-02-10 \t  212.65\n",
      "2023-02-09 \t  223.37\n",
      "2023-02-08 \t  222.05\n",
      "2023-02-07 \t  221.73\n",
      "2023-02-06 \t  210.89\n",
      "2023-02-03 \t  211.00\n",
      "2023-02-02 \t  217.09\n",
      "2023-02-01 \t  209.43\n",
      "2023-01-31 \t  195.37\n",
      "2023-01-30 \t  191.62\n",
      "2023-01-27 \t  203.65\n",
      "2023-01-26 \t  198.02\n",
      "2023-01-25 \t  193.23\n",
      "2023-01-24 \t  192.65\n",
      "2023-01-23 \t  191.93\n",
      "2023-01-20 \t  178.39\n",
      "2023-01-19 \t  167.65\n",
      "2023-01-18 \t  173.77\n",
      "2023-01-17 \t  177.02\n",
      "2023-01-13 \t  168.99\n",
      "2023-01-12 \t  165.11\n",
      "2023-01-11 \t  160.01\n",
      "2023-01-10 \t  159.09\n",
      "2023-01-09 \t  156.28\n",
      "2023-01-06 \t  148.59\n",
      "2023-01-05 \t  142.65\n",
      "2023-01-04 \t  147.49\n",
      "2023-01-03 \t  143.15\n",
      "2022-12-30 \t  146.14\n",
      "2022-12-29 \t  146.03\n",
      "2022-12-28 \t  140.36\n",
      "2022-12-27 \t  141.21\n",
      "2022-12-23 \t  152.06\n",
      "2022-12-22 \t  153.39\n",
      "2022-12-21 \t  165.01\n",
      "2022-12-20 \t  160.85\n",
      "2022-12-19 \t  162.54\n",
      "2022-12-16 \t  165.71\n",
      "2022-12-15 \t  169.52\n",
      "2022-12-14 \t  176.74\n",
      "2022-12-13 \t  180.72\n",
      "2022-12-12 \t  175.35\n",
      "2022-12-09 \t  170.01\n",
      "2022-12-08 \t  171.69\n",
      "2022-12-07 \t  161.20\n",
      "2022-12-06 \t  159.87\n",
      "2022-12-05 \t  166.10\n",
      "2022-12-02 \t  168.76\n",
      "2022-12-01 \t  171.35\n",
      "2022-11-30 \t  169.23\n",
      "2022-11-29 \t  156.35\n",
      "2022-11-28 \t  158.23\n",
      "2022-11-25 \t  162.66\n",
      "2022-11-23 \t  165.15\n",
      "2022-11-22 \t  160.34\n",
      "2022-11-21 \t  153.13\n",
      "2022-11-18 \t  154.05\n",
      "2022-11-17 \t  156.73\n",
      "2022-11-16 \t  159.06\n",
      "2022-11-15 \t  166.62\n",
      "2022-11-14 \t  162.91\n",
      "2022-11-11 \t  163.23\n",
      "2022-11-10 \t  157.46\n",
      "2022-11-09 \t  137.73\n",
      "2022-11-08 \t  145.99\n",
      "2022-11-07 \t  142.98\n",
      "2022-11-04 \t  141.53\n",
      "2022-11-03 \t  134.18\n",
      "2022-11-02 \t  132.16\n",
      "2022-11-01 \t  135.40\n",
      "2022-10-31 \t  134.94\n",
      "2022-10-28 \t  138.31\n",
      "2022-10-27 \t  131.73\n",
      "2022-10-26 \t  128.93\n",
      "2022-10-25 \t  132.58\n",
      "2022-10-24 \t  125.96\n",
      "2022-10-21 \t  124.63\n",
      "2022-10-20 \t  121.91\n",
      "2022-10-19 \t  120.48\n",
      "2022-10-18 \t  119.64\n",
      "2022-10-17 \t  118.85\n",
      "2022-10-14 \t  112.24\n",
      "2022-10-13 \t  119.57\n",
      "2022-10-12 \t  114.97\n",
      "2022-10-11 \t  115.83\n",
      "2022-10-10 \t  116.67\n",
      "2022-10-07 \t  120.73\n",
      "2022-10-06 \t  131.27\n",
      "2022-10-05 \t  132.06\n",
      "2022-10-04 \t  131.64\n",
      "2022-10-03 \t  125.09\n",
      "2022-09-30 \t  121.36\n",
      "2022-09-29 \t  122.17\n",
      "2022-09-28 \t  127.33\n"
     ]
    }
   ],
   "source": [
    "# go to times series (as opposed to metadata)\n",
    "time_series = (data['Time Series (Daily)'])\n",
    "# the keys of the dictionary are the datetimes for the time series result\n",
    "keys = time_series.keys()\n",
    "# print selected data of interest\n",
    "print(\"Date\\t\\tAdj Close\")\n",
    "for key in keys:\n",
    "    values = time_series[key]\n",
    "    adjusted = float(values['5. adjusted close'])\n",
    "    print(key,\"\\t\" \"%8.2f\" % adjusted)"
   ]
  },
  {
   "cell_type": "code",
   "execution_count": null,
   "id": "2af5ef58",
   "metadata": {},
   "outputs": [],
   "source": []
  },
  {
   "cell_type": "code",
   "execution_count": null,
   "id": "94b92ce5",
   "metadata": {},
   "outputs": [],
   "source": []
  }
 ],
 "metadata": {
  "kernelspec": {
   "display_name": "Python 3 (ipykernel)",
   "language": "python",
   "name": "python3"
  },
  "language_info": {
   "codemirror_mode": {
    "name": "ipython",
    "version": 3
   },
   "file_extension": ".py",
   "mimetype": "text/x-python",
   "name": "python",
   "nbconvert_exporter": "python",
   "pygments_lexer": "ipython3",
   "version": "3.9.13"
  }
 },
 "nbformat": 4,
 "nbformat_minor": 5
}
