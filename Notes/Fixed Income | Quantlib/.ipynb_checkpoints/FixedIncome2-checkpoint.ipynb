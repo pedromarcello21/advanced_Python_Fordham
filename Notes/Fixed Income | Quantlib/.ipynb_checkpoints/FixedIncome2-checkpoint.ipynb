{
 "cells": [
  {
   "cell_type": "markdown",
   "metadata": {},
   "source": [
    "## QuantLib - Schedules and Bonds"
   ]
  },
  {
   "cell_type": "code",
   "execution_count": null,
   "metadata": {},
   "outputs": [],
   "source": [
    "#!pip install Quantlib-Python"
   ]
  },
  {
   "cell_type": "code",
   "execution_count": 1,
   "metadata": {},
   "outputs": [],
   "source": [
    "import QuantLib as ql"
   ]
  },
  {
   "cell_type": "code",
   "execution_count": 2,
   "metadata": {},
   "outputs": [],
   "source": [
    "# parameters for the timing of the bond's cashflows\n",
    "issueDate = ql.Date(31, 12, 2018)\n",
    "maturityDate = ql.Date(31, 12, 2023) # five year bond\n",
    "frequency = ql.Period(ql.Semiannual) # pay semi-annually\n",
    "calendar = ql.NullCalendar()\n",
    "businessConvention = ql.Unadjusted\n",
    "dateGeneration = ql.DateGeneration.Backward # payment dates generated from maturity backwards\n",
    "monthEnd = False # convention for aligning dates with month end"
   ]
  },
  {
   "cell_type": "code",
   "execution_count": 3,
   "metadata": {},
   "outputs": [
    {
     "name": "stdout",
     "output_type": "stream",
     "text": [
      "December 31st, 2018\n",
      "June 30th, 2019\n",
      "December 31st, 2019\n",
      "June 30th, 2020\n",
      "December 31st, 2020\n",
      "June 30th, 2021\n",
      "December 31st, 2021\n",
      "June 30th, 2022\n",
      "December 31st, 2022\n",
      "June 30th, 2023\n",
      "December 31st, 2023\n"
     ]
    }
   ],
   "source": [
    "# Generate the schedule for this bond\n",
    "schedule = ql.Schedule(issueDate, maturityDate, frequency, calendar,\n",
    "                       businessConvention, businessConvention, dateGeneration, monthEnd)\n",
    "for item in schedule:\n",
    "   print(item)"
   ]
  },
  {
   "cell_type": "code",
   "execution_count": 4,
   "metadata": {},
   "outputs": [
    {
     "name": "stdout",
     "output_type": "stream",
     "text": [
      "<class 'QuantLib.QuantLib.Schedule'>\n",
      "<class 'QuantLib.QuantLib.Date'>\n"
     ]
    }
   ],
   "source": [
    "# review the types for the schedule and its items\n",
    "print(type(schedule))\n",
    "print(type(schedule[0]))"
   ]
  },
  {
   "cell_type": "code",
   "execution_count": 5,
   "metadata": {},
   "outputs": [],
   "source": [
    "# parameters for the bond\n",
    "couponRate = .03 # 3% annual rate\n",
    "coupons = [couponRate]\n",
    "settlementDays = 3 # T+3 settlement convention\n",
    "faceValue = 1000 # principal at maturity\n",
    "daycount = ql.Thirty360(ql.Thirty360.BondBasis)"
   ]
  },
  {
   "cell_type": "code",
   "execution_count": 6,
   "metadata": {},
   "outputs": [],
   "source": [
    "# create an instance of a fixed rate bond\n",
    "fixedRateBond = ql.FixedRateBond(settlementDays, faceValue, schedule, coupons, daycount)"
   ]
  },
  {
   "cell_type": "code",
   "execution_count": 7,
   "metadata": {},
   "outputs": [
    {
     "name": "stdout",
     "output_type": "stream",
     "text": [
      "     June 30th, 2019    15.000000\n",
      " December 31st, 2019    15.000000\n",
      "     June 30th, 2020    15.000000\n",
      " December 31st, 2020    15.000000\n",
      "     June 30th, 2021    15.000000\n",
      " December 31st, 2021    15.000000\n",
      "     June 30th, 2022    15.000000\n",
      " December 31st, 2022    15.000000\n",
      "     June 30th, 2023    15.000000\n",
      " December 31st, 2023    15.000000\n",
      " December 31st, 2023  1000.000000\n"
     ]
    }
   ],
   "source": [
    "# what are the cashflows for this bond\n",
    "for flow in fixedRateBond.cashflows():\n",
    "    print('%20s %12f' % (flow.date(), flow.amount()))"
   ]
  },
  {
   "cell_type": "code",
   "execution_count": 8,
   "metadata": {},
   "outputs": [
    {
     "name": "stdout",
     "output_type": "stream",
     "text": [
      "NPV accruedAmount asObservable bondYield calendar cashflows cleanPrice dayCounter dirtyPrice errorEstimate freeze frequency isExpired issueDate maturityDate nextCouponRate notional notionals previousCouponRate recalculate redemption redemptions setPricingEngine settlementDate settlementDays settlementValue startDate this thisown unfreeze "
     ]
    }
   ],
   "source": [
    "# review the available attributes/methods for FixedIncomeBond\n",
    "#dir(fixedRateBond)\n",
    "for method in dir(fixedRateBond):\n",
    "    if method[0] != \"_\": print(method, end=\" \")"
   ]
  },
  {
   "cell_type": "code",
   "execution_count": 9,
   "metadata": {},
   "outputs": [
    {
     "name": "stdout",
     "output_type": "stream",
     "text": [
      "   1.24167\n"
     ]
    }
   ],
   "source": [
    "# what is the accrued interest for a given settlement data\n",
    "settleDate = ql.Date(29, 5, 2020)\n",
    "accrued = fixedRateBond.accruedAmount(settleDate)\n",
    "print(\"%10.5f\" % accrued)"
   ]
  },
  {
   "cell_type": "code",
   "execution_count": 10,
   "metadata": {},
   "outputs": [
    {
     "name": "stdout",
     "output_type": "stream",
     "text": [
      "2.704\n"
     ]
    }
   ],
   "source": [
    "# price->yield calculation\n",
    "cleanPrice = 101.0\n",
    "yld = fixedRateBond.bondYield(cleanPrice,\n",
    "                        ql.ActualActual(ql.ActualActual.Bond), ql.Compounded, ql.Semiannual,\n",
    "                        settleDate)\n",
    "print(\"%.3f\" % (yld * 100))"
   ]
  },
  {
   "cell_type": "code",
   "execution_count": 11,
   "metadata": {},
   "outputs": [
    {
     "name": "stdout",
     "output_type": "stream",
     "text": [
      "101.00000\n"
     ]
    }
   ],
   "source": [
    "# yield->price calculation\n",
    "calcPrice = fixedRateBond.cleanPrice(yld,\n",
    "                         ql.ActualActual(ql.ActualActual.Bond), ql.Compounded, ql.Semiannual,\n",
    "                         settleDate)\n",
    "calcPrice\n",
    "print(\"%.5f\" % calcPrice)"
   ]
  },
  {
   "cell_type": "code",
   "execution_count": 12,
   "metadata": {},
   "outputs": [
    {
     "name": "stdout",
     "output_type": "stream",
     "text": [
      "102.24167\n"
     ]
    }
   ],
   "source": [
    "# full price\n",
    "fullPrice = accrued + cleanPrice\n",
    "print(\"%.5f\" % fullPrice)"
   ]
  },
  {
   "cell_type": "code",
   "execution_count": null,
   "metadata": {},
   "outputs": [],
   "source": []
  }
 ],
 "metadata": {
  "kernelspec": {
   "display_name": "Python 3 (ipykernel)",
   "language": "python",
   "name": "python3"
  },
  "language_info": {
   "codemirror_mode": {
    "name": "ipython",
    "version": 3
   },
   "file_extension": ".py",
   "mimetype": "text/x-python",
   "name": "python",
   "nbconvert_exporter": "python",
   "pygments_lexer": "ipython3",
   "version": "3.9.13"
  }
 },
 "nbformat": 4,
 "nbformat_minor": 2
}
