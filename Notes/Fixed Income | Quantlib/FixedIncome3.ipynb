{
 "cells": [
  {
   "cell_type": "markdown",
   "metadata": {},
   "source": [
    "## QuantLib - Bonds and Spot/Discount Curves"
   ]
  },
  {
   "cell_type": "code",
   "execution_count": null,
   "metadata": {},
   "outputs": [],
   "source": [
    "#!pip install Quantlib-Python"
   ]
  },
  {
   "cell_type": "code",
   "execution_count": 1,
   "metadata": {},
   "outputs": [],
   "source": [
    "# Calculate the present value of a bond's cashflows based on spot rates\n",
    "# using lists/math as well as using QuantLib"
   ]
  },
  {
   "cell_type": "code",
   "execution_count": 2,
   "metadata": {},
   "outputs": [
    {
     "data": {
      "text/plain": [
       "[(0.025, 0.5), (0.025, 1), (0.025, 1.5), (1.025, 2.0)]"
      ]
     },
     "execution_count": 2,
     "metadata": {},
     "output_type": "execute_result"
    }
   ],
   "source": [
    "# represent the bond's flows as a list of (flow, time-in-years)\n",
    "flows = [(.025, .5), (.025, 1), (.025, 1.5), (1.025, 2.0)] # 2yr 5% semi-ann\n",
    "flows"
   ]
  },
  {
   "cell_type": "code",
   "execution_count": 3,
   "metadata": {},
   "outputs": [
    {
     "data": {
      "text/plain": [
       "[0.02, 0.03, 0.04, 0.045]"
      ]
     },
     "execution_count": 3,
     "metadata": {},
     "output_type": "execute_result"
    }
   ],
   "source": [
    "# The spot rates are a list (parallel with the flows) of annual continuously compounded rates\n",
    "spotRates1 = [.02, .03, .04, .045]\n",
    "spotRates1"
   ]
  },
  {
   "cell_type": "code",
   "execution_count": 4,
   "metadata": {},
   "outputs": [
    {
     "name": "stdout",
     "output_type": "stream",
     "text": [
      "t   flow  spot discount pv\n",
      "0.5 0.025 2.00 0.990148 0.024754\n",
      "1.0 0.025 3.00 0.970874 0.024272\n",
      "1.5 0.025 4.00 0.942866 0.023572\n",
      "2.0 1.025 4.50 0.915730 0.938623\n",
      "spot-based price= 101.122\n"
     ]
    }
   ],
   "source": [
    "# flows are discounted/summed to calculate a Net Present Value, based on spot rates\n",
    "import math\n",
    "npv = 0\n",
    "i = 0\n",
    "print('t  ', 'flow ', 'spot', 'discount', 'pv')\n",
    "for flow in flows:\n",
    "    t = flow[1]\n",
    "    #discountFactor = 1 / math.exp(spotRates[i] * t) # this is for continuously compounded rates\n",
    "    discountFactor = 1 / pow(1+spotRates1[i],t) # this is for annual rates\n",
    "    pv = flow[0] * discountFactor\n",
    "    print(\"%.1f\" % t, flow[0], \"%.2f\" % (spotRates1[i]*100), \"%.6f\" % discountFactor, \"%.6f\" % pv)\n",
    "    npv += pv\n",
    "    i += 1\n",
    "print(\"spot-based price=\", \"%.3f\" % (npv*100))"
   ]
  },
  {
   "cell_type": "code",
   "execution_count": 5,
   "metadata": {},
   "outputs": [
    {
     "name": "stdout",
     "output_type": "stream",
     "text": [
      "allowsExtrapolation asObservable calendar dayCounter disableExtrapolation discount enableExtrapolation forwardRate maxDate maxTime referenceDate this thisown zeroRate "
     ]
    }
   ],
   "source": [
    "# using QuantLib\n",
    "# see http://gouthamanbalaraman.com/blog/quantlib-bond-modeling.html\n",
    "# first define the term structure based on zero rates (at cashflow points)\n",
    "import QuantLib as ql\n",
    "todaysDate = ql.Date(31, 12, 2018)\n",
    "ql.Settings.instance().evaluationDate = todaysDate\n",
    "spotDates = [ql.Date(31, 12, 2018),\n",
    "             ql.Date(30, 6, 2019), ql.Date(31, 12, 2019),\n",
    "             ql.Date(30, 6, 2020), ql.Date(31, 12, 2020)]\n",
    "spotRates2 = [0, 0.02, 0.03, .04, .045]\n",
    "dayCount = ql.Thirty360(ql.Thirty360.USA)\n",
    "calendar = ql.UnitedStates(ql.UnitedStates.GovernmentBond)\n",
    "interpolation = ql.Linear()\n",
    "compounding = ql.Compounded\n",
    "compoundingFrequency = ql.Annual\n",
    "spotCurve = ql.ZeroCurve(spotDates, spotRates2, dayCount, calendar, interpolation,\n",
    "                             compounding, compoundingFrequency)\n",
    "spotCurveHandle = ql.YieldTermStructureHandle(spotCurve)\n",
    "type(spotCurveHandle)\n",
    "for method in dir(spotCurveHandle):\n",
    "    if method[0] != \"_\": print(method, end=\" \")"
   ]
  },
  {
   "cell_type": "code",
   "execution_count": 6,
   "metadata": {},
   "outputs": [
    {
     "name": "stdout",
     "output_type": "stream",
     "text": [
      "[Date(31,12,2018), Date(30,6,2019), Date(31,12,2019), Date(30,6,2020), Date(31,12,2020)]\n"
     ]
    }
   ],
   "source": [
    "# define the bond's payment schedule\n",
    "issueDate = ql.Date(31, 12, 2018)\n",
    "maturityDate = ql.Date(31, 12, 2020)\n",
    "tenor = ql.Period(ql.Semiannual)\n",
    "calendar = ql.UnitedStates(ql.UnitedStates.GovernmentBond)\n",
    "bussinessConvention = ql.Unadjusted\n",
    "dateGeneration = ql.DateGeneration.Backward\n",
    "monthEnd = False\n",
    "schedule = ql.Schedule (issueDate, maturityDate, tenor, calendar, bussinessConvention,\n",
    "                            bussinessConvention , dateGeneration, monthEnd)\n",
    "print(list(schedule))"
   ]
  },
  {
   "cell_type": "code",
   "execution_count": 7,
   "metadata": {},
   "outputs": [],
   "source": [
    "# define the bond\n",
    "dayCount = ql.Thirty360(ql.Thirty360.USA)\n",
    "couponRate = .05\n",
    "coupons = [couponRate]\n",
    "settlementDays = 0\n",
    "faceValue = 100\n",
    "fixedRateBond = ql.FixedRateBond(settlementDays, faceValue, schedule, coupons, dayCount)\n",
    "#[f for f in dir(fixedRateBond) if f[0] != '_']"
   ]
  },
  {
   "cell_type": "code",
   "execution_count": 8,
   "metadata": {},
   "outputs": [],
   "source": [
    "# set up a bond engine, using the previously constructed spot curve\n",
    "bondEngine = ql.DiscountingBondEngine(spotCurveHandle)"
   ]
  },
  {
   "cell_type": "code",
   "execution_count": 9,
   "metadata": {},
   "outputs": [
    {
     "name": "stdout",
     "output_type": "stream",
     "text": [
      "101.122\n"
     ]
    }
   ],
   "source": [
    "# calculate the theoretical (full) price of the bond, based on the spot curve\n",
    "fixedRateBond.setPricingEngine(bondEngine)\n",
    "print(\"%.3f\" % fixedRateBond.NPV())"
   ]
  },
  {
   "cell_type": "code",
   "execution_count": null,
   "metadata": {},
   "outputs": [],
   "source": []
  }
 ],
 "metadata": {
  "kernelspec": {
   "display_name": "Python 3 (ipykernel)",
   "language": "python",
   "name": "python3"
  },
  "language_info": {
   "codemirror_mode": {
    "name": "ipython",
    "version": 3
   },
   "file_extension": ".py",
   "mimetype": "text/x-python",
   "name": "python",
   "nbconvert_exporter": "python",
   "pygments_lexer": "ipython3",
   "version": "3.9.13"
  }
 },
 "nbformat": 4,
 "nbformat_minor": 2
}
