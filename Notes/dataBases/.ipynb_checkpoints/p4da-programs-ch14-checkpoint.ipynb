{
 "cells": [
  {
   "cell_type": "markdown",
   "id": "ab2b97cc",
   "metadata": {},
   "source": [
    "Python for Data & Analytics<br>\n",
    "Chapter 14, Example Programs"
   ]
  },
  {
   "cell_type": "markdown",
   "id": "a8a4b2f9",
   "metadata": {},
   "source": [
    "Program 14-1"
   ]
  },
  {
   "cell_type": "code",
   "execution_count": 1,
   "id": "0ef9fdc4",
   "metadata": {},
   "outputs": [
    {
     "name": "stdout",
     "output_type": "stream",
     "text": [
      "[(1, 'M', \"Macy's Inc\"), (2, 'AXP', 'American Express Company'), (3, 'AAPL', 'Apple Inc.'), (4, 'BA', 'The Boeing Company'), (5, 'CAT', 'Caterpillar Inc.'), (6, 'CVX', 'Chevron Corporation'), (7, 'CSCO', 'Cisco Systems Inc.'), (8, 'KO', 'Coca-Cola Company (The)'), (9, 'DIS', 'The Walt Disney Company'), (10, 'DOW', 'Dow Inc.'), (11, 'XOM', 'Exxon Mobil Corporation'), (12, 'GS', 'Goldman Sachs Group Inc. (The)'), (13, 'HD', 'Home Depot Inc. (The)'), (14, 'IBM', 'International Business Machines Corporation'), (15, 'INTC', 'Intel Corporation'), (16, 'JNJ', 'Johnson & Johnson'), (17, 'JPM', 'JP Morgan Chase & Co.'), (18, 'MCD', \"McDonald's Corporation\"), (19, 'MRK', 'Merck & Company Inc. (new)'), (20, 'MSFT', 'Microsoft Corporation'), (21, 'NKE', 'Nike Inc.'), (22, 'PFE', 'Pfizer Inc.'), (23, 'PG', 'Procter & Gamble Company (The)'), (24, 'TRV', 'The Travelers Companies Inc.'), (25, 'UTX', 'United Technologies Corporation'), (26, 'UNH', 'UnitedHealth Group Incorporated (DE)'), (27, 'VZ', 'Verizon Communications Inc.'), (28, 'V', 'Visa Inc.'), (29, 'WMT', 'Walmart Inc.'), (30, 'WBA', 'Walgreens Boots Alliance Inc.')]\n"
     ]
    }
   ],
   "source": [
    "# a minimal Python + SQL example, using SQlite\n",
    "\n",
    "# the sqlite3 package is included in Python 3 distributions\n",
    "import sqlite3 as db\n",
    "\n",
    "# establish a Connection to a SQLite file, indicating the filename\n",
    "connection = db.connect('dj.db')\n",
    "\n",
    "# the Cursor will be used to submit database requests and get results\n",
    "cursor = connection.cursor()\n",
    "\n",
    "# submit a SQL request to the database\n",
    "cursor.execute('SELECT * FROM company')\n",
    "\n",
    "# get the full result set as a matrix represented by a list of tuples\n",
    "rows = cursor.fetchall()\n",
    "\n",
    "# display the rows returned from the database\n",
    "print(rows)"
   ]
  },
  {
   "cell_type": "markdown",
   "id": "5fba4822",
   "metadata": {},
   "source": [
    "Program 14-2"
   ]
  },
  {
   "cell_type": "code",
   "execution_count": 2,
   "id": "14c1019b",
   "metadata": {},
   "outputs": [
    {
     "name": "stdout",
     "output_type": "stream",
     "text": [
      "1|M|Macy's Inc|\n",
      "2|AXP|American Express Company|\n",
      "3|AAPL|Apple Inc.|\n",
      "4|BA|The Boeing Company|\n",
      "5|CAT|Caterpillar Inc.|\n",
      "6|CVX|Chevron Corporation|\n",
      "7|CSCO|Cisco Systems Inc.|\n",
      "8|KO|Coca-Cola Company (The)|\n",
      "9|DIS|The Walt Disney Company|\n",
      "10|DOW|Dow Inc.|\n",
      "11|XOM|Exxon Mobil Corporation|\n",
      "12|GS|Goldman Sachs Group Inc. (The)|\n",
      "13|HD|Home Depot Inc. (The)|\n",
      "14|IBM|International Business Machines Corporation|\n",
      "15|INTC|Intel Corporation|\n",
      "16|JNJ|Johnson & Johnson|\n",
      "17|JPM|JP Morgan Chase & Co.|\n",
      "18|MCD|McDonald's Corporation|\n",
      "19|MRK|Merck & Company Inc. (new)|\n",
      "20|MSFT|Microsoft Corporation|\n",
      "21|NKE|Nike Inc.|\n",
      "22|PFE|Pfizer Inc.|\n",
      "23|PG|Procter & Gamble Company (The)|\n",
      "24|TRV|The Travelers Companies Inc.|\n",
      "25|UTX|United Technologies Corporation|\n",
      "26|UNH|UnitedHealth Group Incorporated (DE)|\n",
      "27|VZ|Verizon Communications Inc.|\n",
      "28|V|Visa Inc.|\n",
      "29|WMT|Walmart Inc.|\n",
      "30|WBA|Walgreens Boots Alliance Inc.|\n"
     ]
    }
   ],
   "source": [
    "# query a SQLite table, and display the results one field at a time\n",
    "import sqlite3 as db\n",
    "\n",
    "# establish a Connection to a SQLite file, indicating the filename\n",
    "connection = db.connect('dj.db')\n",
    "\n",
    "# the Cursor will be used to submit database requests and get results\n",
    "cursor = connection.cursor()\n",
    "\n",
    "# submit a SQL request to the database\n",
    "cursor.execute('SELECT id, ticker, name FROM company')\n",
    "\n",
    "# get the full result set as a matrix represented by a list of tuples\n",
    "rows = cursor.fetchall()\n",
    "\n",
    "# display the rows returned, accessing each field individually\n",
    "for row in rows:\n",
    "   for field in row:\n",
    "      print(field, end='|') # display each field with | separator\n",
    "   print() # go to next line"
   ]
  },
  {
   "cell_type": "markdown",
   "id": "ec0c1285",
   "metadata": {},
   "source": [
    "Program 14-3"
   ]
  },
  {
   "cell_type": "code",
   "execution_count": 3,
   "id": "f12db0a8",
   "metadata": {},
   "outputs": [
    {
     "name": "stdout",
     "output_type": "stream",
     "text": [
      "(1, 'M', \"Macy's Inc\")\n",
      "(2, 'AXP', 'American Express Company')\n",
      "(3, 'AAPL', 'Apple Inc.')\n",
      "(4, 'BA', 'The Boeing Company')\n",
      "(5, 'CAT', 'Caterpillar Inc.')\n"
     ]
    }
   ],
   "source": [
    "# fetchone() gets one result row at a time; used here with while\n",
    "import sqlite3 as db\n",
    "\n",
    "# establish a Connection to a SQLite file, indicating the filename\n",
    "connection = db.connect('dj.db')\n",
    "\n",
    "# the Cursor will be used to submit database requests and get results\n",
    "cursor = connection.cursor()\n",
    "\n",
    "# submit a SQL request to the database\n",
    "cursor.execute('SELECT id, ticker, name FROM company LIMIT 5')\n",
    "\n",
    "# Access and display rows one at a time\n",
    "row = cursor.fetchone()\n",
    "while row != None:\n",
    "   print(row)\n",
    "   row = cursor.fetchone()"
   ]
  },
  {
   "cell_type": "markdown",
   "id": "167405e4",
   "metadata": {},
   "source": [
    "Program 14-4"
   ]
  },
  {
   "cell_type": "code",
   "execution_count": 4,
   "id": "21757d84",
   "metadata": {},
   "outputs": [
    {
     "name": "stdout",
     "output_type": "stream",
     "text": [
      "(1, 'M', \"Macy's Inc\")\n",
      "(2, 'AXP', 'American Express Company')\n",
      "(3, 'AAPL', 'Apple Inc.')\n",
      "(4, 'BA', 'The Boeing Company')\n",
      "(5, 'CAT', 'Caterpillar Inc.')\n"
     ]
    }
   ],
   "source": [
    "# for can be used with the Cursor to get one result row at a time\n",
    "import sqlite3 as db\n",
    "\n",
    "# establish a Connection to a SQLite fi le, indicating the fi lename\n",
    "connection = db.connect('dj.db')\n",
    "\n",
    "# the Cursor will be used to submit database requests and get results\n",
    "cursor = connection.cursor()\n",
    "\n",
    "# submit a SQL request to the database\n",
    "cursor.execute('SELECT id, ticker, name FROM company LIMIT 5')\n",
    "\n",
    "# Access and display rows one at a time\n",
    "for row in cursor:\n",
    "   print(row)"
   ]
  },
  {
   "cell_type": "markdown",
   "id": "f1e7bfa5",
   "metadata": {},
   "source": [
    "Program 14-5"
   ]
  },
  {
   "cell_type": "code",
   "execution_count": 5,
   "id": "5f7a4049",
   "metadata": {},
   "outputs": [
    {
     "name": "stdout",
     "output_type": "stream",
     "text": [
      "   ticker                   company\n",
      "id                                 \n",
      "1       M                Macy's Inc\n",
      "2     AXP  American Express Company\n",
      "3    AAPL                Apple Inc.\n",
      "4      BA        The Boeing Company\n",
      "5     CAT          Caterpillar Inc.\n"
     ]
    }
   ],
   "source": [
    "# query a Python table, and populate the results in a DataFrame\n",
    "import sqlite3 as db\n",
    "import pandas as pd\n",
    "\n",
    "# establish a Connection to a SQLite file, indicating the filename\n",
    "connection = db.connect('dj.db')\n",
    "\n",
    "# the Cursor will be used to submit database requests and get results\n",
    "cursor = connection.cursor()\n",
    "\n",
    "# submit a SQL request to the database\n",
    "cursor.execute('SELECT id, ticker, name FROM company LIMIT 5')\n",
    "\n",
    "# get the full result set as a matrix represented by a list of tuples\n",
    "rows = cursor.fetchall()\n",
    "\n",
    "# place SQL results in a DataFrame\n",
    "df = pd.DataFrame(rows)\n",
    "\n",
    "# Give the DataFrame constructed above meaningful column names\n",
    "df.columns = ['id', 'ticker', 'company']\n",
    "\n",
    "# the id column is a good choice for this DataFrame's index\n",
    "df.set_index('id', inplace=True)\n",
    "print(df)"
   ]
  },
  {
   "cell_type": "markdown",
   "id": "989e1bbf",
   "metadata": {},
   "source": [
    "Program 14-6"
   ]
  },
  {
   "cell_type": "code",
   "execution_count": 6,
   "id": "dc9f3195",
   "metadata": {},
   "outputs": [
    {
     "name": "stdout",
     "output_type": "stream",
     "text": [
      "   ticker                      name\n",
      "id                                 \n",
      "1       M                Macy's Inc\n",
      "2     AXP  American Express Company\n",
      "3    AAPL                Apple Inc.\n",
      "4      BA        The Boeing Company\n",
      "5     CAT          Caterpillar Inc.\n"
     ]
    }
   ],
   "source": [
    "#### Most Concise #######\n",
    "# use read_sql_query to populate SQL results to a DataFrame\n",
    "import sqlite3 as db\n",
    "import pandas as pd\n",
    "\n",
    "connection = db.connect('dj.db')\n",
    "\n",
    "# call the read_sql_query() method, and get the resulting DataFrame\n",
    "df = pd.read_sql_query('SELECT * FROM company LIMIT 5',\n",
    "                        connection, index_col='id')\n",
    "df"
   ]
  },
  {
   "cell_type": "markdown",
   "id": "e76ad00f",
   "metadata": {},
   "source": [
    "Program 14-7"
   ]
  },
  {
   "cell_type": "code",
   "execution_count": 7,
   "id": "9cef940e",
   "metadata": {},
   "outputs": [
    {
     "name": "stdout",
     "output_type": "stream",
     "text": [
      "id\n",
      "ticker\n",
      "name\n"
     ]
    }
   ],
   "source": [
    "# the Cursor.description property provides field names of the result\n",
    "import sqlite3 as db\n",
    "connection = db.connect('dj.db')\n",
    "cursor = connection.cursor()\n",
    "cursor.execute('SELECT * FROM company')\n",
    "\n",
    "# display the field names of the returned result\n",
    "for fieldinfo in cursor.description:\n",
    "  print(fieldinfo[0])"
   ]
  },
  {
   "cell_type": "markdown",
   "id": "ec86c61a",
   "metadata": {},
   "source": [
    "Program 14-8"
   ]
  },
  {
   "cell_type": "code",
   "execution_count": 8,
   "id": "5dea5def",
   "metadata": {},
   "outputs": [
    {
     "name": "stdout",
     "output_type": "stream",
     "text": [
      "('AAPL', '2017-12-26', 341.14)\n",
      "('AAPL', '2017-12-27', 341.2)\n",
      "('AAPL', '2017-12-28', 342.16)\n",
      "('AAPL', '2017-12-29', 338.46)\n"
     ]
    }
   ],
   "source": [
    "# Use SQL to join 2 tables; statements are similar to 1- table queries\n",
    "import sqlite3 as db\n",
    "connection = db.connect('dj.db')\n",
    "cursor = connection.cursor()\n",
    "\n",
    "# define a 2- table query\n",
    "query = \"\"\"\n",
    "SELECT ticker, date, closing\n",
    "FROM company, daily_measures\n",
    "WHERE company.id = daily_measures.ticker_id\n",
    "AND company.id = 3\n",
    "AND date >= '2017-12-26'\n",
    "ORDER BY date\"\"\"\n",
    "\n",
    "# execute the query and display the result, similar to a 1- table query\n",
    "cursor.execute(query)\n",
    "rows = cursor.fetchall()\n",
    "for row in rows:\n",
    "   print(row)"
   ]
  },
  {
   "cell_type": "markdown",
   "id": "33d85548",
   "metadata": {},
   "source": [
    "Program 14-9"
   ]
  },
  {
   "cell_type": "code",
   "execution_count": 9,
   "id": "5b1db8a1",
   "metadata": {},
   "outputs": [
    {
     "name": "stdout",
     "output_type": "stream",
     "text": [
      "no such table: companies\n"
     ]
    }
   ],
   "source": [
    "# As with file IO, Exceptions should be handled with database processing\n",
    "# This example uses one try/except to cover a set of statements\n",
    "import sqlite3 as db\n",
    "try:\n",
    "   connection = db.connect('dj.db')\n",
    "   cursor = connection.cursor()\n",
    "   cursor.execute('SELECT * FROM companies') # correct table name:company\n",
    "   rows = cursor.fetchall()\n",
    "   print(rows)\n",
    "except Exception as e:\n",
    "   print(e)"
   ]
  },
  {
   "cell_type": "markdown",
   "id": "43f3affc",
   "metadata": {},
   "source": [
    "Program 14-10"
   ]
  },
  {
   "cell_type": "code",
   "execution_count": 10,
   "id": "7b99dd5d",
   "metadata": {},
   "outputs": [
    {
     "name": "stderr",
     "output_type": "stream",
     "text": [
      "ERROR:root:Internal Python error in the inspect module.\n",
      "Below is the traceback from this internal error.\n",
      "\n"
     ]
    },
    {
     "name": "stdout",
     "output_type": "stream",
     "text": [
      "2 no such table: companies\n",
      "Traceback (most recent call last):\n",
      "  File \"/var/folders/19/5cf7rxxx46z8z6ct0ntffh5m0000gn/T/ipykernel_3653/1965574499.py\", line 13, in <module>\n",
      "    cursor.execute('SELECT * FROM companies')\n",
      "sqlite3.OperationalError: no such table: companies\n",
      "\n",
      "During handling of the above exception, another exception occurred:\n",
      "\n",
      "Traceback (most recent call last):\n",
      "  File \"/Applications/anaconda3/lib/python3.9/site-packages/IPython/core/interactiveshell.py\", line 3457, in run_code\n",
      "    exec(code_obj, self.user_global_ns, self.user_ns)\n",
      "  File \"/var/folders/19/5cf7rxxx46z8z6ct0ntffh5m0000gn/T/ipykernel_3653/1965574499.py\", line 16, in <module>\n",
      "    sys.exit(2)\n",
      "SystemExit: 2\n",
      "\n",
      "During handling of the above exception, another exception occurred:\n",
      "\n",
      "Traceback (most recent call last):\n",
      "  File \"/Applications/anaconda3/lib/python3.9/site-packages/IPython/core/ultratb.py\", line 1101, in get_records\n",
      "    return _fixed_getinnerframes(etb, number_of_lines_of_context, tb_offset)\n",
      "  File \"/Applications/anaconda3/lib/python3.9/site-packages/IPython/core/ultratb.py\", line 248, in wrapped\n",
      "    return f(*args, **kwargs)\n",
      "  File \"/Applications/anaconda3/lib/python3.9/site-packages/IPython/core/ultratb.py\", line 281, in _fixed_getinnerframes\n",
      "    records = fix_frame_records_filenames(inspect.getinnerframes(etb, context))\n",
      "  File \"/Applications/anaconda3/lib/python3.9/inspect.py\", line 1543, in getinnerframes\n",
      "    frameinfo = (tb.tb_frame,) + getframeinfo(tb, context)\n",
      "AttributeError: 'tuple' object has no attribute 'tb_frame'\n"
     ]
    },
    {
     "ename": "TypeError",
     "evalue": "object of type 'NoneType' has no len()",
     "output_type": "error",
     "traceback": [
      "\u001b[0;31m---------------------------------------------------------------------------\u001b[0m",
      "\u001b[0;31mOperationalError\u001b[0m                          Traceback (most recent call last)",
      "\u001b[0;32m/var/folders/19/5cf7rxxx46z8z6ct0ntffh5m0000gn/T/ipykernel_3653/1965574499.py\u001b[0m in \u001b[0;36m<module>\u001b[0;34m\u001b[0m\n\u001b[1;32m     12\u001b[0m    \u001b[0mcursor\u001b[0m \u001b[0;34m=\u001b[0m \u001b[0mconnection\u001b[0m\u001b[0;34m.\u001b[0m\u001b[0mcursor\u001b[0m\u001b[0;34m(\u001b[0m\u001b[0;34m)\u001b[0m\u001b[0;34m\u001b[0m\u001b[0;34m\u001b[0m\u001b[0m\n\u001b[0;32m---> 13\u001b[0;31m    \u001b[0mcursor\u001b[0m\u001b[0;34m.\u001b[0m\u001b[0mexecute\u001b[0m\u001b[0;34m(\u001b[0m\u001b[0;34m'SELECT * FROM companies'\u001b[0m\u001b[0;34m)\u001b[0m\u001b[0;34m\u001b[0m\u001b[0;34m\u001b[0m\u001b[0m\n\u001b[0m\u001b[1;32m     14\u001b[0m \u001b[0;32mexcept\u001b[0m \u001b[0mException\u001b[0m \u001b[0;32mas\u001b[0m \u001b[0me\u001b[0m\u001b[0;34m:\u001b[0m\u001b[0;34m\u001b[0m\u001b[0;34m\u001b[0m\u001b[0m\n",
      "\u001b[0;31mOperationalError\u001b[0m: no such table: companies",
      "\nDuring handling of the above exception, another exception occurred:\n",
      "\u001b[0;31mSystemExit\u001b[0m                                Traceback (most recent call last)",
      "    \u001b[0;31m[... skipping hidden 1 frame]\u001b[0m\n",
      "\u001b[0;32m/var/folders/19/5cf7rxxx46z8z6ct0ntffh5m0000gn/T/ipykernel_3653/1965574499.py\u001b[0m in \u001b[0;36m<module>\u001b[0;34m\u001b[0m\n\u001b[1;32m     15\u001b[0m    \u001b[0mprint\u001b[0m\u001b[0;34m(\u001b[0m\u001b[0;36m2\u001b[0m\u001b[0;34m,\u001b[0m \u001b[0me\u001b[0m\u001b[0;34m)\u001b[0m\u001b[0;34m\u001b[0m\u001b[0;34m\u001b[0m\u001b[0m\n\u001b[0;32m---> 16\u001b[0;31m    \u001b[0msys\u001b[0m\u001b[0;34m.\u001b[0m\u001b[0mexit\u001b[0m\u001b[0;34m(\u001b[0m\u001b[0;36m2\u001b[0m\u001b[0;34m)\u001b[0m\u001b[0;34m\u001b[0m\u001b[0;34m\u001b[0m\u001b[0m\n\u001b[0m\u001b[1;32m     17\u001b[0m \u001b[0;34m\u001b[0m\u001b[0m\n",
      "\u001b[0;31mSystemExit\u001b[0m: 2",
      "\nDuring handling of the above exception, another exception occurred:\n",
      "\u001b[0;31mTypeError\u001b[0m                                 Traceback (most recent call last)",
      "    \u001b[0;31m[... skipping hidden 1 frame]\u001b[0m\n",
      "\u001b[0;32m/Applications/anaconda3/lib/python3.9/site-packages/IPython/core/interactiveshell.py\u001b[0m in \u001b[0;36mshowtraceback\u001b[0;34m(self, exc_tuple, filename, tb_offset, exception_only, running_compiled_code)\u001b[0m\n\u001b[1;32m   2068\u001b[0m                     stb = ['An exception has occurred, use %tb to see '\n\u001b[1;32m   2069\u001b[0m                            'the full traceback.\\n']\n\u001b[0;32m-> 2070\u001b[0;31m                     stb.extend(self.InteractiveTB.get_exception_only(etype,\n\u001b[0m\u001b[1;32m   2071\u001b[0m                                                                      value))\n\u001b[1;32m   2072\u001b[0m                 \u001b[0;32melse\u001b[0m\u001b[0;34m:\u001b[0m\u001b[0;34m\u001b[0m\u001b[0;34m\u001b[0m\u001b[0m\n",
      "\u001b[0;32m/Applications/anaconda3/lib/python3.9/site-packages/IPython/core/ultratb.py\u001b[0m in \u001b[0;36mget_exception_only\u001b[0;34m(self, etype, value)\u001b[0m\n\u001b[1;32m    752\u001b[0m         \u001b[0mvalue\u001b[0m \u001b[0;34m:\u001b[0m \u001b[0mexception\u001b[0m \u001b[0mvalue\u001b[0m\u001b[0;34m\u001b[0m\u001b[0;34m\u001b[0m\u001b[0m\n\u001b[1;32m    753\u001b[0m         \"\"\"\n\u001b[0;32m--> 754\u001b[0;31m         \u001b[0;32mreturn\u001b[0m \u001b[0mListTB\u001b[0m\u001b[0;34m.\u001b[0m\u001b[0mstructured_traceback\u001b[0m\u001b[0;34m(\u001b[0m\u001b[0mself\u001b[0m\u001b[0;34m,\u001b[0m \u001b[0metype\u001b[0m\u001b[0;34m,\u001b[0m \u001b[0mvalue\u001b[0m\u001b[0;34m)\u001b[0m\u001b[0;34m\u001b[0m\u001b[0;34m\u001b[0m\u001b[0m\n\u001b[0m\u001b[1;32m    755\u001b[0m \u001b[0;34m\u001b[0m\u001b[0m\n\u001b[1;32m    756\u001b[0m     \u001b[0;32mdef\u001b[0m \u001b[0mshow_exception_only\u001b[0m\u001b[0;34m(\u001b[0m\u001b[0mself\u001b[0m\u001b[0;34m,\u001b[0m \u001b[0metype\u001b[0m\u001b[0;34m,\u001b[0m \u001b[0mevalue\u001b[0m\u001b[0;34m)\u001b[0m\u001b[0;34m:\u001b[0m\u001b[0;34m\u001b[0m\u001b[0;34m\u001b[0m\u001b[0m\n",
      "\u001b[0;32m/Applications/anaconda3/lib/python3.9/site-packages/IPython/core/ultratb.py\u001b[0m in \u001b[0;36mstructured_traceback\u001b[0;34m(self, etype, evalue, etb, tb_offset, context)\u001b[0m\n\u001b[1;32m    627\u001b[0m             \u001b[0mchained_exceptions_tb_offset\u001b[0m \u001b[0;34m=\u001b[0m \u001b[0;36m0\u001b[0m\u001b[0;34m\u001b[0m\u001b[0;34m\u001b[0m\u001b[0m\n\u001b[1;32m    628\u001b[0m             out_list = (\n\u001b[0;32m--> 629\u001b[0;31m                 self.structured_traceback(\n\u001b[0m\u001b[1;32m    630\u001b[0m                     \u001b[0metype\u001b[0m\u001b[0;34m,\u001b[0m \u001b[0mevalue\u001b[0m\u001b[0;34m,\u001b[0m \u001b[0;34m(\u001b[0m\u001b[0metb\u001b[0m\u001b[0;34m,\u001b[0m \u001b[0mchained_exc_ids\u001b[0m\u001b[0;34m)\u001b[0m\u001b[0;34m,\u001b[0m\u001b[0;34m\u001b[0m\u001b[0;34m\u001b[0m\u001b[0m\n\u001b[1;32m    631\u001b[0m                     chained_exceptions_tb_offset, context)\n",
      "\u001b[0;32m/Applications/anaconda3/lib/python3.9/site-packages/IPython/core/ultratb.py\u001b[0m in \u001b[0;36mstructured_traceback\u001b[0;34m(self, etype, value, tb, tb_offset, number_of_lines_of_context)\u001b[0m\n\u001b[1;32m   1365\u001b[0m         \u001b[0;32melse\u001b[0m\u001b[0;34m:\u001b[0m\u001b[0;34m\u001b[0m\u001b[0;34m\u001b[0m\u001b[0m\n\u001b[1;32m   1366\u001b[0m             \u001b[0mself\u001b[0m\u001b[0;34m.\u001b[0m\u001b[0mtb\u001b[0m \u001b[0;34m=\u001b[0m \u001b[0mtb\u001b[0m\u001b[0;34m\u001b[0m\u001b[0;34m\u001b[0m\u001b[0m\n\u001b[0;32m-> 1367\u001b[0;31m         return FormattedTB.structured_traceback(\n\u001b[0m\u001b[1;32m   1368\u001b[0m             self, etype, value, tb, tb_offset, number_of_lines_of_context)\n\u001b[1;32m   1369\u001b[0m \u001b[0;34m\u001b[0m\u001b[0m\n",
      "\u001b[0;32m/Applications/anaconda3/lib/python3.9/site-packages/IPython/core/ultratb.py\u001b[0m in \u001b[0;36mstructured_traceback\u001b[0;34m(self, etype, value, tb, tb_offset, number_of_lines_of_context)\u001b[0m\n\u001b[1;32m   1265\u001b[0m         \u001b[0;32mif\u001b[0m \u001b[0mmode\u001b[0m \u001b[0;32min\u001b[0m \u001b[0mself\u001b[0m\u001b[0;34m.\u001b[0m\u001b[0mverbose_modes\u001b[0m\u001b[0;34m:\u001b[0m\u001b[0;34m\u001b[0m\u001b[0;34m\u001b[0m\u001b[0m\n\u001b[1;32m   1266\u001b[0m             \u001b[0;31m# Verbose modes need a full traceback\u001b[0m\u001b[0;34m\u001b[0m\u001b[0;34m\u001b[0m\u001b[0m\n\u001b[0;32m-> 1267\u001b[0;31m             return VerboseTB.structured_traceback(\n\u001b[0m\u001b[1;32m   1268\u001b[0m                 \u001b[0mself\u001b[0m\u001b[0;34m,\u001b[0m \u001b[0metype\u001b[0m\u001b[0;34m,\u001b[0m \u001b[0mvalue\u001b[0m\u001b[0;34m,\u001b[0m \u001b[0mtb\u001b[0m\u001b[0;34m,\u001b[0m \u001b[0mtb_offset\u001b[0m\u001b[0;34m,\u001b[0m \u001b[0mnumber_of_lines_of_context\u001b[0m\u001b[0;34m\u001b[0m\u001b[0;34m\u001b[0m\u001b[0m\n\u001b[1;32m   1269\u001b[0m             )\n",
      "\u001b[0;32m/Applications/anaconda3/lib/python3.9/site-packages/IPython/core/ultratb.py\u001b[0m in \u001b[0;36mstructured_traceback\u001b[0;34m(self, etype, evalue, etb, tb_offset, number_of_lines_of_context)\u001b[0m\n\u001b[1;32m   1122\u001b[0m         \u001b[0;34m\"\"\"Return a nice text document describing the traceback.\"\"\"\u001b[0m\u001b[0;34m\u001b[0m\u001b[0;34m\u001b[0m\u001b[0m\n\u001b[1;32m   1123\u001b[0m \u001b[0;34m\u001b[0m\u001b[0m\n\u001b[0;32m-> 1124\u001b[0;31m         formatted_exception = self.format_exception_as_a_whole(etype, evalue, etb, number_of_lines_of_context,\n\u001b[0m\u001b[1;32m   1125\u001b[0m                                                                tb_offset)\n\u001b[1;32m   1126\u001b[0m \u001b[0;34m\u001b[0m\u001b[0m\n",
      "\u001b[0;32m/Applications/anaconda3/lib/python3.9/site-packages/IPython/core/ultratb.py\u001b[0m in \u001b[0;36mformat_exception_as_a_whole\u001b[0;34m(self, etype, evalue, etb, number_of_lines_of_context, tb_offset)\u001b[0m\n\u001b[1;32m   1080\u001b[0m \u001b[0;34m\u001b[0m\u001b[0m\n\u001b[1;32m   1081\u001b[0m \u001b[0;34m\u001b[0m\u001b[0m\n\u001b[0;32m-> 1082\u001b[0;31m         \u001b[0mlast_unique\u001b[0m\u001b[0;34m,\u001b[0m \u001b[0mrecursion_repeat\u001b[0m \u001b[0;34m=\u001b[0m \u001b[0mfind_recursion\u001b[0m\u001b[0;34m(\u001b[0m\u001b[0morig_etype\u001b[0m\u001b[0;34m,\u001b[0m \u001b[0mevalue\u001b[0m\u001b[0;34m,\u001b[0m \u001b[0mrecords\u001b[0m\u001b[0;34m)\u001b[0m\u001b[0;34m\u001b[0m\u001b[0;34m\u001b[0m\u001b[0m\n\u001b[0m\u001b[1;32m   1083\u001b[0m \u001b[0;34m\u001b[0m\u001b[0m\n\u001b[1;32m   1084\u001b[0m         \u001b[0mframes\u001b[0m \u001b[0;34m=\u001b[0m \u001b[0mself\u001b[0m\u001b[0;34m.\u001b[0m\u001b[0mformat_records\u001b[0m\u001b[0;34m(\u001b[0m\u001b[0mrecords\u001b[0m\u001b[0;34m,\u001b[0m \u001b[0mlast_unique\u001b[0m\u001b[0;34m,\u001b[0m \u001b[0mrecursion_repeat\u001b[0m\u001b[0;34m)\u001b[0m\u001b[0;34m\u001b[0m\u001b[0;34m\u001b[0m\u001b[0m\n",
      "\u001b[0;32m/Applications/anaconda3/lib/python3.9/site-packages/IPython/core/ultratb.py\u001b[0m in \u001b[0;36mfind_recursion\u001b[0;34m(etype, value, records)\u001b[0m\n\u001b[1;32m    380\u001b[0m     \u001b[0;31m# first frame (from in to out) that looks different.\u001b[0m\u001b[0;34m\u001b[0m\u001b[0;34m\u001b[0m\u001b[0m\n\u001b[1;32m    381\u001b[0m     \u001b[0;32mif\u001b[0m \u001b[0;32mnot\u001b[0m \u001b[0mis_recursion_error\u001b[0m\u001b[0;34m(\u001b[0m\u001b[0metype\u001b[0m\u001b[0;34m,\u001b[0m \u001b[0mvalue\u001b[0m\u001b[0;34m,\u001b[0m \u001b[0mrecords\u001b[0m\u001b[0;34m)\u001b[0m\u001b[0;34m:\u001b[0m\u001b[0;34m\u001b[0m\u001b[0;34m\u001b[0m\u001b[0m\n\u001b[0;32m--> 382\u001b[0;31m         \u001b[0;32mreturn\u001b[0m \u001b[0mlen\u001b[0m\u001b[0;34m(\u001b[0m\u001b[0mrecords\u001b[0m\u001b[0;34m)\u001b[0m\u001b[0;34m,\u001b[0m \u001b[0;36m0\u001b[0m\u001b[0;34m\u001b[0m\u001b[0;34m\u001b[0m\u001b[0m\n\u001b[0m\u001b[1;32m    383\u001b[0m \u001b[0;34m\u001b[0m\u001b[0m\n\u001b[1;32m    384\u001b[0m     \u001b[0;31m# Select filename, lineno, func_name to track frames with\u001b[0m\u001b[0;34m\u001b[0m\u001b[0;34m\u001b[0m\u001b[0m\n",
      "\u001b[0;31mTypeError\u001b[0m: object of type 'NoneType' has no len()"
     ]
    }
   ],
   "source": [
    "# In contrast with Example 14- 10, this uses several try/except statements\n",
    "# More targeted exception handling can give more control over problems\n",
    "import sys\n",
    "import sqlite3 as db\n",
    "try:\n",
    "   connection = db.connect('dj.db')\n",
    "except Exception as e:\n",
    "   print(1, e)\n",
    "   sys.exit(1)\n",
    "   \n",
    "try:\n",
    "   cursor = connection.cursor()\n",
    "   cursor.execute('SELECT * FROM companies')\n",
    "except Exception as e:\n",
    "   print(2, e)\n",
    "   sys.exit(2)\n",
    "\n",
    "try:\n",
    "   rows = cursor.fetchall()\n",
    "   print(rows)\n",
    "except Exception as e:\n",
    "  print(3, e)\n",
    "  sys.exit(3)"
   ]
  },
  {
   "cell_type": "markdown",
   "id": "92642b20",
   "metadata": {},
   "source": [
    "Program 14-11"
   ]
  },
  {
   "cell_type": "code",
   "execution_count": null,
   "id": "8e5baa97",
   "metadata": {},
   "outputs": [],
   "source": [
    "# Query a table and display each value and its Python type using fetchone()\n",
    "import sqlite3 as db\n",
    "connection = db.connect('dj.db')\n",
    "cursor = connection.cursor()\n",
    "cursor.execute('SELECT id, ticker, name FROM company')\n",
    "row = cursor.fetchone()\n",
    "if row != None:\n",
    "  for field in row:\n",
    "    print(type(field), '|', field)"
   ]
  },
  {
   "cell_type": "markdown",
   "id": "46b38883",
   "metadata": {},
   "source": [
    "Code from: Python for Data & Analytics, (c) 2023 Rose River Software, LLC"
   ]
  }
 ],
 "metadata": {
  "kernelspec": {
   "display_name": "Python 3 (ipykernel)",
   "language": "python",
   "name": "python3"
  },
  "language_info": {
   "codemirror_mode": {
    "name": "ipython",
    "version": 3
   },
   "file_extension": ".py",
   "mimetype": "text/x-python",
   "name": "python",
   "nbconvert_exporter": "python",
   "pygments_lexer": "ipython3",
   "version": "3.9.13"
  }
 },
 "nbformat": 4,
 "nbformat_minor": 5
}
