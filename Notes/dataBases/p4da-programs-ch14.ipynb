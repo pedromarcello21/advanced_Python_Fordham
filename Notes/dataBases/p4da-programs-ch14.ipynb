{
 "cells": [
  {
   "cell_type": "markdown",
   "id": "ab2b97cc",
   "metadata": {},
   "source": [
    "Python for Data & Analytics<br>\n",
    "Chapter 14, Example Programs"
   ]
  },
  {
   "cell_type": "markdown",
   "id": "a8a4b2f9",
   "metadata": {},
   "source": [
    "Program 14-1"
   ]
  },
  {
   "cell_type": "code",
   "execution_count": null,
   "id": "0ef9fdc4",
   "metadata": {},
   "outputs": [],
   "source": [
    "# a minimal Python + SQL example, using SQlite\n",
    "\n",
    "# the sqlite3 package is included in Python 3 distributions\n",
    "import sqlite3 as db\n",
    "\n",
    "# establish a Connection to a SQLite file, indicating the filename\n",
    "connection = db.connect('dj.db')\n",
    "\n",
    "# the Cursor will be used to submit database requests and get results\n",
    "cursor = connection.cursor()\n",
    "\n",
    "# submit a SQL request to the database\n",
    "cursor.execute('SELECT * FROM company')\n",
    "\n",
    "# get the full result set as a matrix represented by a list of tuples\n",
    "rows = cursor.fetchall()\n",
    "\n",
    "# display the rows returned from the database\n",
    "print(rows)"
   ]
  },
  {
   "cell_type": "markdown",
   "id": "5fba4822",
   "metadata": {},
   "source": [
    "Program 14-2"
   ]
  },
  {
   "cell_type": "code",
   "execution_count": null,
   "id": "14c1019b",
   "metadata": {},
   "outputs": [],
   "source": [
    "# query a SQLite table, and display the results one field at a time\n",
    "import sqlite3 as db\n",
    "\n",
    "# establish a Connection to a SQLite file, indicating the filename\n",
    "connection = db.connect('dj.db')\n",
    "\n",
    "# the Cursor will be used to submit database requests and get results\n",
    "cursor = connection.cursor()\n",
    "\n",
    "# submit a SQL request to the database\n",
    "cursor.execute('SELECT id, ticker, name FROM company')\n",
    "\n",
    "# get the full result set as a matrix represented by a list of tuples\n",
    "rows = cursor.fetchall()\n",
    "\n",
    "# display the rows returned, accessing each field individually\n",
    "for row in rows:\n",
    "   for field in row:\n",
    "      print(field, end='|') # display each field with | separator\n",
    "   print() # go to next line"
   ]
  },
  {
   "cell_type": "markdown",
   "id": "ec0c1285",
   "metadata": {},
   "source": [
    "Program 14-3"
   ]
  },
  {
   "cell_type": "code",
   "execution_count": null,
   "id": "f12db0a8",
   "metadata": {},
   "outputs": [],
   "source": [
    "# fetchone() gets one result row at a time; used here with while\n",
    "import sqlite3 as db\n",
    "\n",
    "# establish a Connection to a SQLite file, indicating the filename\n",
    "connection = db.connect('dj.db')\n",
    "\n",
    "# the Cursor will be used to submit database requests and get results\n",
    "cursor = connection.cursor()\n",
    "\n",
    "# submit a SQL request to the database\n",
    "cursor.execute('SELECT id, ticker, name FROM company LIMIT 5')\n",
    "\n",
    "# Access and display rows one at a time\n",
    "row = cursor.fetchone()\n",
    "while row != None:\n",
    "   print(row)\n",
    "   row = cursor.fetchone()"
   ]
  },
  {
   "cell_type": "markdown",
   "id": "167405e4",
   "metadata": {},
   "source": [
    "Program 14-4"
   ]
  },
  {
   "cell_type": "code",
   "execution_count": null,
   "id": "21757d84",
   "metadata": {},
   "outputs": [],
   "source": [
    "# for can be used with the Cursor to get one result row at a time\n",
    "import sqlite3 as db\n",
    "\n",
    "# establish a Connection to a SQLite fi le, indicating the fi lename\n",
    "connection = db.connect('dj.db')\n",
    "\n",
    "# the Cursor will be used to submit database requests and get results\n",
    "cursor = connection.cursor()\n",
    "\n",
    "# submit a SQL request to the database\n",
    "cursor.execute('SELECT id, ticker, name FROM company LIMIT 5')\n",
    "\n",
    "# Access and display rows one at a time\n",
    "for row in cursor:\n",
    "   print(row)"
   ]
  },
  {
   "cell_type": "markdown",
   "id": "f1e7bfa5",
   "metadata": {},
   "source": [
    "Program 14-5"
   ]
  },
  {
   "cell_type": "code",
   "execution_count": null,
   "id": "5f7a4049",
   "metadata": {},
   "outputs": [],
   "source": [
    "# query a Python table, and populate the results in a DataFrame\n",
    "import sqlite3 as db\n",
    "import pandas as pd\n",
    "\n",
    "# establish a Connection to a SQLite file, indicating the filename\n",
    "connection = db.connect('dj.db')\n",
    "\n",
    "# the Cursor will be used to submit database requests and get results\n",
    "cursor = connection.cursor()\n",
    "\n",
    "# submit a SQL request to the database\n",
    "cursor.execute('SELECT id, ticker, name FROM company LIMIT 5')\n",
    "\n",
    "# get the full result set as a matrix represented by a list of tuples\n",
    "rows = cursor.fetchall()\n",
    "\n",
    "# place SQL results in a DataFrame\n",
    "df = pd.DataFrame(rows)\n",
    "\n",
    "# Give the DataFrame constructed above meaningful column names\n",
    "df.columns = ['id', 'ticker', 'company']\n",
    "\n",
    "# the id column is a good choice for this DataFrame's index\n",
    "df.set_index('id', inplace=True)\n",
    "print(df)"
   ]
  },
  {
   "cell_type": "markdown",
   "id": "989e1bbf",
   "metadata": {},
   "source": [
    "Program 14-6"
   ]
  },
  {
   "cell_type": "code",
   "execution_count": null,
   "id": "dc9f3195",
   "metadata": {},
   "outputs": [],
   "source": [
    "# use read_sql_query to populate SQL results to a DataFrame\n",
    "import sqlite3 as db\n",
    "import pandas as pd\n",
    "\n",
    "connection = db.connect('dj.db')\n",
    "\n",
    "# call the read_sql_query() method, and get the resulting DataFrame\n",
    "df = pd.read_sql_query('SELECT * FROM company LIMIT 5',\n",
    "                        connection, index_col='id')\n",
    "print(df)"
   ]
  },
  {
   "cell_type": "markdown",
   "id": "e76ad00f",
   "metadata": {},
   "source": [
    "Program 14-7"
   ]
  },
  {
   "cell_type": "code",
   "execution_count": null,
   "id": "9cef940e",
   "metadata": {},
   "outputs": [],
   "source": [
    "# the Cursor.description property provides field names of the result\n",
    "import sqlite3 as db\n",
    "connection = db.connect('dj.db')\n",
    "cursor = connection.cursor()\n",
    "cursor.execute('SELECT * FROM company')\n",
    "\n",
    "# display the field names of the returned result\n",
    "for fieldinfo in cursor.description:\n",
    "  print(fieldinfo[0])"
   ]
  },
  {
   "cell_type": "markdown",
   "id": "ec86c61a",
   "metadata": {},
   "source": [
    "Program 14-8"
   ]
  },
  {
   "cell_type": "code",
   "execution_count": null,
   "id": "5dea5def",
   "metadata": {},
   "outputs": [],
   "source": [
    "# Use SQL to join 2 tables; statements are similar to 1- table queries\n",
    "import sqlite3 as db\n",
    "connection = db.connect('dj.db')\n",
    "cursor = connection.cursor()\n",
    "\n",
    "# define a 2- table query\n",
    "query = \"\"\"\n",
    "SELECT ticker, date, closing\n",
    "FROM company, daily_measures\n",
    "WHERE company.id = daily_measures.ticker_id\n",
    "AND company.id = 3\n",
    "AND date >= '2017-12-26'\n",
    "ORDER BY date\"\"\"\n",
    "\n",
    "# execute the query and display the result, similar to a 1- table query\n",
    "cursor.execute(query)\n",
    "rows = cursor.fetchall()\n",
    "for row in rows:\n",
    "   print(row)"
   ]
  },
  {
   "cell_type": "markdown",
   "id": "33d85548",
   "metadata": {},
   "source": [
    "Program 14-9"
   ]
  },
  {
   "cell_type": "code",
   "execution_count": null,
   "id": "5b1db8a1",
   "metadata": {},
   "outputs": [],
   "source": [
    "# As with file IO, Exceptions should be handled with database processing\n",
    "# This example uses one try/except to cover a set of statements\n",
    "import sqlite3 as db\n",
    "try:\n",
    "   connection = db.connect('dj.db')\n",
    "   cursor = connection.cursor()\n",
    "   cursor.execute('SELECT * FROM companies') # correct table name:company\n",
    "   rows = cursor.fetchall()\n",
    "   print(rows)\n",
    "except Exception as e:\n",
    "   print(e)"
   ]
  },
  {
   "cell_type": "markdown",
   "id": "43f3affc",
   "metadata": {},
   "source": [
    "Program 14-10"
   ]
  },
  {
   "cell_type": "code",
   "execution_count": null,
   "id": "7b99dd5d",
   "metadata": {},
   "outputs": [],
   "source": [
    "# In contrast with Example 14- 10, this uses several try/except statements\n",
    "# More targeted exception handling can give more control over problems\n",
    "import sys\n",
    "import sqlite3 as db\n",
    "try:\n",
    "   connection = db.connect('dj.db')\n",
    "except Exception as e:\n",
    "   print(1, e)\n",
    "   sys.exit(1)\n",
    "   \n",
    "try:\n",
    "   cursor = connection.cursor()\n",
    "   cursor.execute('SELECT * FROM companies')\n",
    "except Exception as e:\n",
    "   print(2, e)\n",
    "   sys.exit(2)\n",
    "\n",
    "try:\n",
    "   rows = cursor.fetchall()\n",
    "   print(rows)\n",
    "except Exception as e:\n",
    "  print(3, e)\n",
    "  sys.exit(3)"
   ]
  },
  {
   "cell_type": "markdown",
   "id": "92642b20",
   "metadata": {},
   "source": [
    "Program 14-11"
   ]
  },
  {
   "cell_type": "code",
   "execution_count": null,
   "id": "8e5baa97",
   "metadata": {},
   "outputs": [],
   "source": [
    "# Query a table and display each value and its Python type using fetchone()\n",
    "import sqlite3 as db\n",
    "connection = db.connect('dj.db')\n",
    "cursor = connection.cursor()\n",
    "cursor.execute('SELECT id, ticker, name FROM company')\n",
    "row = cursor.fetchone()\n",
    "if row != None:\n",
    "  for field in row:\n",
    "    print(type(field), '|', field)"
   ]
  },
  {
   "cell_type": "markdown",
   "id": "46b38883",
   "metadata": {},
   "source": [
    "Code from: Python for Data & Analytics, (c) 2023 Rose River Software, LLC"
   ]
  }
 ],
 "metadata": {
  "kernelspec": {
   "display_name": "Python 3 (ipykernel)",
   "language": "python",
   "name": "python3"
  },
  "language_info": {
   "codemirror_mode": {
    "name": "ipython",
    "version": 3
   },
   "file_extension": ".py",
   "mimetype": "text/x-python",
   "name": "python",
   "nbconvert_exporter": "python",
   "pygments_lexer": "ipython3",
   "version": "3.9.13"
  }
 },
 "nbformat": 4,
 "nbformat_minor": 5
}
