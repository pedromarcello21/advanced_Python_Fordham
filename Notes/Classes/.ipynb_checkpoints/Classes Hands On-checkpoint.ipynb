{
 "cells": [
  {
   "cell_type": "code",
   "execution_count": 1,
   "id": "08ab7d31",
   "metadata": {},
   "outputs": [],
   "source": [
    "class Greeting:\n",
    "    def __init__ (self,first,last):\n",
    "        self.first = first\n",
    "        self.last = last\n",
    "    def __str__(self):\n",
    "        return self.first+\",\"+self.last\n",
    "    __repr__ = __str__\n",
    "    def display(self,formal = False):\n",
    "        if formal == True:\n",
    "            print(\"Hello\",self.first,self.last)\n",
    "        else:\n",
    "            print(\"Hi\", self.first)"
   ]
  },
  {
   "cell_type": "code",
   "execution_count": 5,
   "id": "5757daea",
   "metadata": {},
   "outputs": [
    {
     "name": "stdout",
     "output_type": "stream",
     "text": [
      "Hello Donald Becker\n"
     ]
    },
    {
     "data": {
      "text/plain": [
       "Donald,Becker"
      ]
     },
     "execution_count": 5,
     "metadata": {},
     "output_type": "execute_result"
    }
   ],
   "source": [
    "greeting = Greeting(\"Donald\",\"Becker\")\n",
    "greeting.display(formal = True)\n",
    "greeting"
   ]
  },
  {
   "cell_type": "code",
   "execution_count": null,
   "id": "62adbdfe",
   "metadata": {},
   "outputs": [],
   "source": [
    "class Greeting:\n",
    "    def __init__ (self,first,last):\n",
    "        self.first = first\n",
    "        self.last = last\n",
    "    def __str__(self):\n",
    "        return self.first+\",\"+self.last\n",
    "    __repr__ = __str__\n",
    "    def display(self,formal = False):\n",
    "        if formal == True:\n",
    "            print(\"Hello\",self.first,self.last)\n",
    "        else:\n",
    "            print(\"Hi\", self.first)"
   ]
  },
  {
   "cell_type": "code",
   "execution_count": null,
   "id": "0b80984f",
   "metadata": {},
   "outputs": [],
   "source": [
    "def Patient(self, id, height, weight):\n",
    "    __init__:\n",
    "    self.id = id\n",
    "    height.self = height\n",
    "    weight.self = weight\n",
    "\n",
    "\n",
    "\n",
    "__str__():\n",
    "\n",
    "    return self.id+\",\"+self.weight+\",\"+self.height\n",
    "\n",
    "\n",
    "bmi(height, weight):\n",
    "\n",
    "    return(weight / height**2 x 703)\n",
    "\n",
    "\n",
    "\n",
    "toLose(id, height, weight):\n",
    "\n",
    "if bmi>25:\n",
    "\n",
    "return(eight - height**2 x 25 / 703)\n",
    "\n",
    "else:\n",
    "\n",
    "print(\"This program doesn\\'t recommend\"+i+ \"to lose weight\")"
   ]
  }
 ],
 "metadata": {
  "kernelspec": {
   "display_name": "Python 3 (ipykernel)",
   "language": "python",
   "name": "python3"
  },
  "language_info": {
   "codemirror_mode": {
    "name": "ipython",
    "version": 3
   },
   "file_extension": ".py",
   "mimetype": "text/x-python",
   "name": "python",
   "nbconvert_exporter": "python",
   "pygments_lexer": "ipython3",
   "version": "3.9.13"
  }
 },
 "nbformat": 4,
 "nbformat_minor": 5
}
