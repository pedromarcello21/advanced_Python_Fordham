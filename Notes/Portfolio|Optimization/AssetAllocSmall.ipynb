{
 "cells": [
  {
   "cell_type": "markdown",
   "metadata": {},
   "source": [
    "## Asset Allocation - Small example"
   ]
  },
  {
   "cell_type": "code",
   "execution_count": 1,
   "metadata": {},
   "outputs": [],
   "source": [
    "import optable"
   ]
  },
  {
   "cell_type": "code",
   "execution_count": 2,
   "metadata": {},
   "outputs": [],
   "source": [
    "# set up the quadratic program\n",
    "c = [0, 0, 0]\n",
    "covariance = \\\n",
    "      [[.00716,      0,     0],\n",
    "       [.00158, .00341,     0],\n",
    "       [.00200, .00137, .0040]]\n",
    "returns = [.031, .014, .012]\n",
    "A = [[1,1,1], # portfolio weights sum to 1\n",
    "     returns] # average return of the portfolio\n",
    "sense = ['=', '>=']\n",
    "b = [1, min(returns)] # RHS for model\n",
    "x0 = [.4, .3, .3] # starting weights for the algorithm (need guesses)"
   ]
  },
  {
   "cell_type": "code",
   "execution_count": 3,
   "metadata": {},
   "outputs": [],
   "source": [
    "# trace the efficient frontier by sampling a few minimum required returns\n",
    "rstart = min(returns)\n",
    "rend = max(returns)\n",
    "rincr = (rend-rstart)/10 # run 10 scenarios\n",
    "r = rstart\n",
    "returns = [] # keep track of the returns for each scenario\n",
    "risks = [] # keep track of the risks\n",
    "while r <= rend:\n",
    "    qp = optable.QpModel('min', c, covariance, A, sense, b, x0)\n",
    "    result = qp.solve()\n",
    "    #print(r, result.fun)\n",
    "    returns.append(r)\n",
    "    risks.append(result.fun)\n",
    "    r += rincr\n",
    "    b[1] = r # move up required return floor for next run"
   ]
  },
  {
   "cell_type": "code",
   "execution_count": 4,
   "metadata": {},
   "outputs": [
    {
     "data": {
      "text/html": [
       "<div>\n",
       "<style scoped>\n",
       "    .dataframe tbody tr th:only-of-type {\n",
       "        vertical-align: middle;\n",
       "    }\n",
       "\n",
       "    .dataframe tbody tr th {\n",
       "        vertical-align: top;\n",
       "    }\n",
       "\n",
       "    .dataframe thead th {\n",
       "        text-align: right;\n",
       "    }\n",
       "</style>\n",
       "<table border=\"1\" class=\"dataframe\">\n",
       "  <thead>\n",
       "    <tr style=\"text-align: right;\">\n",
       "      <th></th>\n",
       "      <th>return</th>\n",
       "      <th>risk</th>\n",
       "    </tr>\n",
       "  </thead>\n",
       "  <tbody>\n",
       "    <tr>\n",
       "      <th>3</th>\n",
       "      <td>1.77</td>\n",
       "      <td>0.002022</td>\n",
       "    </tr>\n",
       "    <tr>\n",
       "      <th>4</th>\n",
       "      <td>1.96</td>\n",
       "      <td>0.002255</td>\n",
       "    </tr>\n",
       "    <tr>\n",
       "      <th>5</th>\n",
       "      <td>2.15</td>\n",
       "      <td>0.002648</td>\n",
       "    </tr>\n",
       "    <tr>\n",
       "      <th>6</th>\n",
       "      <td>2.34</td>\n",
       "      <td>0.003202</td>\n",
       "    </tr>\n",
       "    <tr>\n",
       "      <th>7</th>\n",
       "      <td>2.53</td>\n",
       "      <td>0.003922</td>\n",
       "    </tr>\n",
       "    <tr>\n",
       "      <th>8</th>\n",
       "      <td>2.72</td>\n",
       "      <td>0.004810</td>\n",
       "    </tr>\n",
       "    <tr>\n",
       "      <th>9</th>\n",
       "      <td>2.91</td>\n",
       "      <td>0.005864</td>\n",
       "    </tr>\n",
       "    <tr>\n",
       "      <th>10</th>\n",
       "      <td>3.10</td>\n",
       "      <td>0.007160</td>\n",
       "    </tr>\n",
       "  </tbody>\n",
       "</table>\n",
       "</div>"
      ],
      "text/plain": [
       "    return      risk\n",
       "3     1.77  0.002022\n",
       "4     1.96  0.002255\n",
       "5     2.15  0.002648\n",
       "6     2.34  0.003202\n",
       "7     2.53  0.003922\n",
       "8     2.72  0.004810\n",
       "9     2.91  0.005864\n",
       "10    3.10  0.007160"
      ]
     },
     "execution_count": 4,
     "metadata": {},
     "output_type": "execute_result"
    }
   ],
   "source": [
    "# display the risks/returns (above the minimum risk level)\n",
    "import pandas as pd\n",
    "df = pd.DataFrame({\"return\":returns, \"risk\":risks})\n",
    "df['return'] = df['return'] * 100 # convert from decimal to %\n",
    "# trim lowest risk level\n",
    "df2 = df[df.risk > df.risk.min()]\n",
    "df2"
   ]
  },
  {
   "cell_type": "code",
   "execution_count": 5,
   "metadata": {},
   "outputs": [
    {
     "data": {
      "text/plain": [
       "<matplotlib.axes._subplots.AxesSubplot at 0x101ffc19e8>"
      ]
     },
     "execution_count": 5,
     "metadata": {},
     "output_type": "execute_result"
    },
    {
     "data": {
      "image/png": "[encoded data removed]",
      "text/plain": [
       "<Figure size 432x288 with 1 Axes>"
      ]
     },
     "metadata": {
      "needs_background": "light"
     },
     "output_type": "display_data"
    }
   ],
   "source": [
    "%matplotlib inline\n",
    "xbuffer=.0\n",
    "ybuffer=.0\n",
    "df2.plot.scatter(x='risk', y='return', \n",
    "                 xlim=[min(risks),max(risks)],\n",
    "                 ylim=[min(returns)*100, max(returns)*100])"
   ]
  },
  {
   "cell_type": "code",
   "execution_count": null,
   "metadata": {},
   "outputs": [],
   "source": []
  }
 ],
 "metadata": {
  "kernelspec": {
   "display_name": "Python 3",
   "language": "python",
   "name": "python3"
  },
  "language_info": {
   "codemirror_mode": {
    "name": "ipython",
    "version": 3
   },
   "file_extension": ".py",
   "mimetype": "text/x-python",
   "name": "python",
   "nbconvert_exporter": "python",
   "pygments_lexer": "ipython3",
   "version": "3.7.1"
  }
 },
 "nbformat": 4,
 "nbformat_minor": 2
}
