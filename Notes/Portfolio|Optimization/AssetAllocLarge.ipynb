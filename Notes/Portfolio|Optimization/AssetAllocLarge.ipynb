{
 "cells": [
  {
   "cell_type": "markdown",
   "metadata": {},
   "source": [
    "# Asset Allocation\n",
    "Markowitz Model with 3 stocks, using:\n",
    "- simulation\n",
    "- optimization"
   ]
  },
  {
   "cell_type": "code",
   "execution_count": 1,
   "metadata": {
    "colab": {},
    "colab_type": "code",
    "id": "4G_dXmPspmEk"
   },
   "outputs": [],
   "source": [
    "import pandas as pd\n",
    "import math\n",
    "import scipy.optimize as sco\n",
    "import numpy as np\n",
    "import matplotlib.pyplot as plt\n",
    "import random"
   ]
  },
  {
   "cell_type": "markdown",
   "metadata": {},
   "source": [
    "#### part A) set up data from history of stock prices for 3 stocks"
   ]
  },
  {
   "cell_type": "code",
   "execution_count": 2,
   "metadata": {
    "colab": {},
    "colab_type": "code",
    "id": "jcI1ZRozpmEo"
   },
   "outputs": [],
   "source": [
    "# read data\n",
    "data = pd.read_csv('stock_prices.csv')"
   ]
  },
  {
   "cell_type": "code",
   "execution_count": 3,
   "metadata": {
    "colab": {
     "base_uri": "https://localhost:8080/",
     "height": 195
    },
    "colab_type": "code",
    "executionInfo": {
     "elapsed": 269,
     "status": "ok",
     "timestamp": 1558029009935,
     "user": {
      "displayName": "Xiaoyang Chen",
      "photoUrl": "",
      "userId": "17996905496075519253"
     },
     "user_tz": 240
    },
    "id": "K_rJEfh1pmEq",
    "outputId": "ffba2ab5-88cf-4467-8313-b905bdfbbdf5",
    "scrolled": true
   },
   "outputs": [
    {
     "data": {
      "text/html": [
       "<div>\n",
       "<style scoped>\n",
       "    .dataframe tbody tr th:only-of-type {\n",
       "        vertical-align: middle;\n",
       "    }\n",
       "\n",
       "    .dataframe tbody tr th {\n",
       "        vertical-align: top;\n",
       "    }\n",
       "\n",
       "    .dataframe thead th {\n",
       "        text-align: right;\n",
       "    }\n",
       "</style>\n",
       "<table border=\"1\" class=\"dataframe\">\n",
       "  <thead>\n",
       "    <tr style=\"text-align: right;\">\n",
       "      <th></th>\n",
       "      <th>Date</th>\n",
       "      <th>AMZN</th>\n",
       "      <th>JPM</th>\n",
       "      <th>AMGN</th>\n",
       "    </tr>\n",
       "  </thead>\n",
       "  <tbody>\n",
       "    <tr>\n",
       "      <th>0</th>\n",
       "      <td>6/1/13</td>\n",
       "      <td>277.690002</td>\n",
       "      <td>44.824913</td>\n",
       "      <td>85.952446</td>\n",
       "    </tr>\n",
       "    <tr>\n",
       "      <th>1</th>\n",
       "      <td>7/1/13</td>\n",
       "      <td>301.220001</td>\n",
       "      <td>47.321320</td>\n",
       "      <td>94.342110</td>\n",
       "    </tr>\n",
       "    <tr>\n",
       "      <th>2</th>\n",
       "      <td>8/1/13</td>\n",
       "      <td>280.980011</td>\n",
       "      <td>43.218784</td>\n",
       "      <td>94.908394</td>\n",
       "    </tr>\n",
       "    <tr>\n",
       "      <th>3</th>\n",
       "      <td>9/1/13</td>\n",
       "      <td>312.640015</td>\n",
       "      <td>44.210953</td>\n",
       "      <td>97.931290</td>\n",
       "    </tr>\n",
       "    <tr>\n",
       "      <th>4</th>\n",
       "      <td>10/1/13</td>\n",
       "      <td>364.029999</td>\n",
       "      <td>44.082653</td>\n",
       "      <td>101.623840</td>\n",
       "    </tr>\n",
       "  </tbody>\n",
       "</table>\n",
       "</div>"
      ],
      "text/plain": [
       "      Date        AMZN        JPM        AMGN\n",
       "0   6/1/13  277.690002  44.824913   85.952446\n",
       "1   7/1/13  301.220001  47.321320   94.342110\n",
       "2   8/1/13  280.980011  43.218784   94.908394\n",
       "3   9/1/13  312.640015  44.210953   97.931290\n",
       "4  10/1/13  364.029999  44.082653  101.623840"
      ]
     },
     "execution_count": 3,
     "metadata": {},
     "output_type": "execute_result"
    }
   ],
   "source": [
    "data.head()"
   ]
  },
  {
   "cell_type": "code",
   "execution_count": 4,
   "metadata": {},
   "outputs": [
    {
     "data": {
      "text/plain": [
       "<matplotlib.axes._subplots.AxesSubplot at 0x1016ecce80>"
      ]
     },
     "execution_count": 4,
     "metadata": {},
     "output_type": "execute_result"
    },
    {
     "data": {
      "image/png": "[encoded data removed]",
      "text/plain": [
       "<Figure size 432x288 with 1 Axes>"
      ]
     },
     "metadata": {
      "needs_background": "light"
     },
     "output_type": "display_data"
    }
   ],
   "source": [
    "data.plot()"
   ]
  },
  {
   "cell_type": "code",
   "execution_count": 5,
   "metadata": {
    "colab": {
     "base_uri": "https://localhost:8080/",
     "height": 225
    },
    "colab_type": "code",
    "executionInfo": {
     "elapsed": 319,
     "status": "ok",
     "timestamp": 1558029010856,
     "user": {
      "displayName": "Xiaoyang Chen",
      "photoUrl": "",
      "userId": "17996905496075519253"
     },
     "user_tz": 240
    },
    "id": "d8mcDBvXpmEw",
    "outputId": "bc57e504-2b51-48fb-9f2d-a30336e7d09a",
    "scrolled": true
   },
   "outputs": [
    {
     "data": {
      "text/html": [
       "<div>\n",
       "<style scoped>\n",
       "    .dataframe tbody tr th:only-of-type {\n",
       "        vertical-align: middle;\n",
       "    }\n",
       "\n",
       "    .dataframe tbody tr th {\n",
       "        vertical-align: top;\n",
       "    }\n",
       "\n",
       "    .dataframe thead th {\n",
       "        text-align: right;\n",
       "    }\n",
       "</style>\n",
       "<table border=\"1\" class=\"dataframe\">\n",
       "  <thead>\n",
       "    <tr style=\"text-align: right;\">\n",
       "      <th></th>\n",
       "      <th>AMZN</th>\n",
       "      <th>JPM</th>\n",
       "      <th>AMGN</th>\n",
       "    </tr>\n",
       "    <tr>\n",
       "      <th>Date</th>\n",
       "      <th></th>\n",
       "      <th></th>\n",
       "      <th></th>\n",
       "    </tr>\n",
       "  </thead>\n",
       "  <tbody>\n",
       "    <tr>\n",
       "      <th>7/1/13</th>\n",
       "      <td>0.084735</td>\n",
       "      <td>0.055692</td>\n",
       "      <td>0.097608</td>\n",
       "    </tr>\n",
       "    <tr>\n",
       "      <th>8/1/13</th>\n",
       "      <td>-0.067193</td>\n",
       "      <td>-0.086695</td>\n",
       "      <td>0.006002</td>\n",
       "    </tr>\n",
       "    <tr>\n",
       "      <th>9/1/13</th>\n",
       "      <td>0.112677</td>\n",
       "      <td>0.022957</td>\n",
       "      <td>0.031851</td>\n",
       "    </tr>\n",
       "    <tr>\n",
       "      <th>10/1/13</th>\n",
       "      <td>0.164374</td>\n",
       "      <td>-0.002902</td>\n",
       "      <td>0.037706</td>\n",
       "    </tr>\n",
       "    <tr>\n",
       "      <th>11/1/13</th>\n",
       "      <td>0.081284</td>\n",
       "      <td>0.118385</td>\n",
       "      <td>-0.017737</td>\n",
       "    </tr>\n",
       "  </tbody>\n",
       "</table>\n",
       "</div>"
      ],
      "text/plain": [
       "             AMZN       JPM      AMGN\n",
       "Date                                 \n",
       "7/1/13   0.084735  0.055692  0.097608\n",
       "8/1/13  -0.067193 -0.086695  0.006002\n",
       "9/1/13   0.112677  0.022957  0.031851\n",
       "10/1/13  0.164374 -0.002902  0.037706\n",
       "11/1/13  0.081284  0.118385 -0.017737"
      ]
     },
     "execution_count": 5,
     "metadata": {},
     "output_type": "execute_result"
    }
   ],
   "source": [
    "# calculate monthly returns\n",
    "price = data.set_index('Date')\n",
    "returns_monthly = (price/price.shift(1) - 1).dropna()\n",
    "returns_monthly.head()"
   ]
  },
  {
   "cell_type": "code",
   "execution_count": 6,
   "metadata": {
    "colab": {
     "base_uri": "https://localhost:8080/",
     "height": 284
    },
    "colab_type": "code",
    "executionInfo": {
     "elapsed": 324,
     "status": "ok",
     "timestamp": 1558029011749,
     "user": {
      "displayName": "Xiaoyang Chen",
      "photoUrl": "",
      "userId": "17996905496075519253"
     },
     "user_tz": 240
    },
    "id": "YYd-f8JdpmE0",
    "outputId": "aa109517-6ea1-4898-dd7b-7db6b0a37047",
    "scrolled": false
   },
   "outputs": [
    {
     "data": {
      "text/html": [
       "<div>\n",
       "<style scoped>\n",
       "    .dataframe tbody tr th:only-of-type {\n",
       "        vertical-align: middle;\n",
       "    }\n",
       "\n",
       "    .dataframe tbody tr th {\n",
       "        vertical-align: top;\n",
       "    }\n",
       "\n",
       "    .dataframe thead th {\n",
       "        text-align: right;\n",
       "    }\n",
       "</style>\n",
       "<table border=\"1\" class=\"dataframe\">\n",
       "  <thead>\n",
       "    <tr style=\"text-align: right;\">\n",
       "      <th></th>\n",
       "      <th>AMZN</th>\n",
       "      <th>JPM</th>\n",
       "      <th>AMGN</th>\n",
       "    </tr>\n",
       "  </thead>\n",
       "  <tbody>\n",
       "    <tr>\n",
       "      <th>count</th>\n",
       "      <td>71.000000</td>\n",
       "      <td>71.000000</td>\n",
       "      <td>71.000000</td>\n",
       "    </tr>\n",
       "    <tr>\n",
       "      <th>mean</th>\n",
       "      <td>0.030672</td>\n",
       "      <td>0.014376</td>\n",
       "      <td>0.011597</td>\n",
       "    </tr>\n",
       "    <tr>\n",
       "      <th>std</th>\n",
       "      <td>0.084609</td>\n",
       "      <td>0.058435</td>\n",
       "      <td>0.063224</td>\n",
       "    </tr>\n",
       "    <tr>\n",
       "      <th>min</th>\n",
       "      <td>-0.202192</td>\n",
       "      <td>-0.131032</td>\n",
       "      <td>-0.153768</td>\n",
       "    </tr>\n",
       "    <tr>\n",
       "      <th>25%</th>\n",
       "      <td>-0.027752</td>\n",
       "      <td>-0.014334</td>\n",
       "      <td>-0.024058</td>\n",
       "    </tr>\n",
       "    <tr>\n",
       "      <th>50%</th>\n",
       "      <td>0.027685</td>\n",
       "      <td>0.013288</td>\n",
       "      <td>0.013238</td>\n",
       "    </tr>\n",
       "    <tr>\n",
       "      <th>75%</th>\n",
       "      <td>0.081967</td>\n",
       "      <td>0.048789</td>\n",
       "      <td>0.042656</td>\n",
       "    </tr>\n",
       "    <tr>\n",
       "      <th>max</th>\n",
       "      <td>0.240639</td>\n",
       "      <td>0.165937</td>\n",
       "      <td>0.154635</td>\n",
       "    </tr>\n",
       "  </tbody>\n",
       "</table>\n",
       "</div>"
      ],
      "text/plain": [
       "            AMZN        JPM       AMGN\n",
       "count  71.000000  71.000000  71.000000\n",
       "mean    0.030672   0.014376   0.011597\n",
       "std     0.084609   0.058435   0.063224\n",
       "min    -0.202192  -0.131032  -0.153768\n",
       "25%    -0.027752  -0.014334  -0.024058\n",
       "50%     0.027685   0.013288   0.013238\n",
       "75%     0.081967   0.048789   0.042656\n",
       "max     0.240639   0.165937   0.154635"
      ]
     },
     "execution_count": 6,
     "metadata": {},
     "output_type": "execute_result"
    }
   ],
   "source": [
    "returns_monthly.describe()"
   ]
  },
  {
   "cell_type": "code",
   "execution_count": 7,
   "metadata": {},
   "outputs": [
    {
     "data": {
      "text/plain": [
       "Text(0, 0.5, 'mean return')"
      ]
     },
     "execution_count": 7,
     "metadata": {},
     "output_type": "execute_result"
    },
    {
     "data": {
      "image/png": "[encoded data removed]",
      "text/plain": [
       "<Figure size 432x288 with 1 Axes>"
      ]
     },
     "metadata": {
      "needs_background": "light"
     },
     "output_type": "display_data"
    }
   ],
   "source": [
    "# plot mean returns\n",
    "plt.figure(1)\n",
    "plt.bar(np.arange(3), list(returns_monthly.describe().values[1]))\n",
    "plt.xticks(np.arange(3), returns_monthly.describe().columns.values)\n",
    "plt.xlabel('ticker')\n",
    "plt.ylabel('mean return')"
   ]
  },
  {
   "cell_type": "code",
   "execution_count": 8,
   "metadata": {
    "colab": {},
    "colab_type": "code",
    "id": "qrSozhCnpmE4"
   },
   "outputs": [],
   "source": [
    "# save mean returns, standard deviations and covariance matrix\n",
    "# for the following calculations\n",
    "mean_list = list(returns_monthly.describe().values[1])\n",
    "std_list = list(returns_monthly.describe().values[2])\n",
    "covar = returns_monthly.cov().values"
   ]
  },
  {
   "cell_type": "markdown",
   "metadata": {},
   "source": [
    "#### part B) Using simulation for random portfolio mixes, see risk/returns"
   ]
  },
  {
   "cell_type": "code",
   "execution_count": 9,
   "metadata": {
    "colab": {},
    "colab_type": "code",
    "id": "jhkgvZ2TpmE6"
   },
   "outputs": [],
   "source": [
    "# simulation of many weight vectors, calculate means and standard deviations based on them and\n",
    "# save means and standard deviations into lists, respectively.\n",
    "weight_list = np.arange(0, 1, 0.001)\n",
    "mean_plot = []\n",
    "std_plot = []\n",
    "for weight1 in weight_list:\n",
    "    weight2 = (1-weight1)*random.random()\n",
    "    weight3 = 1 - weight1 - weight2\n",
    "    mean_plot.append(weight1*mean_list[0] + weight2*mean_list[1] + weight3*mean_list[2])\n",
    "    weight_vec = np.array([[weight1, weight2, weight3]]).transpose()\n",
    "# matrix form: variance = w.T * covar * w\n",
    "    std_plot.append(math.sqrt(np.linalg.multi_dot([weight_vec.transpose(), covar, weight_vec])))"
   ]
  },
  {
   "cell_type": "code",
   "execution_count": 10,
   "metadata": {
    "colab": {
     "base_uri": "https://localhost:8080/",
     "height": 34
    },
    "colab_type": "code",
    "executionInfo": {
     "elapsed": 248,
     "status": "ok",
     "timestamp": 1558029016316,
     "user": {
      "displayName": "Xiaoyang Chen",
      "photoUrl": "",
      "userId": "17996905496075519253"
     },
     "user_tz": 240
    },
    "id": "NtHqYvA2pmFA",
    "outputId": "7b4f2254-cae3-48ec-c919-0f2459d8deb8"
   },
   "outputs": [
    {
     "name": "stdout",
     "output_type": "stream",
     "text": [
      "eq weight mean = 1.9%\n",
      "eq weight sd   = 5.2%\n"
     ]
    }
   ],
   "source": [
    "# calculate the return and standard deviation of an equally weighted portfolio\n",
    "eq_weight_mean = sum(mean_list)/3\n",
    "eq_weight = np.array([[1/3, 1/3, 1/3]]).transpose()\n",
    "eq_weight_std = math.sqrt(np.linalg.multi_dot([eq_weight.transpose(), covar, eq_weight]))\n",
    "mean_tar = eq_weight_mean\n",
    "print(\"eq weight mean =\", \"{0:.1%}\".format(eq_weight_mean))\n",
    "print(\"eq weight sd   =\", \"{0:.1%}\".format(eq_weight_std))"
   ]
  },
  {
   "cell_type": "code",
   "execution_count": 11,
   "metadata": {
    "colab": {
     "base_uri": "https://localhost:8080/",
     "height": 300
    },
    "colab_type": "code",
    "executionInfo": {
     "elapsed": 666,
     "status": "ok",
     "timestamp": 1558029015279,
     "user": {
      "displayName": "Xiaoyang Chen",
      "photoUrl": "",
      "userId": "17996905496075519253"
     },
     "user_tz": 240
    },
    "id": "NkFNi0jHpmE9",
    "outputId": "a98b86b5-bf6f-496e-8fac-ad229e4bd646",
    "scrolled": false
   },
   "outputs": [
    {
     "data": {
      "text/plain": [
       "Text(0, 0.5, 'mean return')"
      ]
     },
     "execution_count": 11,
     "metadata": {},
     "output_type": "execute_result"
    },
    {
     "data": {
      "image/png": "[encoded data removed]",
      "text/plain": [
       "<Figure size 864x360 with 1 Axes>"
      ]
     },
     "metadata": {
      "needs_background": "light"
     },
     "output_type": "display_data"
    }
   ],
   "source": [
    "# plot all simulated portfolios\n",
    "plt.figure(2, figsize = (12, 5))\n",
    "plt.scatter(std_plot, mean_plot, s = 1.5)\n",
    "plt.scatter(eq_weight_std, eq_weight_mean, s = 15, color = 'k', label = 'equally weighted')\n",
    "plt.legend()\n",
    "plt.xlabel('standard deviation')\n",
    "plt.ylabel('mean return')"
   ]
  },
  {
   "cell_type": "markdown",
   "metadata": {},
   "source": [
    "#### part C) Use optimization to trace out the family of optimal portfolios"
   ]
  },
  {
   "cell_type": "code",
   "execution_count": 12,
   "metadata": {
    "colab": {},
    "colab_type": "code",
    "id": "HSD0cbOepmFH"
   },
   "outputs": [],
   "source": [
    "# objective funtion: minimize standard deviation\n",
    "def port_val(w, covar_matrix= covar):\n",
    "    weight = np.array([w]).transpose()\n",
    "    #print((math.sqrt(np.linalg.multi_dot([weight_vec, covar_matrix, weight_vec.transpose()]))))\n",
    "    return (math.sqrt(np.linalg.multi_dot([weight.transpose(), covar_matrix, weight])))"
   ]
  },
  {
   "cell_type": "code",
   "execution_count": 13,
   "metadata": {
    "colab": {},
    "colab_type": "code",
    "id": "k5Ea6nbrpmFL"
   },
   "outputs": [],
   "source": [
    "# (lo,up) bounds on stock weights (no short selling)\n",
    "bnds = ((0, 1), (0, 1), (0, 1))"
   ]
  },
  {
   "cell_type": "code",
   "execution_count": 14,
   "metadata": {},
   "outputs": [],
   "source": [
    "# solve for the efficient frontier - run a family of QPs\n",
    "weight1_list = [] # stock 1 weight [0, 1], for different minimum returns\n",
    "weight2_list = [] # stock 2 weight\n",
    "weight3_list = [] # stock 3 weight\n",
    "eff_mean_list = [] # achieved return for each required return case\n",
    "eff_std_list = [] # std dev of each required return case\n",
    "for mean in np.arange(0.015, mean_list[0], 0.0001):\n",
    "    cons = ({'type':'eq',\n",
    "             'fun': lambda w: w[0]+ w[1]+ w[2] -1},\n",
    "            {'type':'eq',\n",
    "             'fun': lambda w: w[0]* mean_list[0]+ w[1]* mean_list[1]+ w[2]*mean_list[2] - mean})\n",
    "    result = sco.minimize(port_val, [0.3, 0.3, 0.3], method = 'SLSQP',\n",
    "                      bounds = bnds, constraints = cons)\n",
    "    efficient_mean = mean_list[0]*result['x'][0] + mean_list[1]*result['x'][1]+ mean_list[2]*result['x'][2]\n",
    "    efficient_std = result['fun']\n",
    "    weight1_list.append(result['x'][0]*100)\n",
    "    weight2_list.append(result['x'][1]*100)\n",
    "    weight3_list.append(result['x'][2]*100)\n",
    "    efficient_weight = np.array([result['x']])\n",
    "    eff_mean_list.append(efficient_mean)\n",
    "    eff_std_list.append(efficient_std)"
   ]
  },
  {
   "cell_type": "code",
   "execution_count": 15,
   "metadata": {},
   "outputs": [
    {
     "data": {
      "text/plain": [
       "Text(0, 0.5, 'portfolio weights(%)')"
      ]
     },
     "execution_count": 15,
     "metadata": {},
     "output_type": "execute_result"
    },
    {
     "data": {
      "image/png": "[encoded data removed]",
      "text/plain": [
       "<Figure size 720x720 with 2 Axes>"
      ]
     },
     "metadata": {
      "needs_background": "light"
     },
     "output_type": "display_data"
    }
   ],
   "source": [
    "# plot efficient frontier - optimization boundary justaposed with simulation\n",
    "plt.figure(3, figsize = (10, 10))\n",
    "plt.subplot(2, 1, 1)\n",
    "plt.scatter(std_plot, mean_plot, s = 1.5)\n",
    "plt.scatter(eq_weight_std, eq_weight_mean, s = 15, color = 'k')\n",
    "plt.scatter(eff_std_list, eff_mean_list, s = 1.5, color = 'r')\n",
    "plt.xlabel('standard deviation')\n",
    "plt.ylabel('mean return')\n",
    "plt.subplot(2, 1, 2)\n",
    "plt.scatter(eff_std_list, weight1_list, s = 1.5, label = 'weight of AMZN')\n",
    "plt.scatter(eff_std_list, weight2_list, s = 1.5, label = 'weight of JPM')\n",
    "plt.scatter(eff_std_list, weight3_list, s = 1.5, label = 'weight of AMGN')\n",
    "plt.legend()\n",
    "plt.xlabel('standard deviation')\n",
    "plt.ylabel('portfolio weights(%)')"
   ]
  },
  {
   "cell_type": "code",
   "execution_count": null,
   "metadata": {},
   "outputs": [],
   "source": []
  }
 ],
 "metadata": {
  "colab": {
   "name": "Asset_alloc_3assets.ipynb",
   "provenance": [],
   "version": "0.3.2"
  },
  "kernelspec": {
   "display_name": "Python 3",
   "language": "python",
   "name": "python3"
  },
  "language_info": {
   "codemirror_mode": {
    "name": "ipython",
    "version": 3
   },
   "file_extension": ".py",
   "mimetype": "text/x-python",
   "name": "python",
   "nbconvert_exporter": "python",
   "pygments_lexer": "ipython3",
   "version": "3.7.1"
  }
 },
 "nbformat": 4,
 "nbformat_minor": 1
}
