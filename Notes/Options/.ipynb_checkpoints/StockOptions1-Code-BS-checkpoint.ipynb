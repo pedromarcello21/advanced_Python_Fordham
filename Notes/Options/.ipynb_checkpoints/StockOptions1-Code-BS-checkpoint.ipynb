{
 "cells": [
  {
   "cell_type": "markdown",
   "metadata": {},
   "source": [
    "## European Call Option - Closed Form (Black-Scholes)\n",
    "Handed-coded, Interactive; scipy for Normal CDF"
   ]
  },
  {
   "cell_type": "code",
   "execution_count": 1,
   "metadata": {},
   "outputs": [],
   "source": [
    "# import packages\n",
    "from math import *\n",
    "from scipy import stats\n",
    "\n",
    "# Implement Black Scholes Merton\n",
    "def bsm_call(S0, K, T, r, sigma):\n",
    "    \"\"\"Parameter description:\n",
    "       S0: Spot price\n",
    "       K: Exercise price\n",
    "       T: Time to maturity (in years)\n",
    "       r: Annual risk-free interest rate (in decimal)\n",
    "       sigma: Annualized volatility (in decimal)\n",
    "    \"\"\"\n",
    "    if sigma == 0: # edge case for vol=0\n",
    "        call_price = S0 - K * exp(- r*T)\n",
    "    else:\n",
    "        d1 = (log(S0 / K) + (r + sigma ** 2 / 2) * T) / (sigma * sqrt(T))\n",
    "        d2 = d1 - sigma * sqrt(T)\n",
    "        call_price = S0 * stats.norm.cdf(d1, 0, 1) - K * exp(-r * T) * stats.norm.cdf(d2, 0, 1)\n",
    "    return call_price"
   ]
  },
  {
   "cell_type": "code",
   "execution_count": 2,
   "metadata": {},
   "outputs": [
    {
     "name": "stdout",
     "output_type": "stream",
     "text": [
      "Enter spot price: 100\n",
      "Enter strike price: 110\n",
      "Enter time to maturity (years): 2\n",
      "Enter annual risk-free rate (%): 1\n",
      "Enter annual volatility (%): 20\n"
     ]
    }
   ],
   "source": [
    "# input parameters - get via user\n",
    "S0 = float(input(\"Enter spot price: \"))\n",
    "K = float(input(\"Enter strike price: \"))\n",
    "T = float(input(\"Enter time to maturity (years): \"))\n",
    "r = float(input(\"Enter annual risk-free rate (%): \"))/100\n",
    "sigma = float(input(\"Enter annual volatility (%): \"))/100"
   ]
  },
  {
   "cell_type": "code",
   "execution_count": 3,
   "metadata": {},
   "outputs": [
    {
     "name": "stdout",
     "output_type": "stream",
     "text": [
      "Option value is :  8.184\n"
     ]
    }
   ],
   "source": [
    "# calculate the call option price by function call\n",
    "call_price = bsm_call(S0, K, T, r, sigma)\n",
    "print(\"Option value is : \", \"%.3f\" % call_price)"
   ]
  },
  {
   "cell_type": "code",
   "execution_count": null,
   "metadata": {},
   "outputs": [],
   "source": []
  }
 ],
 "metadata": {
  "kernelspec": {
   "display_name": "Python 3 (ipykernel)",
   "language": "python",
   "name": "python3"
  },
  "language_info": {
   "codemirror_mode": {
    "name": "ipython",
    "version": 3
   },
   "file_extension": ".py",
   "mimetype": "text/x-python",
   "name": "python",
   "nbconvert_exporter": "python",
   "pygments_lexer": "ipython3",
   "version": "3.9.13"
  }
 },
 "nbformat": 4,
 "nbformat_minor": 2
}
