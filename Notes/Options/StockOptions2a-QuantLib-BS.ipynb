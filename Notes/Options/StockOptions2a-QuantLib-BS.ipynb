{
 "cells": [
  {
   "cell_type": "markdown",
   "metadata": {},
   "source": [
    "## European Call Option - valuation, delta, vega\n",
    "QuantLib Closed Form"
   ]
  },
  {
   "cell_type": "code",
   "execution_count": 1,
   "metadata": {},
   "outputs": [],
   "source": [
    "import QuantLib as ql\n",
    "\n",
    "# option data\n",
    "expiry_date = ql.Date(1, 1, 2016)\n",
    "spot_price = 100.\n",
    "strike_price = 105.\n",
    "volatility = 0.20 # the historical vols for a year\n",
    "dividend_rate =  0\n",
    "option_type = ql.Option.Call\n",
    "\n",
    "risk_free_rate = 0.05\n",
    "day_count = ql.Actual365Fixed()\n",
    "calendar = ql.UnitedStates(ql.UnitedStates.NYSE)\n",
    "\n",
    "calculation_date = ql.Date(1, 1, 2015)\n",
    "ql.Settings.instance().evaluationDate = calculation_date"
   ]
  },
  {
   "cell_type": "code",
   "execution_count": 2,
   "metadata": {},
   "outputs": [],
   "source": [
    "# construct the European Option\n",
    "payoff = ql.PlainVanillaPayoff(option_type, strike_price)\n",
    "exercise = ql.EuropeanExercise(expiry_date)\n",
    "european_option = ql.VanillaOption(payoff, exercise)\n",
    "\n",
    "spot_handle = ql.QuoteHandle(\n",
    "    ql.SimpleQuote(spot_price)\n",
    ")\n",
    "flat_ts = ql.YieldTermStructureHandle(\n",
    "    ql.FlatForward(calculation_date, risk_free_rate, day_count)\n",
    ")\n",
    "dividend_yield = ql.YieldTermStructureHandle(\n",
    "    ql.FlatForward(calculation_date, dividend_rate, day_count)\n",
    ")\n",
    "flat_vol_ts = ql.BlackVolTermStructureHandle(\n",
    "    ql.BlackConstantVol(calculation_date, calendar, volatility, day_count)\n",
    ")\n",
    "bsm_process = ql.BlackScholesMertonProcess(spot_handle,\n",
    "                                           dividend_yield,\n",
    "                                           flat_ts,\n",
    "                                           flat_vol_ts)\n",
    "\n",
    "european_option.setPricingEngine(ql.AnalyticEuropeanEngine(bsm_process))"
   ]
  },
  {
   "cell_type": "code",
   "execution_count": 3,
   "metadata": {},
   "outputs": [
    {
     "name": "stdout",
     "output_type": "stream",
     "text": [
      "option value is 8.021\n",
      "option delta is 0.542\n",
      "option vega is 39.671\n"
     ]
    }
   ],
   "source": [
    "# calculate and display results\n",
    "print(\"option value is\", \"%.3f\" % european_option.NPV())\n",
    "print(\"option delta is\", \"%.3f\" % european_option.delta())\n",
    "print(\"option vega is\", \"%.3f\" % european_option.vega())"
   ]
  },
  {
   "cell_type": "code",
   "execution_count": 4,
   "metadata": {},
   "outputs": [
    {
     "data": {
      "text/plain": [
       "['Call',\n",
       " 'NPV',\n",
       " 'Put',\n",
       " 'delta',\n",
       " 'deltaForward',\n",
       " 'dividendRho',\n",
       " 'elasticity',\n",
       " 'errorEstimate',\n",
       " 'exercise',\n",
       " 'freeze',\n",
       " 'gamma',\n",
       " 'impliedVolatility',\n",
       " 'isExpired',\n",
       " 'itmCashProbability',\n",
       " 'payoff',\n",
       " 'priceCurve',\n",
       " 'recalculate',\n",
       " 'rho',\n",
       " 'setPricingEngine',\n",
       " 'strikeSensitivity',\n",
       " 'theta',\n",
       " 'thetaPerDay',\n",
       " 'this',\n",
       " 'thisown',\n",
       " 'unfreeze',\n",
       " 'vega']"
      ]
     },
     "execution_count": 4,
     "metadata": {},
     "output_type": "execute_result"
    }
   ],
   "source": [
    "[f for f in dir(european_option) if f[0] != '_']"
   ]
  },
  {
   "cell_type": "code",
   "execution_count": null,
   "metadata": {},
   "outputs": [],
   "source": []
  }
 ],
 "metadata": {
  "kernelspec": {
   "display_name": "Python 3 (ipykernel)",
   "language": "python",
   "name": "python3"
  },
  "language_info": {
   "codemirror_mode": {
    "name": "ipython",
    "version": 3
   },
   "file_extension": ".py",
   "mimetype": "text/x-python",
   "name": "python",
   "nbconvert_exporter": "python",
   "pygments_lexer": "ipython3",
   "version": "3.9.13"
  }
 },
 "nbformat": 4,
 "nbformat_minor": 2
}
