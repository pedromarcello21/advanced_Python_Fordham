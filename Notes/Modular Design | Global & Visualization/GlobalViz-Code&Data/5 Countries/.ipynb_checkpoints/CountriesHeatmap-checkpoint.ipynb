{
 "cells": [
  {
   "cell_type": "markdown",
   "metadata": {},
   "source": [
    "# Country Key Measures Heatmap"
   ]
  },
  {
   "cell_type": "markdown",
   "metadata": {},
   "source": [
    "Create a heatmap for key statistics for a set of countries\n",
    "\n",
    "The data is in a .csv (rows=countries; columns=measures)\n",
    "\n",
    "The color scheme for each column of the heatmap is independant of the\n",
    "other columns, since:\n",
    "   the scale of each statistic is column-specific\n",
    "   the choice of red or green for larger values is column-specific"
   ]
  },
  {
   "cell_type": "code",
   "execution_count": 1,
   "metadata": {},
   "outputs": [],
   "source": [
    "import pandas as pd\n",
    "import seaborn as sns\n",
    "from matplotlib import pyplot as plt"
   ]
  },
  {
   "cell_type": "code",
   "execution_count": 2,
   "metadata": {},
   "outputs": [
    {
     "data": {
      "text/html": [
       "<div>\n",
       "<style scoped>\n",
       "    .dataframe tbody tr th:only-of-type {\n",
       "        vertical-align: middle;\n",
       "    }\n",
       "\n",
       "    .dataframe tbody tr th {\n",
       "        vertical-align: top;\n",
       "    }\n",
       "\n",
       "    .dataframe thead th {\n",
       "        text-align: right;\n",
       "    }\n",
       "</style>\n",
       "<table border=\"1\" class=\"dataframe\">\n",
       "  <thead>\n",
       "    <tr style=\"text-align: right;\">\n",
       "      <th></th>\n",
       "      <th>Inflation</th>\n",
       "      <th>Short Rate</th>\n",
       "      <th>10yr Rate</th>\n",
       "      <th>10yr RealRate</th>\n",
       "      <th>Unemployment</th>\n",
       "      <th>GDP Growth</th>\n",
       "      <th>Debt to GDP</th>\n",
       "    </tr>\n",
       "    <tr>\n",
       "      <th>Country</th>\n",
       "      <th></th>\n",
       "      <th></th>\n",
       "      <th></th>\n",
       "      <th></th>\n",
       "      <th></th>\n",
       "      <th></th>\n",
       "      <th></th>\n",
       "    </tr>\n",
       "  </thead>\n",
       "  <tbody>\n",
       "    <tr>\n",
       "      <th>US</th>\n",
       "      <td>2.0</td>\n",
       "      <td>2.47</td>\n",
       "      <td>2.37</td>\n",
       "      <td>0.37</td>\n",
       "      <td>3.6</td>\n",
       "      <td>3.2</td>\n",
       "      <td>105.0</td>\n",
       "    </tr>\n",
       "    <tr>\n",
       "      <th>Canada</th>\n",
       "      <td>2.0</td>\n",
       "      <td>1.86</td>\n",
       "      <td>1.66</td>\n",
       "      <td>-0.34</td>\n",
       "      <td>5.7</td>\n",
       "      <td>1.6</td>\n",
       "      <td>10.6</td>\n",
       "    </tr>\n",
       "    <tr>\n",
       "      <th>France</th>\n",
       "      <td>1.3</td>\n",
       "      <td>-0.31</td>\n",
       "      <td>0.29</td>\n",
       "      <td>-1.01</td>\n",
       "      <td>8.7</td>\n",
       "      <td>1.1</td>\n",
       "      <td>98.4</td>\n",
       "    </tr>\n",
       "    <tr>\n",
       "      <th>Germany</th>\n",
       "      <td>2.0</td>\n",
       "      <td>-0.31</td>\n",
       "      <td>-0.12</td>\n",
       "      <td>-2.12</td>\n",
       "      <td>3.2</td>\n",
       "      <td>0.7</td>\n",
       "      <td>60.9</td>\n",
       "    </tr>\n",
       "    <tr>\n",
       "      <th>Italy</th>\n",
       "      <td>1.1</td>\n",
       "      <td>-0.31</td>\n",
       "      <td>2.76</td>\n",
       "      <td>1.66</td>\n",
       "      <td>10.2</td>\n",
       "      <td>0.1</td>\n",
       "      <td>132.0</td>\n",
       "    </tr>\n",
       "    <tr>\n",
       "      <th>Spain</th>\n",
       "      <td>1.5</td>\n",
       "      <td>-0.31</td>\n",
       "      <td>0.83</td>\n",
       "      <td>-0.67</td>\n",
       "      <td>14.7</td>\n",
       "      <td>2.4</td>\n",
       "      <td>97.1</td>\n",
       "    </tr>\n",
       "    <tr>\n",
       "      <th>UK</th>\n",
       "      <td>2.1</td>\n",
       "      <td>0.82</td>\n",
       "      <td>1.05</td>\n",
       "      <td>-1.05</td>\n",
       "      <td>3.8</td>\n",
       "      <td>1.8</td>\n",
       "      <td>84.7</td>\n",
       "    </tr>\n",
       "    <tr>\n",
       "      <th>Japan</th>\n",
       "      <td>0.9</td>\n",
       "      <td>-0.10</td>\n",
       "      <td>-0.06</td>\n",
       "      <td>-0.96</td>\n",
       "      <td>2.5</td>\n",
       "      <td>0.8</td>\n",
       "      <td>253.0</td>\n",
       "    </tr>\n",
       "    <tr>\n",
       "      <th>China</th>\n",
       "      <td>2.5</td>\n",
       "      <td>4.35</td>\n",
       "      <td>3.34</td>\n",
       "      <td>0.84</td>\n",
       "      <td>3.7</td>\n",
       "      <td>6.4</td>\n",
       "      <td>47.6</td>\n",
       "    </tr>\n",
       "  </tbody>\n",
       "</table>\n",
       "</div>"
      ],
      "text/plain": [
       "         Inflation  Short Rate  10yr Rate  10yr RealRate  Unemployment  \\\n",
       "Country                                                                  \n",
       "US             2.0        2.47       2.37           0.37           3.6   \n",
       "Canada         2.0        1.86       1.66          -0.34           5.7   \n",
       "France         1.3       -0.31       0.29          -1.01           8.7   \n",
       "Germany        2.0       -0.31      -0.12          -2.12           3.2   \n",
       "Italy          1.1       -0.31       2.76           1.66          10.2   \n",
       "Spain          1.5       -0.31       0.83          -0.67          14.7   \n",
       "UK             2.1        0.82       1.05          -1.05           3.8   \n",
       "Japan          0.9       -0.10      -0.06          -0.96           2.5   \n",
       "China          2.5        4.35       3.34           0.84           3.7   \n",
       "\n",
       "         GDP Growth  Debt to GDP  \n",
       "Country                           \n",
       "US              3.2        105.0  \n",
       "Canada          1.6         10.6  \n",
       "France          1.1         98.4  \n",
       "Germany         0.7         60.9  \n",
       "Italy           0.1        132.0  \n",
       "Spain           2.4         97.1  \n",
       "UK              1.8         84.7  \n",
       "Japan           0.8        253.0  \n",
       "China           6.4         47.6  "
      ]
     },
     "execution_count": 2,
     "metadata": {},
     "output_type": "execute_result"
    }
   ],
   "source": [
    "# Read the data from .csv into pandas DataFrame\n",
    "df=pd.read_csv('Countries.csv', index_col=0)\n",
    "df"
   ]
  },
  {
   "cell_type": "code",
   "execution_count": 13,
   "metadata": {},
   "outputs": [],
   "source": [
    "# Set up for heat map\n",
    "Cols=df.columns[:] # Can select columns, via slicing (also change cmaps below)\n",
    "ncols = len(Cols)\n",
    "# The heatmap color scheme depends on the column\n",
    "# for example, inflation is shown in red, gdp growth in green\n",
    "cmaps = [\"RdYlGn_r\", \"RdYlGn\", \"RdYlGn\", \"RdYlGn\", \"RdYlGn_r\", \"RdYlGn\",\"RdYlGn_r\"]"
   ]
  },
  {
   "cell_type": "code",
   "execution_count": 14,
   "metadata": {},
   "outputs": [
    {
     "data": {
      "image/png": "[encoded data removed]",
      "text/plain": [
       "<Figure size 864x288 with 7 Axes>"
      ]
     },
     "metadata": {
      "needs_background": "light"
     },
     "output_type": "display_data"
    }
   ],
   "source": [
    "# Generate heat map with each column having its own color scale\n",
    "fig,axes=plt.subplots(figsize = (12,4),ncols=ncols)\n",
    "sns.heatmap(df[[Cols[0]]], linewidths=0.01, ax=axes[0], cmap=cmaps[0],\n",
    "            center=0, annot=True, fmt='.10g', xticklabels=False, cbar=False)\n",
    "axes[0].set_title(Cols[0])\n",
    "for i in range(1,ncols):\n",
    "    sns.heatmap(df[[Cols[i]]], linewidths=0.01, ax=axes[i], cmap=cmaps[i],\n",
    "                center=0, annot=True, fmt='.10g', xticklabels=False,\n",
    "                yticklabels=False, cbar=False)\n",
    "    axes[i].set_title(Cols[i])\n",
    "    axes[i].set_ylabel('')\n",
    "plt.show()\n",
    "plt.close()"
   ]
  },
  {
   "cell_type": "code",
   "execution_count": null,
   "metadata": {},
   "outputs": [],
   "source": []
  }
 ],
 "metadata": {
  "kernelspec": {
   "display_name": "Python 3",
   "language": "python",
   "name": "python3"
  },
  "language_info": {
   "codemirror_mode": {
    "name": "ipython",
    "version": 3
   },
   "file_extension": ".py",
   "mimetype": "text/x-python",
   "name": "python",
   "nbconvert_exporter": "python",
   "pygments_lexer": "ipython3",
   "version": "3.7.1"
  }
 },
 "nbformat": 4,
 "nbformat_minor": 2
}
