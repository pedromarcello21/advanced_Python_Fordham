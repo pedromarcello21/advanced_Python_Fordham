{
 "cells": [
  {
   "cell_type": "markdown",
   "metadata": {},
   "source": [
    "# Global Stock Returns - Heat Map"
   ]
  },
  {
   "cell_type": "code",
   "execution_count": 1,
   "metadata": {},
   "outputs": [],
   "source": [
    "# Heat map of global stock index returns\n",
    "import pandas as pd\n",
    "import seaborn as sns"
   ]
  },
  {
   "cell_type": "code",
   "execution_count": 2,
   "metadata": {},
   "outputs": [
    {
     "data": {
      "text/html": [
       "<div>\n",
       "<style scoped>\n",
       "    .dataframe tbody tr th:only-of-type {\n",
       "        vertical-align: middle;\n",
       "    }\n",
       "\n",
       "    .dataframe tbody tr th {\n",
       "        vertical-align: top;\n",
       "    }\n",
       "\n",
       "    .dataframe thead th {\n",
       "        text-align: right;\n",
       "    }\n",
       "</style>\n",
       "<table border=\"1\" class=\"dataframe\">\n",
       "  <thead>\n",
       "    <tr style=\"text-align: right;\">\n",
       "      <th></th>\n",
       "      <th>1m</th>\n",
       "      <th>3m</th>\n",
       "      <th>1y</th>\n",
       "    </tr>\n",
       "    <tr>\n",
       "      <th>Index</th>\n",
       "      <th></th>\n",
       "      <th></th>\n",
       "      <th></th>\n",
       "    </tr>\n",
       "  </thead>\n",
       "  <tbody>\n",
       "    <tr>\n",
       "      <th>CAC40</th>\n",
       "      <td>1.62</td>\n",
       "      <td>6.44</td>\n",
       "      <td>-4.18</td>\n",
       "    </tr>\n",
       "    <tr>\n",
       "      <th>DAX</th>\n",
       "      <td>4.39</td>\n",
       "      <td>5.78</td>\n",
       "      <td>-6.51</td>\n",
       "    </tr>\n",
       "    <tr>\n",
       "      <th>IBEX35</th>\n",
       "      <td>-0.98</td>\n",
       "      <td>0.25</td>\n",
       "      <td>-8.82</td>\n",
       "    </tr>\n",
       "    <tr>\n",
       "      <th>FTSE100</th>\n",
       "      <td>1.31</td>\n",
       "      <td>3.44</td>\n",
       "      <td>-5.69</td>\n",
       "    </tr>\n",
       "    <tr>\n",
       "      <th>S&amp;P500</th>\n",
       "      <td>1.07</td>\n",
       "      <td>5.71</td>\n",
       "      <td>3.60</td>\n",
       "    </tr>\n",
       "    <tr>\n",
       "      <th>NIKKEI</th>\n",
       "      <td>-1.91</td>\n",
       "      <td>-3.19</td>\n",
       "      <td>-5.88</td>\n",
       "    </tr>\n",
       "    <tr>\n",
       "      <th>SHANGHEI</th>\n",
       "      <td>-3.67</td>\n",
       "      <td>10.59</td>\n",
       "      <td>-9.99</td>\n",
       "    </tr>\n",
       "  </tbody>\n",
       "</table>\n",
       "</div>"
      ],
      "text/plain": [
       "            1m     3m    1y\n",
       "Index                      \n",
       "CAC40     1.62   6.44 -4.18\n",
       "DAX       4.39   5.78 -6.51\n",
       "IBEX35   -0.98   0.25 -8.82\n",
       "FTSE100   1.31   3.44 -5.69\n",
       "S&P500    1.07   5.71  3.60\n",
       "NIKKEI   -1.91  -3.19 -5.88\n",
       "SHANGHEI -3.67  10.59 -9.99"
      ]
     },
     "execution_count": 2,
     "metadata": {},
     "output_type": "execute_result"
    }
   ],
   "source": [
    "df=pd.read_csv('StockIndexes.csv',index_col=0)\n",
    "# tbd - confirm if returns are nominal or annualized\n",
    "df"
   ]
  },
  {
   "cell_type": "code",
   "execution_count": 3,
   "metadata": {},
   "outputs": [
    {
     "data": {
      "text/plain": [
       "<matplotlib.axes._subplots.AxesSubplot at 0x1a1b7979e8>"
      ]
     },
     "execution_count": 3,
     "metadata": {},
     "output_type": "execute_result"
    },
    {
     "data": {
      "image/png": "[encoded data removed]",
      "text/plain": [
       "<Figure size 432x288 with 2 Axes>"
      ]
     },
     "metadata": {
      "needs_background": "light"
     },
     "output_type": "display_data"
    }
   ],
   "source": [
    "# Heatmap with common scale across all years\n",
    "sns.heatmap(df, cmap=\"RdYlGn\", center=0, annot=True)"
   ]
  },
  {
   "cell_type": "code",
   "execution_count": null,
   "metadata": {},
   "outputs": [],
   "source": []
  }
 ],
 "metadata": {
  "kernelspec": {
   "display_name": "Python 3 (ipykernel)",
   "language": "python",
   "name": "python3"
  },
  "language_info": {
   "codemirror_mode": {
    "name": "ipython",
    "version": 3
   },
   "file_extension": ".py",
   "mimetype": "text/x-python",
   "name": "python",
   "nbconvert_exporter": "python",
   "pygments_lexer": "ipython3",
   "version": "3.9.7"
  }
 },
 "nbformat": 4,
 "nbformat_minor": 2
}
