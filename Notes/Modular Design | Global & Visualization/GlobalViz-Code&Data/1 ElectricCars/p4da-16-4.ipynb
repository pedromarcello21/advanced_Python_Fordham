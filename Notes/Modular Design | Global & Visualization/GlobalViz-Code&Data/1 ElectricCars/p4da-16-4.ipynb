{
 "cells": [
  {
   "cell_type": "markdown",
   "id": "f8a196c7",
   "metadata": {},
   "source": [
    "Python for Data & Analytics<br>\n",
    "Chapter 16, section 4\n",
    "\n",
    "*** requires datafile: cars_sales.csv"
   ]
  },
  {
   "cell_type": "code",
   "execution_count": 1,
   "id": "eeb77071",
   "metadata": {},
   "outputs": [
    {
     "data": {
      "text/html": [
       "<div>\n",
       "<style scoped>\n",
       "    .dataframe tbody tr th:only-of-type {\n",
       "        vertical-align: middle;\n",
       "    }\n",
       "\n",
       "    .dataframe tbody tr th {\n",
       "        vertical-align: top;\n",
       "    }\n",
       "\n",
       "    .dataframe thead th {\n",
       "        text-align: right;\n",
       "    }\n",
       "</style>\n",
       "<table border=\"1\" class=\"dataframe\">\n",
       "  <thead>\n",
       "    <tr style=\"text-align: right;\">\n",
       "      <th></th>\n",
       "      <th>2020</th>\n",
       "      <th>2019</th>\n",
       "      <th>2018</th>\n",
       "      <th>2017</th>\n",
       "    </tr>\n",
       "    <tr>\n",
       "      <th>Country</th>\n",
       "      <th></th>\n",
       "      <th></th>\n",
       "      <th></th>\n",
       "      <th></th>\n",
       "    </tr>\n",
       "  </thead>\n",
       "  <tbody>\n",
       "    <tr>\n",
       "      <th>China</th>\n",
       "      <td>1246000</td>\n",
       "      <td>1204000</td>\n",
       "      <td>1016002</td>\n",
       "      <td>579000</td>\n",
       "    </tr>\n",
       "    <tr>\n",
       "      <th>United States</th>\n",
       "      <td>297939</td>\n",
       "      <td>329528</td>\n",
       "      <td>361307</td>\n",
       "      <td>199818</td>\n",
       "    </tr>\n",
       "    <tr>\n",
       "      <th>Germany</th>\n",
       "      <td>394632</td>\n",
       "      <td>108839</td>\n",
       "      <td>67504</td>\n",
       "      <td>54492</td>\n",
       "    </tr>\n",
       "    <tr>\n",
       "      <th>Norway</th>\n",
       "      <td>113588</td>\n",
       "      <td>88443</td>\n",
       "      <td>86290</td>\n",
       "      <td>71737</td>\n",
       "    </tr>\n",
       "    <tr>\n",
       "      <th>France</th>\n",
       "      <td>194881</td>\n",
       "      <td>69466</td>\n",
       "      <td>53745</td>\n",
       "      <td>42799</td>\n",
       "    </tr>\n",
       "    <tr>\n",
       "      <th>United Kingdom</th>\n",
       "      <td>175082</td>\n",
       "      <td>72584</td>\n",
       "      <td>59911</td>\n",
       "      <td>49182</td>\n",
       "    </tr>\n",
       "    <tr>\n",
       "      <th>Netherlands</th>\n",
       "      <td>89362</td>\n",
       "      <td>67520</td>\n",
       "      <td>29187</td>\n",
       "      <td>11085</td>\n",
       "    </tr>\n",
       "    <tr>\n",
       "      <th>Japan</th>\n",
       "      <td>29000</td>\n",
       "      <td>43867</td>\n",
       "      <td>52013</td>\n",
       "      <td>54100</td>\n",
       "    </tr>\n",
       "    <tr>\n",
       "      <th>Sweden</th>\n",
       "      <td>96054</td>\n",
       "      <td>41784</td>\n",
       "      <td>29909</td>\n",
       "      <td>19793</td>\n",
       "    </tr>\n",
       "    <tr>\n",
       "      <th>Canada</th>\n",
       "      <td>47000</td>\n",
       "      <td>50960</td>\n",
       "      <td>44150</td>\n",
       "      <td>18746</td>\n",
       "    </tr>\n",
       "  </tbody>\n",
       "</table>\n",
       "</div>"
      ],
      "text/plain": [
       "                   2020     2019     2018    2017\n",
       "Country                                          \n",
       "China           1246000  1204000  1016002  579000\n",
       "United States    297939   329528   361307  199818\n",
       "Germany          394632   108839    67504   54492\n",
       "Norway           113588    88443    86290   71737\n",
       "France           194881    69466    53745   42799\n",
       "United Kingdom   175082    72584    59911   49182\n",
       "Netherlands       89362    67520    29187   11085\n",
       "Japan             29000    43867    52013   54100\n",
       "Sweden            96054    41784    29909   19793\n",
       "Canada            47000    50960    44150   18746"
      ]
     },
     "execution_count": 1,
     "metadata": {},
     "output_type": "execute_result"
    }
   ],
   "source": [
    "import pandas as pd\n",
    "dfsales = pd.read_csv('cars_sales.csv', index_col='Country')\n",
    "dfsales"
   ]
  },
  {
   "cell_type": "code",
   "execution_count": 2,
   "id": "4d15421e",
   "metadata": {},
   "outputs": [
    {
     "data": {
      "text/html": [
       "<div>\n",
       "<style scoped>\n",
       "    .dataframe tbody tr th:only-of-type {\n",
       "        vertical-align: middle;\n",
       "    }\n",
       "\n",
       "    .dataframe tbody tr th {\n",
       "        vertical-align: top;\n",
       "    }\n",
       "\n",
       "    .dataframe thead th {\n",
       "        text-align: right;\n",
       "    }\n",
       "</style>\n",
       "<table border=\"1\" class=\"dataframe\">\n",
       "  <thead>\n",
       "    <tr style=\"text-align: right;\">\n",
       "      <th></th>\n",
       "      <th>2020</th>\n",
       "      <th>2019</th>\n",
       "      <th>2018</th>\n",
       "      <th>2017</th>\n",
       "    </tr>\n",
       "    <tr>\n",
       "      <th>Country</th>\n",
       "      <th></th>\n",
       "      <th></th>\n",
       "      <th></th>\n",
       "      <th></th>\n",
       "    </tr>\n",
       "  </thead>\n",
       "  <tbody>\n",
       "    <tr>\n",
       "      <th>China</th>\n",
       "      <td>1246.000</td>\n",
       "      <td>1204.000</td>\n",
       "      <td>1016.002</td>\n",
       "      <td>579.000</td>\n",
       "    </tr>\n",
       "    <tr>\n",
       "      <th>United States</th>\n",
       "      <td>297.939</td>\n",
       "      <td>329.528</td>\n",
       "      <td>361.307</td>\n",
       "      <td>199.818</td>\n",
       "    </tr>\n",
       "    <tr>\n",
       "      <th>Germany</th>\n",
       "      <td>394.632</td>\n",
       "      <td>108.839</td>\n",
       "      <td>67.504</td>\n",
       "      <td>54.492</td>\n",
       "    </tr>\n",
       "    <tr>\n",
       "      <th>Norway</th>\n",
       "      <td>113.588</td>\n",
       "      <td>88.443</td>\n",
       "      <td>86.290</td>\n",
       "      <td>71.737</td>\n",
       "    </tr>\n",
       "    <tr>\n",
       "      <th>France</th>\n",
       "      <td>194.881</td>\n",
       "      <td>69.466</td>\n",
       "      <td>53.745</td>\n",
       "      <td>42.799</td>\n",
       "    </tr>\n",
       "    <tr>\n",
       "      <th>United Kingdom</th>\n",
       "      <td>175.082</td>\n",
       "      <td>72.584</td>\n",
       "      <td>59.911</td>\n",
       "      <td>49.182</td>\n",
       "    </tr>\n",
       "    <tr>\n",
       "      <th>Netherlands</th>\n",
       "      <td>89.362</td>\n",
       "      <td>67.520</td>\n",
       "      <td>29.187</td>\n",
       "      <td>11.085</td>\n",
       "    </tr>\n",
       "    <tr>\n",
       "      <th>Japan</th>\n",
       "      <td>29.000</td>\n",
       "      <td>43.867</td>\n",
       "      <td>52.013</td>\n",
       "      <td>54.100</td>\n",
       "    </tr>\n",
       "    <tr>\n",
       "      <th>Sweden</th>\n",
       "      <td>96.054</td>\n",
       "      <td>41.784</td>\n",
       "      <td>29.909</td>\n",
       "      <td>19.793</td>\n",
       "    </tr>\n",
       "    <tr>\n",
       "      <th>Canada</th>\n",
       "      <td>47.000</td>\n",
       "      <td>50.960</td>\n",
       "      <td>44.150</td>\n",
       "      <td>18.746</td>\n",
       "    </tr>\n",
       "  </tbody>\n",
       "</table>\n",
       "</div>"
      ],
      "text/plain": [
       "                    2020      2019      2018     2017\n",
       "Country                                              \n",
       "China           1246.000  1204.000  1016.002  579.000\n",
       "United States    297.939   329.528   361.307  199.818\n",
       "Germany          394.632   108.839    67.504   54.492\n",
       "Norway           113.588    88.443    86.290   71.737\n",
       "France           194.881    69.466    53.745   42.799\n",
       "United Kingdom   175.082    72.584    59.911   49.182\n",
       "Netherlands       89.362    67.520    29.187   11.085\n",
       "Japan             29.000    43.867    52.013   54.100\n",
       "Sweden            96.054    41.784    29.909   19.793\n",
       "Canada            47.000    50.960    44.150   18.746"
      ]
     },
     "execution_count": 2,
     "metadata": {},
     "output_type": "execute_result"
    }
   ],
   "source": [
    "dfsales /= 1000\n",
    "dfsales"
   ]
  },
  {
   "cell_type": "code",
   "execution_count": 3,
   "id": "75af21a4",
   "metadata": {},
   "outputs": [
    {
     "data": {
      "text/html": [
       "<div>\n",
       "<style scoped>\n",
       "    .dataframe tbody tr th:only-of-type {\n",
       "        vertical-align: middle;\n",
       "    }\n",
       "\n",
       "    .dataframe tbody tr th {\n",
       "        vertical-align: top;\n",
       "    }\n",
       "\n",
       "    .dataframe thead th {\n",
       "        text-align: right;\n",
       "    }\n",
       "</style>\n",
       "<table border=\"1\" class=\"dataframe\">\n",
       "  <thead>\n",
       "    <tr style=\"text-align: right;\">\n",
       "      <th></th>\n",
       "      <th>2020</th>\n",
       "      <th>2019</th>\n",
       "      <th>2018</th>\n",
       "      <th>2017</th>\n",
       "    </tr>\n",
       "    <tr>\n",
       "      <th>Country</th>\n",
       "      <th></th>\n",
       "      <th></th>\n",
       "      <th></th>\n",
       "      <th></th>\n",
       "    </tr>\n",
       "  </thead>\n",
       "  <tbody>\n",
       "    <tr>\n",
       "      <th>China</th>\n",
       "      <td>1,246</td>\n",
       "      <td>1,204</td>\n",
       "      <td>1,016</td>\n",
       "      <td>579</td>\n",
       "    </tr>\n",
       "    <tr>\n",
       "      <th>United States</th>\n",
       "      <td>298</td>\n",
       "      <td>330</td>\n",
       "      <td>361</td>\n",
       "      <td>200</td>\n",
       "    </tr>\n",
       "    <tr>\n",
       "      <th>Germany</th>\n",
       "      <td>395</td>\n",
       "      <td>109</td>\n",
       "      <td>68</td>\n",
       "      <td>54</td>\n",
       "    </tr>\n",
       "    <tr>\n",
       "      <th>Norway</th>\n",
       "      <td>114</td>\n",
       "      <td>88</td>\n",
       "      <td>86</td>\n",
       "      <td>72</td>\n",
       "    </tr>\n",
       "    <tr>\n",
       "      <th>France</th>\n",
       "      <td>195</td>\n",
       "      <td>69</td>\n",
       "      <td>54</td>\n",
       "      <td>43</td>\n",
       "    </tr>\n",
       "    <tr>\n",
       "      <th>United Kingdom</th>\n",
       "      <td>175</td>\n",
       "      <td>73</td>\n",
       "      <td>60</td>\n",
       "      <td>49</td>\n",
       "    </tr>\n",
       "    <tr>\n",
       "      <th>Netherlands</th>\n",
       "      <td>89</td>\n",
       "      <td>68</td>\n",
       "      <td>29</td>\n",
       "      <td>11</td>\n",
       "    </tr>\n",
       "    <tr>\n",
       "      <th>Japan</th>\n",
       "      <td>29</td>\n",
       "      <td>44</td>\n",
       "      <td>52</td>\n",
       "      <td>54</td>\n",
       "    </tr>\n",
       "    <tr>\n",
       "      <th>Sweden</th>\n",
       "      <td>96</td>\n",
       "      <td>42</td>\n",
       "      <td>30</td>\n",
       "      <td>20</td>\n",
       "    </tr>\n",
       "    <tr>\n",
       "      <th>Canada</th>\n",
       "      <td>47</td>\n",
       "      <td>51</td>\n",
       "      <td>44</td>\n",
       "      <td>19</td>\n",
       "    </tr>\n",
       "  </tbody>\n",
       "</table>\n",
       "</div>"
      ],
      "text/plain": [
       "                2020  2019  2018  2017\n",
       "Country                               \n",
       "China          1,246 1,204 1,016   579\n",
       "United States    298   330   361   200\n",
       "Germany          395   109    68    54\n",
       "Norway           114    88    86    72\n",
       "France           195    69    54    43\n",
       "United Kingdom   175    73    60    49\n",
       "Netherlands       89    68    29    11\n",
       "Japan             29    44    52    54\n",
       "Sweden            96    42    30    20\n",
       "Canada            47    51    44    19"
      ]
     },
     "execution_count": 3,
     "metadata": {},
     "output_type": "execute_result"
    }
   ],
   "source": [
    "pd.options.display.float_format = '{:,.0f}'.format\n",
    "dfsales"
   ]
  },
  {
   "cell_type": "code",
   "execution_count": 4,
   "id": "f570138c",
   "metadata": {},
   "outputs": [
    {
     "data": {
      "text/html": [
       "<div>\n",
       "<style scoped>\n",
       "    .dataframe tbody tr th:only-of-type {\n",
       "        vertical-align: middle;\n",
       "    }\n",
       "\n",
       "    .dataframe tbody tr th {\n",
       "        vertical-align: top;\n",
       "    }\n",
       "\n",
       "    .dataframe thead th {\n",
       "        text-align: right;\n",
       "    }\n",
       "</style>\n",
       "<table border=\"1\" class=\"dataframe\">\n",
       "  <thead>\n",
       "    <tr style=\"text-align: right;\">\n",
       "      <th>Country</th>\n",
       "      <th>China</th>\n",
       "      <th>United States</th>\n",
       "      <th>Germany</th>\n",
       "      <th>Norway</th>\n",
       "      <th>France</th>\n",
       "    </tr>\n",
       "  </thead>\n",
       "  <tbody>\n",
       "    <tr>\n",
       "      <th>2017</th>\n",
       "      <td>579</td>\n",
       "      <td>200</td>\n",
       "      <td>54</td>\n",
       "      <td>72</td>\n",
       "      <td>43</td>\n",
       "    </tr>\n",
       "    <tr>\n",
       "      <th>2018</th>\n",
       "      <td>1,016</td>\n",
       "      <td>361</td>\n",
       "      <td>68</td>\n",
       "      <td>86</td>\n",
       "      <td>54</td>\n",
       "    </tr>\n",
       "    <tr>\n",
       "      <th>2019</th>\n",
       "      <td>1,204</td>\n",
       "      <td>330</td>\n",
       "      <td>109</td>\n",
       "      <td>88</td>\n",
       "      <td>69</td>\n",
       "    </tr>\n",
       "    <tr>\n",
       "      <th>2020</th>\n",
       "      <td>1,246</td>\n",
       "      <td>298</td>\n",
       "      <td>395</td>\n",
       "      <td>114</td>\n",
       "      <td>195</td>\n",
       "    </tr>\n",
       "  </tbody>\n",
       "</table>\n",
       "</div>"
      ],
      "text/plain": [
       "Country  China  United States  Germany  Norway  France\n",
       "2017       579            200       54      72      43\n",
       "2018     1,016            361       68      86      54\n",
       "2019     1,204            330      109      88      69\n",
       "2020     1,246            298      395     114     195"
      ]
     },
     "execution_count": 4,
     "metadata": {},
     "output_type": "execute_result"
    }
   ],
   "source": [
    "dfsales = dfsales.transpose()\n",
    "dfsales.rename_axis(index='Year')\n",
    "dfsales = dfsales.sort_index()\n",
    "dfsales.iloc[:5, :5]"
   ]
  },
  {
   "cell_type": "code",
   "execution_count": 5,
   "id": "04795e63",
   "metadata": {},
   "outputs": [
    {
     "data": {
      "text/plain": [
       "<AxesSubplot:>"
      ]
     },
     "execution_count": 5,
     "metadata": {},
     "output_type": "execute_result"
    },
    {
     "data": {
      "image/png": "[encoded data removed]",
      "text/plain": [
       "<Figure size 432x288 with 1 Axes>"
      ]
     },
     "metadata": {
      "needs_background": "light"
     },
     "output_type": "display_data"
    }
   ],
   "source": [
    "dfsales.plot(kind='bar', stacked=True)"
   ]
  },
  {
   "cell_type": "code",
   "execution_count": 6,
   "id": "f69e71c8",
   "metadata": {},
   "outputs": [],
   "source": [
    "import matplotlib.pyplot as plt"
   ]
  },
  {
   "cell_type": "code",
   "execution_count": 7,
   "id": "7fa0d17b",
   "metadata": {},
   "outputs": [
    {
     "data": {
      "image/png": "[encoded data removed]",
      "text/plain": [
       "<Figure size 432x288 with 1 Axes>"
      ]
     },
     "metadata": {
      "needs_background": "light"
     },
     "output_type": "display_data"
    }
   ],
   "source": [
    "dfsales.plot(kind='bar', stacked=True)\n",
    "plt.legend(loc='upper left', fontsize='x-small')\n",
    "plt.show()"
   ]
  },
  {
   "cell_type": "code",
   "execution_count": 8,
   "id": "29e543cf",
   "metadata": {},
   "outputs": [
    {
     "data": {
      "image/png": "[encoded data removed]",
      "text/plain": [
       "<Figure size 432x288 with 1 Axes>"
      ]
     },
     "metadata": {
      "needs_background": "light"
     },
     "output_type": "display_data"
    }
   ],
   "source": [
    "dfsales.plot(kind='bar', stacked=True)\n",
    "plt.legend(bbox_to_anchor=(1.05, 1))\n",
    "plt.show()"
   ]
  },
  {
   "cell_type": "code",
   "execution_count": 9,
   "id": "43bab459",
   "metadata": {},
   "outputs": [
    {
     "data": {
      "text/plain": [
       "<AxesSubplot:ylabel='2020'>"
      ]
     },
     "execution_count": 9,
     "metadata": {},
     "output_type": "execute_result"
    },
    {
     "data": {
      "image/png": "[encoded data removed]",
      "text/plain": [
       "<Figure size 432x288 with 1 Axes>"
      ]
     },
     "metadata": {},
     "output_type": "display_data"
    }
   ],
   "source": [
    "dfsales.loc['2020'].plot(kind='pie')"
   ]
  },
  {
   "cell_type": "code",
   "execution_count": 10,
   "id": "deb59428",
   "metadata": {},
   "outputs": [
    {
     "data": {
      "text/plain": [
       "<AxesSubplot:ylabel='2017'>"
      ]
     },
     "execution_count": 10,
     "metadata": {},
     "output_type": "execute_result"
    },
    {
     "data": {
      "image/png": "[encoded data removed]",
      "text/plain": [
       "<Figure size 432x288 with 1 Axes>"
      ]
     },
     "metadata": {},
     "output_type": "display_data"
    }
   ],
   "source": [
    "dfsales.loc['2017'].plot(kind='pie')"
   ]
  },
  {
   "cell_type": "markdown",
   "id": "8ba62333",
   "metadata": {},
   "source": [
    "Code from: Python for Data & Analytics, (c) 2023 Rose River Software, LLC"
   ]
  }
 ],
 "metadata": {
  "colab": {
   "name": "p4da-16-4.ipynb",
   "provenance": []
  },
  "kernelspec": {
   "display_name": "Python 3 (ipykernel)",
   "language": "python",
   "name": "python3"
  },
  "language_info": {
   "codemirror_mode": {
    "name": "ipython",
    "version": 3
   },
   "file_extension": ".py",
   "mimetype": "text/x-python",
   "name": "python",
   "nbconvert_exporter": "python",
   "pygments_lexer": "ipython3",
   "version": "3.9.7"
  }
 },
 "nbformat": 4,
 "nbformat_minor": 5
}
