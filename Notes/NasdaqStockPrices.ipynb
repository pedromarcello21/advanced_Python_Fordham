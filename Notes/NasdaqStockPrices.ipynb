{
 "cells": [
  {
   "cell_type": "markdown",
   "metadata": {},
   "source": [
    "# nasdaqdatalink.get_table( )\n",
    "### example stock price data retrieval"
   ]
  },
  {
   "cell_type": "markdown",
   "metadata": {},
   "source": [
    "#### part A) Access the data"
   ]
  },
  {
   "cell_type": "code",
   "execution_count": 1,
   "metadata": {},
   "outputs": [
    {
     "name": "stdout",
     "output_type": "stream",
     "text": [
      "Requirement already satisfied: nasdaq-data-link in /Applications/anaconda3/lib/python3.9/site-packages (1.0.4)\r\n",
      "Requirement already satisfied: numpy>=1.8 in /Applications/anaconda3/lib/python3.9/site-packages (from nasdaq-data-link) (1.21.5)\r\n",
      "Requirement already satisfied: more-itertools in /Applications/anaconda3/lib/python3.9/site-packages (from nasdaq-data-link) (9.0.0)\r\n",
      "Requirement already satisfied: pandas>=0.14 in /Applications/anaconda3/lib/python3.9/site-packages (from nasdaq-data-link) (1.4.4)\r\n",
      "Requirement already satisfied: requests>=2.7.0 in /Applications/anaconda3/lib/python3.9/site-packages (from nasdaq-data-link) (2.28.1)\r\n",
      "Requirement already satisfied: python-dateutil in /Applications/anaconda3/lib/python3.9/site-packages (from nasdaq-data-link) (2.8.2)\r\n",
      "Requirement already satisfied: inflection>=0.3.1 in /Applications/anaconda3/lib/python3.9/site-packages (from nasdaq-data-link) (0.5.1)\r\n",
      "Requirement already satisfied: six in /Applications/anaconda3/lib/python3.9/site-packages (from nasdaq-data-link) (1.16.0)\r\n",
      "Requirement already satisfied: pytz>=2020.1 in /Applications/anaconda3/lib/python3.9/site-packages (from pandas>=0.14->nasdaq-data-link) (2022.1)\r\n",
      "Requirement already satisfied: charset-normalizer<3,>=2 in /Applications/anaconda3/lib/python3.9/site-packages (from requests>=2.7.0->nasdaq-data-link) (2.0.4)\r\n",
      "Requirement already satisfied: idna<4,>=2.5 in /Applications/anaconda3/lib/python3.9/site-packages (from requests>=2.7.0->nasdaq-data-link) (3.3)\r\n",
      "Requirement already satisfied: urllib3<1.27,>=1.21.1 in /Applications/anaconda3/lib/python3.9/site-packages (from requests>=2.7.0->nasdaq-data-link) (1.26.11)\r\n",
      "Requirement already satisfied: certifi>=2017.4.17 in /Applications/anaconda3/lib/python3.9/site-packages (from requests>=2.7.0->nasdaq-data-link) (2022.9.24)\r\n"
     ]
    }
   ],
   "source": [
    "!pip install nasdaq-data-link"
   ]
  },
  {
   "cell_type": "code",
   "execution_count": 2,
   "metadata": {},
   "outputs": [],
   "source": [
    "import nasdaqdatalink\n",
    "import os\n",
    "from dotenv import load_dotenv"
   ]
  },
  {
   "cell_type": "code",
   "execution_count": 3,
   "metadata": {},
   "outputs": [],
   "source": [
    "# get a previously issued Quandl key from a .env file\n",
    "env_file = 'env_vars.env'\n",
    "load_dotenv(env_file)\n",
    "nasdaq_key = os.getenv('nasdaqAPIKey')\n",
    "#print(nasdaq_key)\n",
    "nasdaqdatalink.ApiConfig.api_key = nasdaq_key"
   ]
  },
  {
   "cell_type": "code",
   "execution_count": 18,
   "metadata": {},
   "outputs": [
    {
     "data": {
      "text/html": [
       "<div>\n",
       "<style scoped>\n",
       "    .dataframe tbody tr th:only-of-type {\n",
       "        vertical-align: middle;\n",
       "    }\n",
       "\n",
       "    .dataframe tbody tr th {\n",
       "        vertical-align: top;\n",
       "    }\n",
       "\n",
       "    .dataframe thead th {\n",
       "        text-align: right;\n",
       "    }\n",
       "</style>\n",
       "<table border=\"1\" class=\"dataframe\">\n",
       "  <thead>\n",
       "    <tr style=\"text-align: right;\">\n",
       "      <th></th>\n",
       "      <th>ticker</th>\n",
       "      <th>date</th>\n",
       "      <th>adj_close</th>\n",
       "    </tr>\n",
       "    <tr>\n",
       "      <th>None</th>\n",
       "      <th></th>\n",
       "      <th></th>\n",
       "      <th></th>\n",
       "    </tr>\n",
       "  </thead>\n",
       "  <tbody>\n",
       "    <tr>\n",
       "      <th>0</th>\n",
       "      <td>WMT</td>\n",
       "      <td>2018-03-27</td>\n",
       "      <td>86.050000</td>\n",
       "    </tr>\n",
       "    <tr>\n",
       "      <th>1</th>\n",
       "      <td>WMT</td>\n",
       "      <td>2018-03-26</td>\n",
       "      <td>87.500000</td>\n",
       "    </tr>\n",
       "    <tr>\n",
       "      <th>2</th>\n",
       "      <td>WMT</td>\n",
       "      <td>2018-03-23</td>\n",
       "      <td>85.420000</td>\n",
       "    </tr>\n",
       "    <tr>\n",
       "      <th>3</th>\n",
       "      <td>WMT</td>\n",
       "      <td>2018-03-22</td>\n",
       "      <td>87.140000</td>\n",
       "    </tr>\n",
       "    <tr>\n",
       "      <th>4</th>\n",
       "      <td>WMT</td>\n",
       "      <td>2018-03-21</td>\n",
       "      <td>88.180000</td>\n",
       "    </tr>\n",
       "    <tr>\n",
       "      <th>...</th>\n",
       "      <td>...</td>\n",
       "      <td>...</td>\n",
       "      <td>...</td>\n",
       "    </tr>\n",
       "    <tr>\n",
       "      <th>28967</th>\n",
       "      <td>AAPL</td>\n",
       "      <td>1980-12-18</td>\n",
       "      <td>0.391536</td>\n",
       "    </tr>\n",
       "    <tr>\n",
       "      <th>28968</th>\n",
       "      <td>AAPL</td>\n",
       "      <td>1980-12-17</td>\n",
       "      <td>0.380362</td>\n",
       "    </tr>\n",
       "    <tr>\n",
       "      <th>28969</th>\n",
       "      <td>AAPL</td>\n",
       "      <td>1980-12-16</td>\n",
       "      <td>0.371246</td>\n",
       "    </tr>\n",
       "    <tr>\n",
       "      <th>28970</th>\n",
       "      <td>AAPL</td>\n",
       "      <td>1980-12-15</td>\n",
       "      <td>0.400652</td>\n",
       "    </tr>\n",
       "    <tr>\n",
       "      <th>28971</th>\n",
       "      <td>AAPL</td>\n",
       "      <td>1980-12-12</td>\n",
       "      <td>0.422706</td>\n",
       "    </tr>\n",
       "  </tbody>\n",
       "</table>\n",
       "<p>28972 rows × 3 columns</p>\n",
       "</div>"
      ],
      "text/plain": [
       "      ticker       date  adj_close\n",
       "None                              \n",
       "0        WMT 2018-03-27  86.050000\n",
       "1        WMT 2018-03-26  87.500000\n",
       "2        WMT 2018-03-23  85.420000\n",
       "3        WMT 2018-03-22  87.140000\n",
       "4        WMT 2018-03-21  88.180000\n",
       "...      ...        ...        ...\n",
       "28967   AAPL 1980-12-18   0.391536\n",
       "28968   AAPL 1980-12-17   0.380362\n",
       "28969   AAPL 1980-12-16   0.371246\n",
       "28970   AAPL 1980-12-15   0.400652\n",
       "28971   AAPL 1980-12-12   0.422706\n",
       "\n",
       "[28972 rows x 3 columns]"
      ]
     },
     "execution_count": 18,
     "metadata": {},
     "output_type": "execute_result"
    }
   ],
   "source": [
    "# get stock price data for certain tickers, with a range of dates\n",
    "data = nasdaqdatalink.get_table('WIKI/PRICES', ticker = ['AAPL', 'MSFT', 'WMT'], \n",
    "                        qopts = { 'columns': ['ticker', 'date', 'adj_close'] }, \n",
    "                        #date = { 'gte': '2018-12-31', 'lte': '2019-12-31' }, \n",
    "                        paginate=True)\n",
    "data"
   ]
  },
  {
   "cell_type": "markdown",
   "metadata": {},
   "source": [
    "#### part B) Review the data"
   ]
  },
  {
   "cell_type": "code",
   "execution_count": 5,
   "metadata": {},
   "outputs": [
    {
     "data": {
      "text/plain": [
       "pandas.core.frame.DataFrame"
      ]
     },
     "execution_count": 5,
     "metadata": {},
     "output_type": "execute_result"
    }
   ],
   "source": [
    "type(data)"
   ]
  },
  {
   "cell_type": "code",
   "execution_count": 6,
   "metadata": {},
   "outputs": [
    {
     "name": "stdout",
     "output_type": "stream",
     "text": [
      "<class 'pandas.core.frame.DataFrame'>\n",
      "RangeIndex: 28972 entries, 0 to 28971\n",
      "Data columns (total 3 columns):\n",
      " #   Column     Non-Null Count  Dtype         \n",
      "---  ------     --------------  -----         \n",
      " 0   ticker     28972 non-null  object        \n",
      " 1   date       28972 non-null  datetime64[ns]\n",
      " 2   adj_close  28972 non-null  float64       \n",
      "dtypes: datetime64[ns](1), float64(1), object(1)\n",
      "memory usage: 679.2+ KB\n"
     ]
    }
   ],
   "source": [
    "data.info()"
   ]
  },
  {
   "cell_type": "code",
   "execution_count": 7,
   "metadata": {},
   "outputs": [
    {
     "data": {
      "text/html": [
       "<div>\n",
       "<style scoped>\n",
       "    .dataframe tbody tr th:only-of-type {\n",
       "        vertical-align: middle;\n",
       "    }\n",
       "\n",
       "    .dataframe tbody tr th {\n",
       "        vertical-align: top;\n",
       "    }\n",
       "\n",
       "    .dataframe thead th {\n",
       "        text-align: right;\n",
       "    }\n",
       "</style>\n",
       "<table border=\"1\" class=\"dataframe\">\n",
       "  <thead>\n",
       "    <tr style=\"text-align: right;\">\n",
       "      <th></th>\n",
       "      <th>ticker</th>\n",
       "      <th>date</th>\n",
       "      <th>adj_close</th>\n",
       "    </tr>\n",
       "    <tr>\n",
       "      <th>None</th>\n",
       "      <th></th>\n",
       "      <th></th>\n",
       "      <th></th>\n",
       "    </tr>\n",
       "  </thead>\n",
       "  <tbody>\n",
       "    <tr>\n",
       "      <th>0</th>\n",
       "      <td>WMT</td>\n",
       "      <td>2018-03-27</td>\n",
       "      <td>86.05</td>\n",
       "    </tr>\n",
       "    <tr>\n",
       "      <th>1</th>\n",
       "      <td>WMT</td>\n",
       "      <td>2018-03-26</td>\n",
       "      <td>87.50</td>\n",
       "    </tr>\n",
       "    <tr>\n",
       "      <th>2</th>\n",
       "      <td>WMT</td>\n",
       "      <td>2018-03-23</td>\n",
       "      <td>85.42</td>\n",
       "    </tr>\n",
       "    <tr>\n",
       "      <th>3</th>\n",
       "      <td>WMT</td>\n",
       "      <td>2018-03-22</td>\n",
       "      <td>87.14</td>\n",
       "    </tr>\n",
       "    <tr>\n",
       "      <th>4</th>\n",
       "      <td>WMT</td>\n",
       "      <td>2018-03-21</td>\n",
       "      <td>88.18</td>\n",
       "    </tr>\n",
       "  </tbody>\n",
       "</table>\n",
       "</div>"
      ],
      "text/plain": [
       "     ticker       date  adj_close\n",
       "None                             \n",
       "0       WMT 2018-03-27      86.05\n",
       "1       WMT 2018-03-26      87.50\n",
       "2       WMT 2018-03-23      85.42\n",
       "3       WMT 2018-03-22      87.14\n",
       "4       WMT 2018-03-21      88.18"
      ]
     },
     "execution_count": 7,
     "metadata": {},
     "output_type": "execute_result"
    }
   ],
   "source": [
    "data.head()"
   ]
  },
  {
   "cell_type": "code",
   "execution_count": 8,
   "metadata": {},
   "outputs": [
    {
     "data": {
      "text/html": [
       "<div>\n",
       "<style scoped>\n",
       "    .dataframe tbody tr th:only-of-type {\n",
       "        vertical-align: middle;\n",
       "    }\n",
       "\n",
       "    .dataframe tbody tr th {\n",
       "        vertical-align: top;\n",
       "    }\n",
       "\n",
       "    .dataframe thead th {\n",
       "        text-align: right;\n",
       "    }\n",
       "</style>\n",
       "<table border=\"1\" class=\"dataframe\">\n",
       "  <thead>\n",
       "    <tr style=\"text-align: right;\">\n",
       "      <th></th>\n",
       "      <th>ticker</th>\n",
       "      <th>date</th>\n",
       "      <th>adj_close</th>\n",
       "    </tr>\n",
       "    <tr>\n",
       "      <th>None</th>\n",
       "      <th></th>\n",
       "      <th></th>\n",
       "      <th></th>\n",
       "    </tr>\n",
       "  </thead>\n",
       "  <tbody>\n",
       "    <tr>\n",
       "      <th>28967</th>\n",
       "      <td>AAPL</td>\n",
       "      <td>1980-12-18</td>\n",
       "      <td>0.391536</td>\n",
       "    </tr>\n",
       "    <tr>\n",
       "      <th>28968</th>\n",
       "      <td>AAPL</td>\n",
       "      <td>1980-12-17</td>\n",
       "      <td>0.380362</td>\n",
       "    </tr>\n",
       "    <tr>\n",
       "      <th>28969</th>\n",
       "      <td>AAPL</td>\n",
       "      <td>1980-12-16</td>\n",
       "      <td>0.371246</td>\n",
       "    </tr>\n",
       "    <tr>\n",
       "      <th>28970</th>\n",
       "      <td>AAPL</td>\n",
       "      <td>1980-12-15</td>\n",
       "      <td>0.400652</td>\n",
       "    </tr>\n",
       "    <tr>\n",
       "      <th>28971</th>\n",
       "      <td>AAPL</td>\n",
       "      <td>1980-12-12</td>\n",
       "      <td>0.422706</td>\n",
       "    </tr>\n",
       "  </tbody>\n",
       "</table>\n",
       "</div>"
      ],
      "text/plain": [
       "      ticker       date  adj_close\n",
       "None                              \n",
       "28967   AAPL 1980-12-18   0.391536\n",
       "28968   AAPL 1980-12-17   0.380362\n",
       "28969   AAPL 1980-12-16   0.371246\n",
       "28970   AAPL 1980-12-15   0.400652\n",
       "28971   AAPL 1980-12-12   0.422706"
      ]
     },
     "execution_count": 8,
     "metadata": {},
     "output_type": "execute_result"
    }
   ],
   "source": [
    "data.tail()"
   ]
  },
  {
   "cell_type": "code",
   "execution_count": 9,
   "metadata": {},
   "outputs": [
    {
     "data": {
      "text/html": [
       "<div>\n",
       "<style scoped>\n",
       "    .dataframe tbody tr th:only-of-type {\n",
       "        vertical-align: middle;\n",
       "    }\n",
       "\n",
       "    .dataframe tbody tr th {\n",
       "        vertical-align: top;\n",
       "    }\n",
       "\n",
       "    .dataframe thead th {\n",
       "        text-align: right;\n",
       "    }\n",
       "</style>\n",
       "<table border=\"1\" class=\"dataframe\">\n",
       "  <thead>\n",
       "    <tr style=\"text-align: right;\">\n",
       "      <th></th>\n",
       "      <th>ticker</th>\n",
       "      <th>date</th>\n",
       "      <th>adj_close</th>\n",
       "    </tr>\n",
       "    <tr>\n",
       "      <th>None</th>\n",
       "      <th></th>\n",
       "      <th></th>\n",
       "      <th></th>\n",
       "    </tr>\n",
       "  </thead>\n",
       "  <tbody>\n",
       "    <tr>\n",
       "      <th>11495</th>\n",
       "      <td>WMT</td>\n",
       "      <td>1972-08-25</td>\n",
       "      <td>0.043826</td>\n",
       "    </tr>\n",
       "  </tbody>\n",
       "</table>\n",
       "</div>"
      ],
      "text/plain": [
       "      ticker       date  adj_close\n",
       "None                              \n",
       "11495    WMT 1972-08-25   0.043826"
      ]
     },
     "execution_count": 9,
     "metadata": {},
     "output_type": "execute_result"
    }
   ],
   "source": [
    "data[data.date == data.date.min()]"
   ]
  },
  {
   "cell_type": "code",
   "execution_count": 10,
   "metadata": {},
   "outputs": [
    {
     "data": {
      "text/html": [
       "<div>\n",
       "<style scoped>\n",
       "    .dataframe tbody tr th:only-of-type {\n",
       "        vertical-align: middle;\n",
       "    }\n",
       "\n",
       "    .dataframe tbody tr th {\n",
       "        vertical-align: top;\n",
       "    }\n",
       "\n",
       "    .dataframe thead th {\n",
       "        text-align: right;\n",
       "    }\n",
       "</style>\n",
       "<table border=\"1\" class=\"dataframe\">\n",
       "  <thead>\n",
       "    <tr style=\"text-align: right;\">\n",
       "      <th></th>\n",
       "      <th>ticker</th>\n",
       "      <th>date</th>\n",
       "      <th>adj_close</th>\n",
       "    </tr>\n",
       "    <tr>\n",
       "      <th>None</th>\n",
       "      <th></th>\n",
       "      <th></th>\n",
       "      <th></th>\n",
       "    </tr>\n",
       "  </thead>\n",
       "  <tbody>\n",
       "    <tr>\n",
       "      <th>0</th>\n",
       "      <td>WMT</td>\n",
       "      <td>2018-03-27</td>\n",
       "      <td>86.05</td>\n",
       "    </tr>\n",
       "    <tr>\n",
       "      <th>11496</th>\n",
       "      <td>MSFT</td>\n",
       "      <td>2018-03-27</td>\n",
       "      <td>89.47</td>\n",
       "    </tr>\n",
       "    <tr>\n",
       "      <th>19572</th>\n",
       "      <td>AAPL</td>\n",
       "      <td>2018-03-27</td>\n",
       "      <td>168.34</td>\n",
       "    </tr>\n",
       "  </tbody>\n",
       "</table>\n",
       "</div>"
      ],
      "text/plain": [
       "      ticker       date  adj_close\n",
       "None                              \n",
       "0        WMT 2018-03-27      86.05\n",
       "11496   MSFT 2018-03-27      89.47\n",
       "19572   AAPL 2018-03-27     168.34"
      ]
     },
     "execution_count": 10,
     "metadata": {},
     "output_type": "execute_result"
    }
   ],
   "source": [
    "data[data.date == data.date.max()]"
   ]
  },
  {
   "cell_type": "code",
   "execution_count": 11,
   "metadata": {},
   "outputs": [
    {
     "data": {
      "text/html": [
       "<div>\n",
       "<style scoped>\n",
       "    .dataframe tbody tr th:only-of-type {\n",
       "        vertical-align: middle;\n",
       "    }\n",
       "\n",
       "    .dataframe tbody tr th {\n",
       "        vertical-align: top;\n",
       "    }\n",
       "\n",
       "    .dataframe thead th {\n",
       "        text-align: right;\n",
       "    }\n",
       "</style>\n",
       "<table border=\"1\" class=\"dataframe\">\n",
       "  <thead>\n",
       "    <tr style=\"text-align: right;\">\n",
       "      <th></th>\n",
       "      <th>ticker</th>\n",
       "      <th>date</th>\n",
       "      <th>adj_close</th>\n",
       "    </tr>\n",
       "    <tr>\n",
       "      <th>None</th>\n",
       "      <th></th>\n",
       "      <th></th>\n",
       "      <th></th>\n",
       "    </tr>\n",
       "  </thead>\n",
       "  <tbody>\n",
       "    <tr>\n",
       "      <th>19572</th>\n",
       "      <td>AAPL</td>\n",
       "      <td>2018-03-27</td>\n",
       "      <td>168.34</td>\n",
       "    </tr>\n",
       "  </tbody>\n",
       "</table>\n",
       "</div>"
      ],
      "text/plain": [
       "      ticker       date  adj_close\n",
       "None                              \n",
       "19572   AAPL 2018-03-27     168.34"
      ]
     },
     "execution_count": 11,
     "metadata": {},
     "output_type": "execute_result"
    }
   ],
   "source": [
    "data[(data.date == data.date.max()) & (data.ticker == 'AAPL')]"
   ]
  },
  {
   "cell_type": "markdown",
   "metadata": {},
   "source": [
    "#### part C) Transform the data"
   ]
  },
  {
   "cell_type": "code",
   "execution_count": 17,
   "metadata": {},
   "outputs": [
    {
     "data": {
      "text/html": [
       "<div>\n",
       "<style scoped>\n",
       "    .dataframe tbody tr th:only-of-type {\n",
       "        vertical-align: middle;\n",
       "    }\n",
       "\n",
       "    .dataframe tbody tr th {\n",
       "        vertical-align: top;\n",
       "    }\n",
       "\n",
       "    .dataframe thead th {\n",
       "        text-align: right;\n",
       "    }\n",
       "</style>\n",
       "<table border=\"1\" class=\"dataframe\">\n",
       "  <thead>\n",
       "    <tr style=\"text-align: right;\">\n",
       "      <th></th>\n",
       "      <th>ticker</th>\n",
       "      <th>adj_close</th>\n",
       "    </tr>\n",
       "    <tr>\n",
       "      <th>date</th>\n",
       "      <th></th>\n",
       "      <th></th>\n",
       "    </tr>\n",
       "  </thead>\n",
       "  <tbody>\n",
       "    <tr>\n",
       "      <th>2018-03-27</th>\n",
       "      <td>WMT</td>\n",
       "      <td>86.050000</td>\n",
       "    </tr>\n",
       "    <tr>\n",
       "      <th>2018-03-26</th>\n",
       "      <td>WMT</td>\n",
       "      <td>87.500000</td>\n",
       "    </tr>\n",
       "    <tr>\n",
       "      <th>2018-03-23</th>\n",
       "      <td>WMT</td>\n",
       "      <td>85.420000</td>\n",
       "    </tr>\n",
       "    <tr>\n",
       "      <th>2018-03-22</th>\n",
       "      <td>WMT</td>\n",
       "      <td>87.140000</td>\n",
       "    </tr>\n",
       "    <tr>\n",
       "      <th>2018-03-21</th>\n",
       "      <td>WMT</td>\n",
       "      <td>88.180000</td>\n",
       "    </tr>\n",
       "    <tr>\n",
       "      <th>...</th>\n",
       "      <td>...</td>\n",
       "      <td>...</td>\n",
       "    </tr>\n",
       "    <tr>\n",
       "      <th>1980-12-18</th>\n",
       "      <td>AAPL</td>\n",
       "      <td>0.391536</td>\n",
       "    </tr>\n",
       "    <tr>\n",
       "      <th>1980-12-17</th>\n",
       "      <td>AAPL</td>\n",
       "      <td>0.380362</td>\n",
       "    </tr>\n",
       "    <tr>\n",
       "      <th>1980-12-16</th>\n",
       "      <td>AAPL</td>\n",
       "      <td>0.371246</td>\n",
       "    </tr>\n",
       "    <tr>\n",
       "      <th>1980-12-15</th>\n",
       "      <td>AAPL</td>\n",
       "      <td>0.400652</td>\n",
       "    </tr>\n",
       "    <tr>\n",
       "      <th>1980-12-12</th>\n",
       "      <td>AAPL</td>\n",
       "      <td>0.422706</td>\n",
       "    </tr>\n",
       "  </tbody>\n",
       "</table>\n",
       "<p>28972 rows × 2 columns</p>\n",
       "</div>"
      ],
      "text/plain": [
       "           ticker  adj_close\n",
       "date                        \n",
       "2018-03-27    WMT  86.050000\n",
       "2018-03-26    WMT  87.500000\n",
       "2018-03-23    WMT  85.420000\n",
       "2018-03-22    WMT  87.140000\n",
       "2018-03-21    WMT  88.180000\n",
       "...           ...        ...\n",
       "1980-12-18   AAPL   0.391536\n",
       "1980-12-17   AAPL   0.380362\n",
       "1980-12-16   AAPL   0.371246\n",
       "1980-12-15   AAPL   0.400652\n",
       "1980-12-12   AAPL   0.422706\n",
       "\n",
       "[28972 rows x 2 columns]"
      ]
     },
     "execution_count": 17,
     "metadata": {},
     "output_type": "execute_result"
    }
   ],
   "source": [
    "data_with_index = data.set_index('date')\n",
    "data_with_index"
   ]
  },
  {
   "cell_type": "code",
   "execution_count": 13,
   "metadata": {},
   "outputs": [],
   "source": [
    "# use pandas pivot function to move tickers from 1 row each in their own column\n",
    "data_pivoted = data_with_index.pivot(columns='ticker')"
   ]
  },
  {
   "cell_type": "code",
   "execution_count": 14,
   "metadata": {},
   "outputs": [
    {
     "data": {
      "text/plain": [
       "pandas.core.frame.DataFrame"
      ]
     },
     "execution_count": 14,
     "metadata": {},
     "output_type": "execute_result"
    }
   ],
   "source": [
    "type(data_pivoted)"
   ]
  },
  {
   "cell_type": "code",
   "execution_count": 15,
   "metadata": {},
   "outputs": [
    {
     "data": {
      "text/html": [
       "<div>\n",
       "<style scoped>\n",
       "    .dataframe tbody tr th:only-of-type {\n",
       "        vertical-align: middle;\n",
       "    }\n",
       "\n",
       "    .dataframe tbody tr th {\n",
       "        vertical-align: top;\n",
       "    }\n",
       "\n",
       "    .dataframe thead tr th {\n",
       "        text-align: left;\n",
       "    }\n",
       "\n",
       "    .dataframe thead tr:last-of-type th {\n",
       "        text-align: right;\n",
       "    }\n",
       "</style>\n",
       "<table border=\"1\" class=\"dataframe\">\n",
       "  <thead>\n",
       "    <tr>\n",
       "      <th></th>\n",
       "      <th colspan=\"3\" halign=\"left\">adj_close</th>\n",
       "    </tr>\n",
       "    <tr>\n",
       "      <th>ticker</th>\n",
       "      <th>AAPL</th>\n",
       "      <th>MSFT</th>\n",
       "      <th>WMT</th>\n",
       "    </tr>\n",
       "    <tr>\n",
       "      <th>date</th>\n",
       "      <th></th>\n",
       "      <th></th>\n",
       "      <th></th>\n",
       "    </tr>\n",
       "  </thead>\n",
       "  <tbody>\n",
       "    <tr>\n",
       "      <th>2018-03-21</th>\n",
       "      <td>171.270</td>\n",
       "      <td>92.48</td>\n",
       "      <td>88.18</td>\n",
       "    </tr>\n",
       "    <tr>\n",
       "      <th>2018-03-22</th>\n",
       "      <td>168.845</td>\n",
       "      <td>89.79</td>\n",
       "      <td>87.14</td>\n",
       "    </tr>\n",
       "    <tr>\n",
       "      <th>2018-03-23</th>\n",
       "      <td>164.940</td>\n",
       "      <td>87.18</td>\n",
       "      <td>85.42</td>\n",
       "    </tr>\n",
       "    <tr>\n",
       "      <th>2018-03-26</th>\n",
       "      <td>172.770</td>\n",
       "      <td>93.78</td>\n",
       "      <td>87.50</td>\n",
       "    </tr>\n",
       "    <tr>\n",
       "      <th>2018-03-27</th>\n",
       "      <td>168.340</td>\n",
       "      <td>89.47</td>\n",
       "      <td>86.05</td>\n",
       "    </tr>\n",
       "  </tbody>\n",
       "</table>\n",
       "</div>"
      ],
      "text/plain": [
       "           adj_close              \n",
       "ticker          AAPL   MSFT    WMT\n",
       "date                              \n",
       "2018-03-21   171.270  92.48  88.18\n",
       "2018-03-22   168.845  89.79  87.14\n",
       "2018-03-23   164.940  87.18  85.42\n",
       "2018-03-26   172.770  93.78  87.50\n",
       "2018-03-27   168.340  89.47  86.05"
      ]
     },
     "execution_count": 15,
     "metadata": {},
     "output_type": "execute_result"
    }
   ],
   "source": [
    "# check the tail of the output\n",
    "data_pivoted.tail()"
   ]
  },
  {
   "cell_type": "markdown",
   "metadata": {},
   "source": [
    "#### part D) Visualize the data"
   ]
  },
  {
   "cell_type": "code",
   "execution_count": 16,
   "metadata": {},
   "outputs": [
    {
     "data": {
      "text/plain": [
       "array([<AxesSubplot:xlabel='date'>, <AxesSubplot:xlabel='date'>,\n",
       "       <AxesSubplot:xlabel='date'>], dtype=object)"
      ]
     },
     "execution_count": 16,
     "metadata": {},
     "output_type": "execute_result"
    },
    {
     "data": {
      "image/png": "[encoded data removed]",
      "text/plain": [
       "<Figure size 640x480 with 3 Axes>"
      ]
     },
     "metadata": {},
     "output_type": "display_data"
    }
   ],
   "source": [
    "%matplotlib inline\n",
    "data_pivoted.plot.line(subplots=True)"
   ]
  }
 ],
 "metadata": {
  "kernelspec": {
   "display_name": "Python 3 (ipykernel)",
   "language": "python",
   "name": "python3"
  },
  "language_info": {
   "codemirror_mode": {
    "name": "ipython",
    "version": 3
   },
   "file_extension": ".py",
   "mimetype": "text/x-python",
   "name": "python",
   "nbconvert_exporter": "python",
   "pygments_lexer": "ipython3",
   "version": "3.9.13"
  }
 },
 "nbformat": 4,
 "nbformat_minor": 2
}
