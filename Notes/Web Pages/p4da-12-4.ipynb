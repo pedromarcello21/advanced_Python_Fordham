{
 "cells": [
  {
   "cell_type": "markdown",
   "id": "f8a196c7",
   "metadata": {},
   "source": [
    "Python for Data & Analytics<br>\n",
    "Chapter 12, section 4\n",
    "\n",
    "*** requires datafile: cdrates-notable.html"
   ]
  },
  {
   "cell_type": "code",
   "execution_count": 1,
   "id": "eeb77071",
   "metadata": {},
   "outputs": [],
   "source": [
    "filename = 'cdrates-notable.html'\n",
    "f = open(filename, 'r')\n",
    "contents = f.read()"
   ]
  },
  {
   "cell_type": "code",
   "execution_count": 2,
   "id": "a942a073",
   "metadata": {},
   "outputs": [
    {
     "data": {
      "text/plain": [
       "\"<html>\\n   <head>\\n      <title>CD Rates</title>\\n   </head>\\n   <body>\\n      <h3>Certificate of Deposit Rates</h3>\\n      <div id='asofdatetime'>\\n         Date: <span id='asofdate'>01/31/2021</span> <span>16:05</span>\\n      </div>\\n   </body>\\n</html>\\n\""
      ]
     },
     "execution_count": 2,
     "metadata": {},
     "output_type": "execute_result"
    }
   ],
   "source": [
    "contents"
   ]
  },
  {
   "cell_type": "code",
   "execution_count": 3,
   "id": "f342a70a",
   "metadata": {},
   "outputs": [],
   "source": [
    "from bs4 import BeautifulSoup"
   ]
  },
  {
   "cell_type": "code",
   "execution_count": 4,
   "id": "d1442b4c",
   "metadata": {},
   "outputs": [
    {
     "data": {
      "text/plain": [
       "bs4.BeautifulSoup"
      ]
     },
     "execution_count": 4,
     "metadata": {},
     "output_type": "execute_result"
    }
   ],
   "source": [
    "soup = BeautifulSoup(contents, 'html.parser')\n",
    "type(soup)"
   ]
  },
  {
   "cell_type": "code",
   "execution_count": 5,
   "id": "3d7ccdbb",
   "metadata": {},
   "outputs": [
    {
     "data": {
      "text/plain": [
       "<title>CD Rates</title>"
      ]
     },
     "execution_count": 5,
     "metadata": {},
     "output_type": "execute_result"
    }
   ],
   "source": [
    "soup.title"
   ]
  },
  {
   "cell_type": "code",
   "execution_count": 6,
   "id": "23bfb9fe",
   "metadata": {},
   "outputs": [
    {
     "data": {
      "text/plain": [
       "'CD Rates'"
      ]
     },
     "execution_count": 6,
     "metadata": {},
     "output_type": "execute_result"
    }
   ],
   "source": [
    "soup.title.text"
   ]
  },
  {
   "cell_type": "code",
   "execution_count": 7,
   "id": "777d465b",
   "metadata": {},
   "outputs": [
    {
     "data": {
      "text/plain": [
       "<html>\n",
       "<head>\n",
       "<title>CD Rates</title>\n",
       "</head>\n",
       "<body>\n",
       "<h3>Certificate of Deposit Rates</h3>\n",
       "<div id=\"asofdatetime\">\n",
       "         Date: <span id=\"asofdate\">01/31/2021</span> <span>16:05</span>\n",
       "</div>\n",
       "</body>\n",
       "</html>"
      ]
     },
     "execution_count": 7,
     "metadata": {},
     "output_type": "execute_result"
    }
   ],
   "source": [
    "soup"
   ]
  },
  {
   "cell_type": "code",
   "execution_count": 8,
   "id": "ef321600",
   "metadata": {},
   "outputs": [
    {
     "name": "stdout",
     "output_type": "stream",
     "text": [
      "<html>\n",
      " <head>\n",
      "  <title>\n",
      "   CD Rates\n",
      "  </title>\n",
      " </head>\n",
      " <body>\n",
      "  <h3>\n",
      "   Certificate of Deposit Rates\n",
      "  </h3>\n",
      "  <div id=\"asofdatetime\">\n",
      "   Date:\n",
      "   <span id=\"asofdate\">\n",
      "    01/31/2021\n",
      "   </span>\n",
      "   <span>\n",
      "    16:05\n",
      "   </span>\n",
      "  </div>\n",
      " </body>\n",
      "</html>\n",
      "\n"
     ]
    }
   ],
   "source": [
    "print(soup.prettify())"
   ]
  },
  {
   "cell_type": "code",
   "execution_count": 9,
   "id": "896062cc",
   "metadata": {},
   "outputs": [
    {
     "data": {
      "text/plain": [
       "'01/31/2021'"
      ]
     },
     "execution_count": 9,
     "metadata": {},
     "output_type": "execute_result"
    }
   ],
   "source": [
    "soup.span.text"
   ]
  },
  {
   "cell_type": "code",
   "execution_count": 10,
   "id": "81d43f16",
   "metadata": {},
   "outputs": [
    {
     "name": "stdout",
     "output_type": "stream",
     "text": [
      "01/31/2021\n"
     ]
    }
   ],
   "source": [
    "spanElement = soup.find('span')\n",
    "if spanElement != None:\n",
    "   print(spanElement.text)"
   ]
  },
  {
   "cell_type": "code",
   "execution_count": 11,
   "id": "af46bc68",
   "metadata": {},
   "outputs": [
    {
     "data": {
      "text/plain": [
       "<span id=\"asofdate\">01/31/2021</span>"
      ]
     },
     "execution_count": 11,
     "metadata": {},
     "output_type": "execute_result"
    }
   ],
   "source": [
    "soup.find('span', {'id':'asofdate'})"
   ]
  },
  {
   "cell_type": "code",
   "execution_count": 12,
   "id": "ba885d5d",
   "metadata": {},
   "outputs": [
    {
     "data": {
      "text/plain": [
       "<span id=\"asofdate\">01/31/2021</span>"
      ]
     },
     "execution_count": 12,
     "metadata": {},
     "output_type": "execute_result"
    }
   ],
   "source": [
    "soup.find('span', id='asofdate')"
   ]
  },
  {
   "cell_type": "code",
   "execution_count": 13,
   "id": "51b272b2",
   "metadata": {},
   "outputs": [],
   "source": [
    "spanElements = soup.find_all('span')"
   ]
  },
  {
   "cell_type": "code",
   "execution_count": 14,
   "id": "ed1ebb83",
   "metadata": {},
   "outputs": [
    {
     "name": "stdout",
     "output_type": "stream",
     "text": [
      "01/31/2021\n",
      "16:05\n"
     ]
    }
   ],
   "source": [
    "for element in spanElements:\n",
    "   text = element.text\n",
    "   if text != None:\n",
    "      print(text)"
   ]
  },
  {
   "cell_type": "code",
   "execution_count": 15,
   "id": "76af1ba1",
   "metadata": {},
   "outputs": [
    {
     "data": {
      "text/plain": [
       "'16:05'"
      ]
     },
     "execution_count": 15,
     "metadata": {},
     "output_type": "execute_result"
    }
   ],
   "source": [
    "spanElements[1].text"
   ]
  },
  {
   "cell_type": "code",
   "execution_count": 16,
   "id": "732587c0",
   "metadata": {},
   "outputs": [
    {
     "name": "stdout",
     "output_type": "stream",
     "text": [
      "<span id=\"asofdate\">01/31/2021</span>\n"
     ]
    }
   ],
   "source": [
    "datetimeDiv = soup.find('div', id='asofdatetime')\n",
    "dateSpan = datetimeDiv.find('span')\n",
    "print(dateSpan)"
   ]
  },
  {
   "cell_type": "code",
   "execution_count": 17,
   "id": "cfa0d85c",
   "metadata": {},
   "outputs": [
    {
     "name": "stdout",
     "output_type": "stream",
     "text": [
      "01/31/2021 16:05\n"
     ]
    }
   ],
   "source": [
    "datetimeDiv = soup.find('div', id='asofdatetime')\n",
    "dateSpan = datetimeDiv.find('span')\n",
    "timeSpan = dateSpan.find_next_sibling('span')\n",
    "print(dateSpan.text, timeSpan.text)"
   ]
  },
  {
   "cell_type": "markdown",
   "id": "8ba62333",
   "metadata": {},
   "source": [
    "Code from: Python for Data & Analytics, (c) 2023 Rose River Software, LLC"
   ]
  }
 ],
 "metadata": {
  "colab": {
   "name": "p4da-12-4.ipynb",
   "provenance": []
  },
  "kernelspec": {
   "display_name": "Python 3 (ipykernel)",
   "language": "python",
   "name": "python3"
  },
  "language_info": {
   "codemirror_mode": {
    "name": "ipython",
    "version": 3
   },
   "file_extension": ".py",
   "mimetype": "text/x-python",
   "name": "python",
   "nbconvert_exporter": "python",
   "pygments_lexer": "ipython3",
   "version": "3.9.13"
  }
 },
 "nbformat": 4,
 "nbformat_minor": 5
}
