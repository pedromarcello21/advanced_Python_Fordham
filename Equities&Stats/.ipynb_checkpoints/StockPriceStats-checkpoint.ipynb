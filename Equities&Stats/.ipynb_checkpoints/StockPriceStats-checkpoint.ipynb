{
 "cells": [
  {
   "cell_type": "markdown",
   "metadata": {},
   "source": [
    "## Selected Statistics Related to Market Index and Stock Prices"
   ]
  },
  {
   "cell_type": "markdown",
   "metadata": {},
   "source": [
    "#### A) read daily price series into a DataFrame, plot"
   ]
  },
  {
   "cell_type": "code",
   "execution_count": 1,
   "metadata": {},
   "outputs": [],
   "source": [
    "import pandas as pd"
   ]
  },
  {
   "cell_type": "code",
   "execution_count": 2,
   "metadata": {},
   "outputs": [],
   "source": [
    "# utility function to read Yahoo Finance daily price .csv and return DataFrame of adjusted closes\n",
    "def readAdjCloses(ticker):\n",
    "    df = pd.read_csv(ticker+'.csv', index_col=0, parse_dates=True)\n",
    "    df = df[['Adj Close']]\n",
    "    df.rename(columns={'Adj Close':ticker+'_AdjClose'}, inplace=True) # rename column to include ticker\n",
    "    return df    "
   ]
  },
  {
   "cell_type": "code",
   "execution_count": 3,
   "metadata": {},
   "outputs": [
    {
     "name": "stdout",
     "output_type": "stream",
     "text": [
      "AAPL\n",
      "MSFT\n",
      "WMT\n"
     ]
    }
   ],
   "source": [
    "# create a consolidated DataFrame of Index and Stock prices\n",
    "marketSymbol = 'SPY' # proxy for the S&P500\n",
    "stockSymbols = ['AAPL', 'MSFT', 'WMT'] # selected stocks of interest\n",
    "\n",
    "dfCloses = readAdjCloses(marketSymbol)\n",
    "for symbol in stockSymbols:\n",
    "    print(symbol)\n",
    "    df = readAdjCloses(symbol)\n",
    "    dfCloses = dfCloses.join(df)"
   ]
  },
  {
   "cell_type": "code",
   "execution_count": 4,
   "metadata": {},
   "outputs": [
    {
     "data": {
      "text/html": [
       "<div>\n",
       "<style scoped>\n",
       "    .dataframe tbody tr th:only-of-type {\n",
       "        vertical-align: middle;\n",
       "    }\n",
       "\n",
       "    .dataframe tbody tr th {\n",
       "        vertical-align: top;\n",
       "    }\n",
       "\n",
       "    .dataframe thead th {\n",
       "        text-align: right;\n",
       "    }\n",
       "</style>\n",
       "<table border=\"1\" class=\"dataframe\">\n",
       "  <thead>\n",
       "    <tr style=\"text-align: right;\">\n",
       "      <th></th>\n",
       "      <th>SPY_AdjClose</th>\n",
       "      <th>AAPL_AdjClose</th>\n",
       "      <th>MSFT_AdjClose</th>\n",
       "      <th>WMT_AdjClose</th>\n",
       "    </tr>\n",
       "    <tr>\n",
       "      <th>Date</th>\n",
       "      <th></th>\n",
       "      <th></th>\n",
       "      <th></th>\n",
       "      <th></th>\n",
       "    </tr>\n",
       "  </thead>\n",
       "  <tbody>\n",
       "    <tr>\n",
       "      <th>2017-06-15</th>\n",
       "      <td>223.383469</td>\n",
       "      <td>34.148609</td>\n",
       "      <td>65.472099</td>\n",
       "      <td>71.768936</td>\n",
       "    </tr>\n",
       "    <tr>\n",
       "      <th>2017-06-16</th>\n",
       "      <td>223.432281</td>\n",
       "      <td>33.670555</td>\n",
       "      <td>65.565765</td>\n",
       "      <td>68.431046</td>\n",
       "    </tr>\n",
       "    <tr>\n",
       "      <th>2017-06-19</th>\n",
       "      <td>225.292374</td>\n",
       "      <td>34.633778</td>\n",
       "      <td>66.380661</td>\n",
       "      <td>68.667503</td>\n",
       "    </tr>\n",
       "    <tr>\n",
       "      <th>2017-06-20</th>\n",
       "      <td>223.772980</td>\n",
       "      <td>34.319016</td>\n",
       "      <td>65.481468</td>\n",
       "      <td>68.703903</td>\n",
       "    </tr>\n",
       "    <tr>\n",
       "      <th>2017-06-21</th>\n",
       "      <td>223.717743</td>\n",
       "      <td>34.522552</td>\n",
       "      <td>65.818665</td>\n",
       "      <td>69.340546</td>\n",
       "    </tr>\n",
       "  </tbody>\n",
       "</table>\n",
       "</div>"
      ],
      "text/plain": [
       "            SPY_AdjClose  AAPL_AdjClose  MSFT_AdjClose  WMT_AdjClose\n",
       "Date                                                                \n",
       "2017-06-15    223.383469      34.148609      65.472099     71.768936\n",
       "2017-06-16    223.432281      33.670555      65.565765     68.431046\n",
       "2017-06-19    225.292374      34.633778      66.380661     68.667503\n",
       "2017-06-20    223.772980      34.319016      65.481468     68.703903\n",
       "2017-06-21    223.717743      34.522552      65.818665     69.340546"
      ]
     },
     "execution_count": 4,
     "metadata": {},
     "output_type": "execute_result"
    }
   ],
   "source": [
    "dfCloses.head(5)"
   ]
  },
  {
   "cell_type": "code",
   "execution_count": 5,
   "metadata": {},
   "outputs": [
    {
     "data": {
      "text/html": [
       "<div>\n",
       "<style scoped>\n",
       "    .dataframe tbody tr th:only-of-type {\n",
       "        vertical-align: middle;\n",
       "    }\n",
       "\n",
       "    .dataframe tbody tr th {\n",
       "        vertical-align: top;\n",
       "    }\n",
       "\n",
       "    .dataframe thead th {\n",
       "        text-align: right;\n",
       "    }\n",
       "</style>\n",
       "<table border=\"1\" class=\"dataframe\">\n",
       "  <thead>\n",
       "    <tr style=\"text-align: right;\">\n",
       "      <th></th>\n",
       "      <th>SPY_AdjClose</th>\n",
       "      <th>AAPL_AdjClose</th>\n",
       "      <th>MSFT_AdjClose</th>\n",
       "      <th>WMT_AdjClose</th>\n",
       "    </tr>\n",
       "    <tr>\n",
       "      <th>Date</th>\n",
       "      <th></th>\n",
       "      <th></th>\n",
       "      <th></th>\n",
       "      <th></th>\n",
       "    </tr>\n",
       "  </thead>\n",
       "  <tbody>\n",
       "    <tr>\n",
       "      <th>2022-06-08</th>\n",
       "      <td>411.220001</td>\n",
       "      <td>147.960007</td>\n",
       "      <td>270.410004</td>\n",
       "      <td>122.300003</td>\n",
       "    </tr>\n",
       "    <tr>\n",
       "      <th>2022-06-09</th>\n",
       "      <td>401.440002</td>\n",
       "      <td>142.639999</td>\n",
       "      <td>264.790009</td>\n",
       "      <td>121.019997</td>\n",
       "    </tr>\n",
       "    <tr>\n",
       "      <th>2022-06-10</th>\n",
       "      <td>389.799988</td>\n",
       "      <td>137.130005</td>\n",
       "      <td>252.990005</td>\n",
       "      <td>121.699997</td>\n",
       "    </tr>\n",
       "    <tr>\n",
       "      <th>2022-06-13</th>\n",
       "      <td>375.000000</td>\n",
       "      <td>131.880005</td>\n",
       "      <td>242.259995</td>\n",
       "      <td>119.410004</td>\n",
       "    </tr>\n",
       "    <tr>\n",
       "      <th>2022-06-14</th>\n",
       "      <td>373.869995</td>\n",
       "      <td>132.759995</td>\n",
       "      <td>244.490005</td>\n",
       "      <td>119.459999</td>\n",
       "    </tr>\n",
       "  </tbody>\n",
       "</table>\n",
       "</div>"
      ],
      "text/plain": [
       "            SPY_AdjClose  AAPL_AdjClose  MSFT_AdjClose  WMT_AdjClose\n",
       "Date                                                                \n",
       "2022-06-08    411.220001     147.960007     270.410004    122.300003\n",
       "2022-06-09    401.440002     142.639999     264.790009    121.019997\n",
       "2022-06-10    389.799988     137.130005     252.990005    121.699997\n",
       "2022-06-13    375.000000     131.880005     242.259995    119.410004\n",
       "2022-06-14    373.869995     132.759995     244.490005    119.459999"
      ]
     },
     "execution_count": 5,
     "metadata": {},
     "output_type": "execute_result"
    }
   ],
   "source": [
    "dfCloses.tail(5)"
   ]
  },
  {
   "cell_type": "code",
   "execution_count": 6,
   "metadata": {},
   "outputs": [
    {
     "data": {
      "text/html": [
       "<div>\n",
       "<style scoped>\n",
       "    .dataframe tbody tr th:only-of-type {\n",
       "        vertical-align: middle;\n",
       "    }\n",
       "\n",
       "    .dataframe tbody tr th {\n",
       "        vertical-align: top;\n",
       "    }\n",
       "\n",
       "    .dataframe thead th {\n",
       "        text-align: right;\n",
       "    }\n",
       "</style>\n",
       "<table border=\"1\" class=\"dataframe\">\n",
       "  <thead>\n",
       "    <tr style=\"text-align: right;\">\n",
       "      <th></th>\n",
       "      <th>SPY_AdjClose</th>\n",
       "      <th>AAPL_AdjClose</th>\n",
       "      <th>MSFT_AdjClose</th>\n",
       "      <th>WMT_AdjClose</th>\n",
       "    </tr>\n",
       "    <tr>\n",
       "      <th>Date</th>\n",
       "      <th></th>\n",
       "      <th></th>\n",
       "      <th></th>\n",
       "      <th></th>\n",
       "    </tr>\n",
       "  </thead>\n",
       "  <tbody>\n",
       "    <tr>\n",
       "      <th>2017-06-15</th>\n",
       "      <td>223.383469</td>\n",
       "      <td>34.148609</td>\n",
       "      <td>65.472099</td>\n",
       "      <td>71.768936</td>\n",
       "    </tr>\n",
       "    <tr>\n",
       "      <th>2017-06-16</th>\n",
       "      <td>223.432281</td>\n",
       "      <td>33.670555</td>\n",
       "      <td>65.565765</td>\n",
       "      <td>68.431046</td>\n",
       "    </tr>\n",
       "    <tr>\n",
       "      <th>2017-06-19</th>\n",
       "      <td>225.292374</td>\n",
       "      <td>34.633778</td>\n",
       "      <td>66.380661</td>\n",
       "      <td>68.667503</td>\n",
       "    </tr>\n",
       "    <tr>\n",
       "      <th>...</th>\n",
       "      <td>...</td>\n",
       "      <td>...</td>\n",
       "      <td>...</td>\n",
       "      <td>...</td>\n",
       "    </tr>\n",
       "    <tr>\n",
       "      <th>2022-06-10</th>\n",
       "      <td>389.799988</td>\n",
       "      <td>137.130005</td>\n",
       "      <td>252.990005</td>\n",
       "      <td>121.699997</td>\n",
       "    </tr>\n",
       "    <tr>\n",
       "      <th>2022-06-13</th>\n",
       "      <td>375.000000</td>\n",
       "      <td>131.880005</td>\n",
       "      <td>242.259995</td>\n",
       "      <td>119.410004</td>\n",
       "    </tr>\n",
       "    <tr>\n",
       "      <th>2022-06-14</th>\n",
       "      <td>373.869995</td>\n",
       "      <td>132.759995</td>\n",
       "      <td>244.490005</td>\n",
       "      <td>119.459999</td>\n",
       "    </tr>\n",
       "  </tbody>\n",
       "</table>\n",
       "<p>1259 rows × 4 columns</p>\n",
       "</div>"
      ],
      "text/plain": [
       "            SPY_AdjClose  AAPL_AdjClose  MSFT_AdjClose  WMT_AdjClose\n",
       "Date                                                                \n",
       "2017-06-15    223.383469      34.148609      65.472099     71.768936\n",
       "2017-06-16    223.432281      33.670555      65.565765     68.431046\n",
       "2017-06-19    225.292374      34.633778      66.380661     68.667503\n",
       "...                  ...            ...            ...           ...\n",
       "2022-06-10    389.799988     137.130005     252.990005    121.699997\n",
       "2022-06-13    375.000000     131.880005     242.259995    119.410004\n",
       "2022-06-14    373.869995     132.759995     244.490005    119.459999\n",
       "\n",
       "[1259 rows x 4 columns]"
      ]
     },
     "execution_count": 6,
     "metadata": {},
     "output_type": "execute_result"
    }
   ],
   "source": [
    "pd.options.display.max_rows = 6\n",
    "dfCloses"
   ]
  },
  {
   "cell_type": "code",
   "execution_count": 7,
   "metadata": {},
   "outputs": [
    {
     "data": {
      "image/png": "[encoded data removed]",
      "text/plain": [
       "<Figure size 640x480 with 1 Axes>"
      ]
     },
     "metadata": {},
     "output_type": "display_data"
    }
   ],
   "source": [
    "# plot 2 time series\n",
    "%matplotlib inline\n",
    "import matplotlib.pyplot as plt\n",
    "# related to datetime conversion (from matplotlib warning message)\n",
    "from pandas.plotting import register_matplotlib_converters\n",
    "register_matplotlib_converters()\n",
    "\n",
    "plt.title(\"Daily Adjusted Closing Price\")\n",
    "plt.plot(dfCloses.index, dfCloses.iloc[:,1], label=stockSymbols[0])\n",
    "plt.plot(dfCloses.index, dfCloses[\"MSFT_AdjClose\"], label=stockSymbols[1])\n",
    "plt.legend(loc='upper left')\n",
    "plt.show()\n",
    "# TODO - dual Y axes"
   ]
  },
  {
   "cell_type": "markdown",
   "metadata": {},
   "source": [
    "#### B) Calculate and analyze the Market Index price returns"
   ]
  },
  {
   "cell_type": "code",
   "execution_count": 8,
   "metadata": {},
   "outputs": [
    {
     "data": {
      "text/plain": [
       "pandas.core.series.Series"
      ]
     },
     "execution_count": 8,
     "metadata": {},
     "output_type": "execute_result"
    }
   ],
   "source": [
    "# calculate daily returns\n",
    "x = dfCloses.iloc[:,0]\n",
    "xret = x.pct_change()[1:]\n",
    "type(xret)"
   ]
  },
  {
   "cell_type": "code",
   "execution_count": 9,
   "metadata": {},
   "outputs": [
    {
     "data": {
      "image/png": "[encoded data removed]",
      "text/plain": [
       "<Figure size 640x480 with 1 Axes>"
      ]
     },
     "metadata": {},
     "output_type": "display_data"
    }
   ],
   "source": [
    "# histogram of daily returns\n",
    "%matplotlib inline\n",
    "import matplotlib.pyplot as plt\n",
    "plt.hist(xret, 50) # set # of bins for histogram\n",
    "plt.show()"
   ]
  },
  {
   "cell_type": "code",
   "execution_count": 10,
   "metadata": {},
   "outputs": [
    {
     "name": "stdout",
     "output_type": "stream",
     "text": [
      "mean= 0.00049\n",
      "std dev= 0.01272\n",
      "skewness= -0.7\n",
      "kurtosis= 13.7\n"
     ]
    }
   ],
   "source": [
    "# statistics on daily returns\n",
    "print(\"mean=\", round(xret.mean(),5))\n",
    "print(\"std dev=\", round(xret.std(),5))\n",
    "# skewness and kurtosis can be checked to test if distribution is Normal\n",
    "print(\"skewness=\", round(xret.skew(),1))\n",
    "print(\"kurtosis=\", round(xret.kurt(),1))"
   ]
  },
  {
   "cell_type": "markdown",
   "metadata": {},
   "source": [
    "#### C) Analyze relationship between stock and index returns"
   ]
  },
  {
   "cell_type": "code",
   "execution_count": 11,
   "metadata": {},
   "outputs": [
    {
     "data": {
      "image/png": "[encoded data removed]",
      "text/plain": [
       "<Figure size 640x480 with 1 Axes>"
      ]
     },
     "metadata": {},
     "output_type": "display_data"
    }
   ],
   "source": [
    "# calculate daily returns for Stock and Index\n",
    "x = dfCloses.iloc[:,0] # Market Index (position 0)\n",
    "xret = x.pct_change()[1:]\n",
    "\n",
    "y = dfCloses.iloc[:,1] # Stock (position 1)\n",
    "yret = y.pct_change()[1:]\n",
    "\n",
    "plt.title(\"Stock vs Market - Daily Returns\")\n",
    "plt.scatter(xret, yret)\n",
    "plt.xlabel('Market returns: ' + marketSymbol)\n",
    "plt.ylabel('Stock returns: ' + stockSymbols[0])\n",
    "plt.show()"
   ]
  },
  {
   "cell_type": "code",
   "execution_count": 12,
   "metadata": {},
   "outputs": [
    {
     "name": "stdout",
     "output_type": "stream",
     "text": [
      "                            OLS Regression Results                            \n",
      "==============================================================================\n",
      "Dep. Variable:          AAPL_AdjClose   R-squared:                       0.617\n",
      "Model:                            OLS   Adj. R-squared:                  0.617\n",
      "Method:                 Least Squares   F-statistic:                     2023.\n",
      "Date:                Mon, 20 Mar 2023   Prob (F-statistic):          5.30e-264\n",
      "Time:                        19:28:00   Log-Likelihood:                 3733.5\n",
      "No. Observations:                1258   AIC:                            -7463.\n",
      "Df Residuals:                    1256   BIC:                            -7453.\n",
      "Df Model:                           1                                         \n",
      "Covariance Type:            nonrobust                                         \n",
      "================================================================================\n",
      "                   coef    std err          t      P>|t|      [0.025      0.975]\n",
      "--------------------------------------------------------------------------------\n",
      "const            0.0007      0.000      1.915      0.056   -1.63e-05       0.001\n",
      "SPY_AdjClose     1.2414      0.028     44.979      0.000       1.187       1.296\n",
      "==============================================================================\n",
      "Omnibus:                      209.651   Durbin-Watson:                   1.845\n",
      "Prob(Omnibus):                  0.000   Jarque-Bera (JB):             1825.329\n",
      "Skew:                           0.494   Prob(JB):                         0.00\n",
      "Kurtosis:                       8.818   Cond. No.                         78.6\n",
      "==============================================================================\n",
      "\n",
      "Notes:\n",
      "[1] Standard Errors assume that the covariance matrix of the errors is correctly specified.\n"
     ]
    }
   ],
   "source": [
    "# regression of Stock returns vs. Market Index\n",
    "import statsmodels.api as sm\n",
    "indvars = sm.add_constant(xret) # allow for non-zero intercept\n",
    "model = sm.OLS(yret, indvars).fit() #OLS= ordinary least-squares regression\n",
    "summary = model.summary()\n",
    "print(summary)"
   ]
  },
  {
   "cell_type": "code",
   "execution_count": 13,
   "metadata": {},
   "outputs": [
    {
     "name": "stdout",
     "output_type": "stream",
     "text": [
      "Beta=      1.2414\n",
      "Alpha=     0.0007\n",
      "R-squared= 61.7 %\n",
      "P-stat=    0.0\n"
     ]
    }
   ],
   "source": [
    "# alternative for regression: scipy\n",
    "from scipy.stats import linregress\n",
    "beta, alpha, r, p, stderr = linregress(xret, yret)\n",
    "print(\"Beta=     \", round(beta, 4))\n",
    "print(\"Alpha=    \", round(alpha,4))\n",
    "print(\"R-squared=\", round(r**2*100,1), '%')\n",
    "print(\"P-stat=   \", round(p,6))"
   ]
  },
  {
   "cell_type": "markdown",
   "metadata": {},
   "source": [
    "#### D) Correlation matrix between stocks and index"
   ]
  },
  {
   "cell_type": "code",
   "execution_count": 14,
   "metadata": {},
   "outputs": [
    {
     "name": "stdout",
     "output_type": "stream",
     "text": [
      "SPY\n",
      "AAPL\n",
      "MSFT\n",
      "WMT\n"
     ]
    },
    {
     "data": {
      "text/html": [
       "<div>\n",
       "<style scoped>\n",
       "    .dataframe tbody tr th:only-of-type {\n",
       "        vertical-align: middle;\n",
       "    }\n",
       "\n",
       "    .dataframe tbody tr th {\n",
       "        vertical-align: top;\n",
       "    }\n",
       "\n",
       "    .dataframe thead th {\n",
       "        text-align: right;\n",
       "    }\n",
       "</style>\n",
       "<table border=\"1\" class=\"dataframe\">\n",
       "  <thead>\n",
       "    <tr style=\"text-align: right;\">\n",
       "      <th></th>\n",
       "      <th>SPY_Return</th>\n",
       "      <th>AAPL_Return</th>\n",
       "      <th>MSFT_Return</th>\n",
       "      <th>WMT_Return</th>\n",
       "    </tr>\n",
       "    <tr>\n",
       "      <th>Date</th>\n",
       "      <th></th>\n",
       "      <th></th>\n",
       "      <th></th>\n",
       "      <th></th>\n",
       "    </tr>\n",
       "  </thead>\n",
       "  <tbody>\n",
       "    <tr>\n",
       "      <th>2017-06-16</th>\n",
       "      <td>0.000219</td>\n",
       "      <td>-0.013999</td>\n",
       "      <td>0.001431</td>\n",
       "      <td>-0.046509</td>\n",
       "    </tr>\n",
       "  </tbody>\n",
       "</table>\n",
       "</div>"
      ],
      "text/plain": [
       "            SPY_Return  AAPL_Return  MSFT_Return  WMT_Return\n",
       "Date                                                        \n",
       "2017-06-16    0.000219    -0.013999     0.001431   -0.046509"
      ]
     },
     "execution_count": 14,
     "metadata": {},
     "output_type": "execute_result"
    }
   ],
   "source": [
    "# Create a separate DataFrame of daily returns\n",
    "dfReturns = pd.DataFrame(index=dfCloses.index[1:])\n",
    "for colname in dfCloses.columns:\n",
    "    symbol = colname.split('_')[0]\n",
    "    print(symbol)\n",
    "    dfReturns[symbol+'_Return'] = dfCloses[colname].pct_change()[1:]\n",
    "dfReturns.head(1)"
   ]
  },
  {
   "cell_type": "code",
   "execution_count": 15,
   "metadata": {},
   "outputs": [
    {
     "name": "stdout",
     "output_type": "stream",
     "text": [
      "Means:\n",
      "SPY_Return     0.000491\n",
      "AAPL_Return    0.001282\n",
      "MSFT_Return    0.001218\n",
      "WMT_Return     0.000510\n",
      "dtype: float64\n",
      "\n",
      "Std Devs:\n",
      "SPY_Return     0.012724\n",
      "AAPL_Return    0.020110\n",
      "MSFT_Return    0.018425\n",
      "WMT_Return     0.014537\n",
      "dtype: float64\n",
      "\n",
      "Correlations:\n",
      "             SPY_Return  AAPL_Return  MSFT_Return  WMT_Return\n",
      "SPY_Return     1.000000     0.785477     0.841254    0.450875\n",
      "AAPL_Return    0.785477     1.000000     0.756132    0.357679\n",
      "MSFT_Return    0.841254     0.756132     1.000000    0.390892\n",
      "WMT_Return     0.450875     0.357679     0.390892    1.000000\n"
     ]
    }
   ],
   "source": [
    "# Calculate means, stddev, and correlation matrix of daily returns\n",
    "means = dfReturns.mean()\n",
    "print(\"Means:\")\n",
    "print(means)\n",
    "\n",
    "stddevs = dfReturns.std()\n",
    "print(\"\\nStd Devs:\")\n",
    "print(stddevs)\n",
    "\n",
    "corrmtrx = dfReturns.corr()\n",
    "print(\"\\nCorrelations:\")\n",
    "print(corrmtrx)"
   ]
  },
  {
   "cell_type": "code",
   "execution_count": null,
   "metadata": {},
   "outputs": [],
   "source": []
  }
 ],
 "metadata": {
  "kernelspec": {
   "display_name": "Python 3 (ipykernel)",
   "language": "python",
   "name": "python3"
  },
  "language_info": {
   "codemirror_mode": {
    "name": "ipython",
    "version": 3
   },
   "file_extension": ".py",
   "mimetype": "text/x-python",
   "name": "python",
   "nbconvert_exporter": "python",
   "pygments_lexer": "ipython3",
   "version": "3.9.13"
  }
 },
 "nbformat": 4,
 "nbformat_minor": 2
}
