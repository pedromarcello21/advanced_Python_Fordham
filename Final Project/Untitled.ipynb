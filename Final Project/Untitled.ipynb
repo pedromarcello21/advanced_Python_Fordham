{
 "cells": [
  {
   "cell_type": "code",
   "execution_count": 1,
   "id": "03c42159",
   "metadata": {},
   "outputs": [
    {
     "name": "stderr",
     "output_type": "stream",
     "text": [
      "2023-05-05 11:05:13.249 \n",
      "  \u001b[33m\u001b[1mWarning:\u001b[0m to view this Streamlit app on a browser, run it with the following\n",
      "  command:\n",
      "\n",
      "    streamlit run /Applications/anaconda3/lib/python3.9/site-packages/ipykernel_launcher.py [ARGUMENTS]\n"
     ]
    }
   ],
   "source": [
    "import streamlit as st\n",
    "\n",
    "# Add a title to your app\n",
    "st.title('My Streamlit App')\n",
    "\n",
    "# Add some text\n",
    "st.write('Welcome to my Streamlit app!')\n",
    "\n",
    "# Add a button\n",
    "if st.button('Click me'):\n",
    "    st.write('Button clicked!')\n",
    "\n",
    "# Display a dataframe\n",
    "import pandas as pd\n",
    "data = {'Name': ['John', 'Jane', 'Mike'], 'Age': [25, 30, 35]}\n",
    "df = pd.DataFrame(data)\n",
    "st.write(df)"
   ]
  },
  {
   "cell_type": "code",
   "execution_count": null,
   "id": "1c60906c",
   "metadata": {},
   "outputs": [],
   "source": []
  }
 ],
 "metadata": {
  "kernelspec": {
   "display_name": "Python 3 (ipykernel)",
   "language": "python",
   "name": "python3"
  },
  "language_info": {
   "codemirror_mode": {
    "name": "ipython",
    "version": 3
   },
   "file_extension": ".py",
   "mimetype": "text/x-python",
   "name": "python",
   "nbconvert_exporter": "python",
   "pygments_lexer": "ipython3",
   "version": "3.9.13"
  }
 },
 "nbformat": 4,
 "nbformat_minor": 5
}
