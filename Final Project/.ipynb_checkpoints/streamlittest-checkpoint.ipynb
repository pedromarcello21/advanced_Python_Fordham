{
 "cells": [
  {
   "cell_type": "code",
   "execution_count": 4,
   "id": "70218b88",
   "metadata": {},
   "outputs": [],
   "source": [
    "# Import relevant libraries\n",
    "import yahoo_fin.options as ops\n",
    "import yahoo_fin.stock_info as si\n",
    "import opstrat as op\n",
    "import datetime as dt\n",
    "import pandas as pd\n",
    "from optionprice import Option\n",
    "from dateutil import parser\n",
    "import streamlit as st"
   ]
  },
  {
   "cell_type": "code",
   "execution_count": 5,
   "id": "03c42159",
   "metadata": {},
   "outputs": [],
   "source": [
    "st.title(\"Option Trading with Opstrat\")\n",
    "st.write(\"Welcome to the Option Trading application.\")"
   ]
  },
  {
   "cell_type": "code",
   "execution_count": 6,
   "id": "ad01a70d",
   "metadata": {},
   "outputs": [
    {
     "name": "stderr",
     "output_type": "stream",
     "text": [
      "2023-05-05 14:43:53.767 \n",
      "  \u001b[33m\u001b[1mWarning:\u001b[0m to view this Streamlit app on a browser, run it with the following\n",
      "  command:\n",
      "\n",
      "    streamlit run /Applications/anaconda3/lib/python3.9/site-packages/ipykernel_launcher.py [ARGUMENTS]\n"
     ]
    }
   ],
   "source": [
    "# Get today's date\n",
    "today = dt.date.today()\n",
    "todaysDate = today.strftime('%m/%d/%Y')\n",
    "\n",
    "# User enters stock for options trading\n",
    "stock = st.text_input(\"Enter Stock\\n>>>\")"
   ]
  },
  {
   "cell_type": "code",
   "execution_count": 7,
   "id": "9c8a3391",
   "metadata": {},
   "outputs": [],
   "source": [
    "# Get expiry dates of stock options from input\n",
    "expirationDates = ops.get_expiration_dates(stock)\n",
    "expirationDatesdf = pd.DataFrame(expirationDates, columns=['Expiration Dates'])\n",
    "st.dataframe(expirationDatesdf)"
   ]
  },
  {
   "cell_type": "code",
   "execution_count": 8,
   "id": "aa1f53dc",
   "metadata": {},
   "outputs": [],
   "source": [
    "# User enter's option date of choice\n",
    "optionDate = st.text_input('Enter a date from above that you\\'d like to exercise an options trade(s)\\n>>>')\n",
    "optionDate = st.selectbox(\n",
    "    'Click a date from above that you\\'d like to exercise an options trade(s)\\n>>>',\n",
    "     expirationDatesdf['Expiration Dates'])\n",
    "'You selected: ', option"
   ]
  },
  {
   "cell_type": "code",
   "execution_count": 9,
   "id": "4e59451a",
   "metadata": {},
   "outputs": [],
   "source": []
  }
 ],
 "metadata": {
  "kernelspec": {
   "display_name": "Python 3 (ipykernel)",
   "language": "python",
   "name": "python3"
  },
  "language_info": {
   "codemirror_mode": {
    "name": "ipython",
    "version": 3
   },
   "file_extension": ".py",
   "mimetype": "text/x-python",
   "name": "python",
   "nbconvert_exporter": "python",
   "pygments_lexer": "ipython3",
   "version": "3.9.13"
  }
 },
 "nbformat": 4,
 "nbformat_minor": 5
}
