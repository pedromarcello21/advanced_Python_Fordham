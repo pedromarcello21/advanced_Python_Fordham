{
 "cells": [
  {
   "cell_type": "code",
   "execution_count": null,
   "id": "758c7485",
   "metadata": {},
   "outputs": [],
   "source": [
    "# Import relevant libraries\n",
    "import yahoo_fin.options as ops\n",
    "import yahoo_fin.stock_info as si\n",
    "import opstrat as op\n",
    "import datetime as dt\n",
    "import pandas as pd\n",
    "from optionprice import Option\n",
    "from dateutil import parser\n",
    "import streamlit as st"
   ]
  },
  {
   "cell_type": "code",
   "execution_count": 2,
   "id": "92ac9d21",
   "metadata": {},
   "outputs": [],
   "source": [
    "# Get today's date\n",
    "today = dt.date.today()\n",
    "todaysDate = today.strftime('%m/%d/%Y')"
   ]
  },
  {
   "cell_type": "code",
   "execution_count": 3,
   "id": "47ad1091",
   "metadata": {},
   "outputs": [
    {
     "name": "stdout",
     "output_type": "stream",
     "text": [
      "Enter Stock\n",
      ">>>SOFI\n"
     ]
    }
   ],
   "source": [
    "# User enters stock for options trading\n",
    "stock = input(\"Enter Stock\\n>>>\")"
   ]
  },
  {
   "cell_type": "code",
   "execution_count": 4,
   "id": "237e2ee0",
   "metadata": {},
   "outputs": [
    {
     "data": {
      "text/html": [
       "<div>\n",
       "<style scoped>\n",
       "    .dataframe tbody tr th:only-of-type {\n",
       "        vertical-align: middle;\n",
       "    }\n",
       "\n",
       "    .dataframe tbody tr th {\n",
       "        vertical-align: top;\n",
       "    }\n",
       "\n",
       "    .dataframe thead th {\n",
       "        text-align: right;\n",
       "    }\n",
       "</style>\n",
       "<table border=\"1\" class=\"dataframe\">\n",
       "  <thead>\n",
       "    <tr style=\"text-align: right;\">\n",
       "      <th></th>\n",
       "      <th>Expiration Dates</th>\n",
       "    </tr>\n",
       "  </thead>\n",
       "  <tbody>\n",
       "    <tr>\n",
       "      <th>0</th>\n",
       "      <td>May 5, 2023</td>\n",
       "    </tr>\n",
       "    <tr>\n",
       "      <th>1</th>\n",
       "      <td>May 12, 2023</td>\n",
       "    </tr>\n",
       "    <tr>\n",
       "      <th>2</th>\n",
       "      <td>May 19, 2023</td>\n",
       "    </tr>\n",
       "    <tr>\n",
       "      <th>3</th>\n",
       "      <td>May 26, 2023</td>\n",
       "    </tr>\n",
       "    <tr>\n",
       "      <th>4</th>\n",
       "      <td>June 2, 2023</td>\n",
       "    </tr>\n",
       "    <tr>\n",
       "      <th>5</th>\n",
       "      <td>June 9, 2023</td>\n",
       "    </tr>\n",
       "    <tr>\n",
       "      <th>6</th>\n",
       "      <td>June 16, 2023</td>\n",
       "    </tr>\n",
       "    <tr>\n",
       "      <th>7</th>\n",
       "      <td>July 21, 2023</td>\n",
       "    </tr>\n",
       "    <tr>\n",
       "      <th>8</th>\n",
       "      <td>October 20, 2023</td>\n",
       "    </tr>\n",
       "    <tr>\n",
       "      <th>9</th>\n",
       "      <td>December 15, 2023</td>\n",
       "    </tr>\n",
       "    <tr>\n",
       "      <th>10</th>\n",
       "      <td>January 19, 2024</td>\n",
       "    </tr>\n",
       "    <tr>\n",
       "      <th>11</th>\n",
       "      <td>January 17, 2025</td>\n",
       "    </tr>\n",
       "  </tbody>\n",
       "</table>\n",
       "</div>"
      ],
      "text/plain": [
       "     Expiration Dates\n",
       "0         May 5, 2023\n",
       "1        May 12, 2023\n",
       "2        May 19, 2023\n",
       "3        May 26, 2023\n",
       "4        June 2, 2023\n",
       "5        June 9, 2023\n",
       "6       June 16, 2023\n",
       "7       July 21, 2023\n",
       "8    October 20, 2023\n",
       "9   December 15, 2023\n",
       "10   January 19, 2024\n",
       "11   January 17, 2025"
      ]
     },
     "execution_count": 4,
     "metadata": {},
     "output_type": "execute_result"
    }
   ],
   "source": [
    "# Get expiry dates of stock options from input\n",
    "expirationDates = ops.get_expiration_dates(stock)\n",
    "expirationDatesdf = pd.DataFrame(expirationDates, columns=['Expiration Dates'])\n",
    "expirationDatesdf"
   ]
  },
  {
   "cell_type": "code",
   "execution_count": 5,
   "id": "cb5e9597",
   "metadata": {},
   "outputs": [
    {
     "name": "stdout",
     "output_type": "stream",
     "text": [
      "Enter a date from above that you'd like to exercise an options trade(s)\n",
      ">>>December 15, 2023\n"
     ]
    }
   ],
   "source": [
    "# User enter's option date of choice\n",
    "optionDate = input('Enter a date from above that you\\'d like to exercise an options trade(s)\\n>>>')"
   ]
  },
  {
   "cell_type": "code",
   "execution_count": 6,
   "id": "9f388524",
   "metadata": {},
   "outputs": [],
   "source": [
    "# Format expiry date to mm/dd/yyyy\n",
    "dateObj = parser.parse(optionDate)\n",
    "formattedExpiryDate = dateObj.strftime(\"%m/%d/%Y\")"
   ]
  },
  {
   "cell_type": "code",
   "execution_count": 7,
   "id": "eb230631",
   "metadata": {},
   "outputs": [],
   "source": [
    "# Get call options of stock for provided expiry date\n",
    "calls = ops.get_calls(stock,optionDate)\n",
    "calls.set_index(\"Contract Name\",inplace = True)"
   ]
  },
  {
   "cell_type": "code",
   "execution_count": 8,
   "id": "0c281940",
   "metadata": {},
   "outputs": [],
   "source": [
    "# Get put options of stock for provided expiry date\n",
    "puts = ops.get_puts(stock,optionDate)\n",
    "puts.set_index(\"Contract Name\",inplace = True)"
   ]
  },
  {
   "cell_type": "code",
   "execution_count": 9,
   "id": "b2265d59",
   "metadata": {},
   "outputs": [
    {
     "name": "stdout",
     "output_type": "stream",
     "text": [
      "Enter a strike price in USD for your option(s)\n",
      " E.G.: 2.5\n",
      ">>>2.5\n"
     ]
    }
   ],
   "source": [
    "# Enter price of stock at option expiry (strike price)\n",
    "strike = float(input('Enter a strike price in USD for your option(s)\\n E.G.: 2.5\\n>>>'))"
   ]
  },
  {
   "cell_type": "markdown",
   "id": "eff2f9a3",
   "metadata": {},
   "source": [
    "### Data Allocation"
   ]
  },
  {
   "cell_type": "code",
   "execution_count": 10,
   "id": "003d3a80",
   "metadata": {},
   "outputs": [],
   "source": [
    "# Get data from stock's most recent close\n",
    "daily = si.get_data(stock, start_date=\"04/26/2022\", end_date=todaysDate, index_as_date = True, interval=\"1d\")\n",
    "today = daily.iloc[-1]"
   ]
  },
  {
   "cell_type": "code",
   "execution_count": 11,
   "id": "4d9238de",
   "metadata": {},
   "outputs": [],
   "source": [
    "# Get stock's most recent price to use as Spot Price\n",
    "spot = today[3]"
   ]
  },
  {
   "cell_type": "code",
   "execution_count": 12,
   "id": "5e0e6efd",
   "metadata": {},
   "outputs": [],
   "source": [
    "#Difference in days between Expiry Date and Today's Date\n",
    "\n",
    "date_format = \"%m/%d/%Y\"\n",
    "date1 = dt.datetime.strptime(todaysDate, date_format).date()\n",
    "date2 = dt.datetime.strptime(formattedExpiryDate, date_format).date()\n",
    "\n",
    "# Calculate the difference\n",
    "timedelta = date2 - date1\n",
    "\n",
    "# Convert the difference to a number of days\n",
    "days = timedelta.days"
   ]
  },
  {
   "cell_type": "markdown",
   "id": "c2bb396a",
   "metadata": {},
   "source": [
    "### Get Treasury rate for determining option price"
   ]
  },
  {
   "cell_type": "code",
   "execution_count": 13,
   "id": "466eab83",
   "metadata": {},
   "outputs": [],
   "source": [
    "url = \"https://home.treasury.gov/resource-center/data-chart-center/interest-rates/TextView?type=daily_treasury_yield_curve&field_tdr_date_value=2023\""
   ]
  },
  {
   "cell_type": "code",
   "execution_count": 14,
   "id": "fd4a329e",
   "metadata": {},
   "outputs": [],
   "source": [
    "dfs = pd.read_html(url)"
   ]
  },
  {
   "cell_type": "code",
   "execution_count": 15,
   "id": "809ccd96",
   "metadata": {},
   "outputs": [],
   "source": [
    "df = dfs[0]"
   ]
  },
  {
   "cell_type": "code",
   "execution_count": 18,
   "id": "d1864b94",
   "metadata": {},
   "outputs": [],
   "source": [
    "# Treasury Rate is given by a range of 1 Month to 10 Years.\n",
    "# This cell maps this range into days from months and years.  Rates are now represented by a number of days,\n",
    "# and the code below fits the closest bucket of days to the number of days until expiry to determine the most\n",
    "# appropriate rate to determine the option price\n",
    "\n",
    "############## Start of Data Wrangling ####################\n",
    "exclude_start = 1\n",
    "exclude_end = 9\n",
    "\n",
    "selected_columns = df.iloc[:, [*range(exclude_start), *range(exclude_end + 1, df.shape[1])]]\n",
    "\n",
    "selected_columns.set_index('Date',inplace = True)\n",
    "treasuryRateChart = selected_columns.tail(1).transpose()\n",
    "\n",
    "newIndex = [30,60,90,120,180,365,365*2,365*3,365*5,365*7,365*10,365*20,365*30]\n",
    "\n",
    "treasuryRateChart.index = newIndex\n",
    "\n",
    "newColumnName = ['Rates']\n",
    "treasuryRateChart.columns = newColumnName\n",
    "treasuryRateChart.index.name = 'Days'\n",
    "\n",
    "############### End of Data Wrangling ##################\n",
    "\n",
    "# Finds the best fit rate based on the number of days until expiry \n",
    "closestIndex = min(treasuryRateChart.index, key=lambda x: abs(x - days))\n",
    "closestValue = treasuryRateChart.loc[closestIndex,'Rates']\n"
   ]
  },
  {
   "cell_type": "markdown",
   "id": "2dd6118d",
   "metadata": {},
   "source": [
    "### Call Option"
   ]
  },
  {
   "cell_type": "code",
   "execution_count": 24,
   "id": "d77eeda5",
   "metadata": {},
   "outputs": [],
   "source": [
    "# Get data from call option based on expiry date and strike price\n",
    "call = calls[calls['Strike'] == strike]\n",
    "call = call.to_dict(orient='records')[0]"
   ]
  },
  {
   "cell_type": "code",
   "execution_count": 25,
   "id": "a444e3b3",
   "metadata": {},
   "outputs": [],
   "source": [
    "#Get implied volatility from option\n",
    "percentage_float = float(call['Implied Volatility'].strip('%'))/100"
   ]
  },
  {
   "cell_type": "code",
   "execution_count": 27,
   "id": "e2dc4402",
   "metadata": {},
   "outputs": [
    {
     "data": {
      "text/plain": [
       "Type:           European\n",
       "Kind:           call\n",
       "Price initial:  4.894999980926514\n",
       "Price strike:   2.5\n",
       "Volatility:     0.0%\n",
       "Risk free rate: 5.04%\n",
       "Start Date:     2023-05-05\n",
       "Expire Date:    2023-12-15\n",
       "Time span:      224 days"
      ]
     },
     "execution_count": 27,
     "metadata": {},
     "output_type": "execute_result"
    }
   ],
   "source": [
    "#Define option\n",
    "option_det = Option(european=True,\n",
    "                    kind='call',\n",
    "                    s0=spot,\n",
    "                    k=strike,\n",
    "                    t=days,\n",
    "                    sigma=percentage_float,\n",
    "                    r= (closestValue/100),\n",
    "                    dv=0)"
   ]
  },
  {
   "cell_type": "code",
   "execution_count": 30,
   "id": "f4b5f9fe",
   "metadata": {},
   "outputs": [],
   "source": [
    "# Get option price\n",
    "priceCall = option_det.getPrice(method='BSM',iteration=5000)\n"
   ]
  },
  {
   "cell_type": "code",
   "execution_count": 31,
   "id": "b179eff8",
   "metadata": {},
   "outputs": [
    {
     "data": {
      "text/html": [
       "<div>\n",
       "<style scoped>\n",
       "    .dataframe tbody tr th:only-of-type {\n",
       "        vertical-align: middle;\n",
       "    }\n",
       "\n",
       "    .dataframe tbody tr th {\n",
       "        vertical-align: top;\n",
       "    }\n",
       "\n",
       "    .dataframe thead th {\n",
       "        text-align: right;\n",
       "    }\n",
       "</style>\n",
       "<table border=\"1\" class=\"dataframe\">\n",
       "  <thead>\n",
       "    <tr style=\"text-align: right;\">\n",
       "      <th></th>\n",
       "      <th>Profit/Loss Call</th>\n",
       "    </tr>\n",
       "    <tr>\n",
       "      <th>Equity Market Price at Expiry</th>\n",
       "      <th></th>\n",
       "    </tr>\n",
       "  </thead>\n",
       "  <tbody>\n",
       "    <tr>\n",
       "      <th>3.4265</th>\n",
       "      <td>-154.464239</td>\n",
       "    </tr>\n",
       "    <tr>\n",
       "      <th>3.9160</th>\n",
       "      <td>-105.514240</td>\n",
       "    </tr>\n",
       "    <tr>\n",
       "      <th>4.4055</th>\n",
       "      <td>-56.564240</td>\n",
       "    </tr>\n",
       "    <tr>\n",
       "      <th>4.8950</th>\n",
       "      <td>-7.614240</td>\n",
       "    </tr>\n",
       "    <tr>\n",
       "      <th>5.3845</th>\n",
       "      <td>41.335760</td>\n",
       "    </tr>\n",
       "    <tr>\n",
       "      <th>5.8740</th>\n",
       "      <td>90.285760</td>\n",
       "    </tr>\n",
       "    <tr>\n",
       "      <th>6.3635</th>\n",
       "      <td>139.235760</td>\n",
       "    </tr>\n",
       "  </tbody>\n",
       "</table>\n",
       "</div>"
      ],
      "text/plain": [
       "                               Profit/Loss Call\n",
       "Equity Market Price at Expiry                  \n",
       "3.4265                              -154.464239\n",
       "3.9160                              -105.514240\n",
       "4.4055                               -56.564240\n",
       "4.8950                                -7.614240\n",
       "5.3845                                41.335760\n",
       "5.8740                                90.285760\n",
       "6.3635                               139.235760"
      ]
     },
     "execution_count": 31,
     "metadata": {},
     "output_type": "execute_result"
    }
   ],
   "source": [
    "# Create dataframe that shows payoffs of option based on probable Equity Prices at Expiry\n",
    "#pct_change = int(Strike/10)\n",
    "ploss = {'Equity Market Price at Expiry': [spot*.7,spot*.8,spot*.9,\n",
    "                                           spot,spot*1.1,spot*1.2,spot*1.3]}\n",
    "## Ask for number of contracts\n",
    "sperc = 100*1 #100 shares per contract\n",
    "df = pd.DataFrame(ploss, columns = ['Equity Market Price at Expiry','Profit/Loss Call'])\n",
    "payoffs = []\n",
    "for i in df['Equity Market Price at Expiry']:\n",
    "\n",
    "# Calculate Option Payoffs\n",
    "        payoff = max(((i - strike) * sperc) - (priceCall*sperc),-priceCall*sperc)\n",
    "        payoffs.append(payoff)\n",
    "\n",
    "# Create DataFrame\n",
    "ploss['Profit/Loss Call']=payoffs\n",
    "final1=pd.DataFrame(ploss,columns=['Equity Market Price at Expiry','Profit/Loss Call']).set_index('Equity Market Price at Expiry')\n",
    "\n",
    "final1"
   ]
  },
  {
   "cell_type": "code",
   "execution_count": 32,
   "id": "62ef10a4",
   "metadata": {},
   "outputs": [
    {
     "data": {
      "image/png": "[encoded data removed]",
      "text/plain": [
       "<Figure size 1000x600 with 1 Axes>"
      ]
     },
     "metadata": {},
     "output_type": "display_data"
    }
   ],
   "source": [
    "# Plot Option\n",
    "op.single_plotter(spot=spot, strike=strike, op_type='c', tr_type='b', op_pr=priceCall,spot_range = 100)"
   ]
  },
  {
   "cell_type": "markdown",
   "id": "ea6cfcd5",
   "metadata": {},
   "source": [
    "### Put Option"
   ]
  },
  {
   "cell_type": "code",
   "execution_count": 39,
   "id": "8b7170c9",
   "metadata": {},
   "outputs": [],
   "source": [
    "# Get data from put option based on expiry date and strike price\n",
    "put = puts[puts['Strike'] == strike]\n",
    "put = put.to_dict(orient='records')[0]"
   ]
  },
  {
   "cell_type": "code",
   "execution_count": 41,
   "id": "fdb7701f",
   "metadata": {},
   "outputs": [],
   "source": [
    "#Get implied volatility from option\n",
    "percentage_float = float(put['Implied Volatility'].strip('%'))/100\n"
   ]
  },
  {
   "cell_type": "code",
   "execution_count": 44,
   "id": "3791f45e",
   "metadata": {},
   "outputs": [],
   "source": [
    "# Define option and get option price \n",
    "option_det = Option(european=True,\n",
    "                    kind='put',\n",
    "                    s0=spot,\n",
    "                    k=strike,\n",
    "                    t=days,\n",
    "                    sigma=percentage_float,\n",
    "                    r=closestValue/100,\n",
    "                    dv=0)\n",
    "\n",
    "pricePut = option_det.getPrice(method='BSM',iteration=5000)"
   ]
  },
  {
   "cell_type": "code",
   "execution_count": 51,
   "id": "5b37695a",
   "metadata": {},
   "outputs": [
    {
     "data": {
      "text/html": [
       "<div>\n",
       "<style scoped>\n",
       "    .dataframe tbody tr th:only-of-type {\n",
       "        vertical-align: middle;\n",
       "    }\n",
       "\n",
       "    .dataframe tbody tr th {\n",
       "        vertical-align: top;\n",
       "    }\n",
       "\n",
       "    .dataframe thead th {\n",
       "        text-align: right;\n",
       "    }\n",
       "</style>\n",
       "<table border=\"1\" class=\"dataframe\">\n",
       "  <thead>\n",
       "    <tr style=\"text-align: right;\">\n",
       "      <th></th>\n",
       "      <th>Profit/Loss Put</th>\n",
       "    </tr>\n",
       "    <tr>\n",
       "      <th>Equity Market Price at Expiry</th>\n",
       "      <th></th>\n",
       "    </tr>\n",
       "  </thead>\n",
       "  <tbody>\n",
       "    <tr>\n",
       "      <th>3.4265</th>\n",
       "      <td>-0.00275</td>\n",
       "    </tr>\n",
       "    <tr>\n",
       "      <th>3.9160</th>\n",
       "      <td>-0.00275</td>\n",
       "    </tr>\n",
       "    <tr>\n",
       "      <th>4.4055</th>\n",
       "      <td>-0.00275</td>\n",
       "    </tr>\n",
       "    <tr>\n",
       "      <th>4.8950</th>\n",
       "      <td>-0.00275</td>\n",
       "    </tr>\n",
       "    <tr>\n",
       "      <th>5.3845</th>\n",
       "      <td>-0.00275</td>\n",
       "    </tr>\n",
       "    <tr>\n",
       "      <th>5.8740</th>\n",
       "      <td>-0.00275</td>\n",
       "    </tr>\n",
       "    <tr>\n",
       "      <th>6.3635</th>\n",
       "      <td>-0.00275</td>\n",
       "    </tr>\n",
       "  </tbody>\n",
       "</table>\n",
       "</div>"
      ],
      "text/plain": [
       "                               Profit/Loss Put\n",
       "Equity Market Price at Expiry                 \n",
       "3.4265                                -0.00275\n",
       "3.9160                                -0.00275\n",
       "4.4055                                -0.00275\n",
       "4.8950                                -0.00275\n",
       "5.3845                                -0.00275\n",
       "5.8740                                -0.00275\n",
       "6.3635                                -0.00275"
      ]
     },
     "execution_count": 51,
     "metadata": {},
     "output_type": "execute_result"
    }
   ],
   "source": [
    "# Get payouts of Put option based off probable equity prices at expiry\n",
    "ploss = {'Equity Market Price at Expiry': [spot*.7,spot*.8,spot*.9,\n",
    "                                           spot,spot*1.1,spot*1.2,spot*1.3]}\n",
    "sperc = 100*1 #100 shares per contract\n",
    "df = pd.DataFrame(ploss, columns = ['Equity Market Price at Expiry','Profit/Loss Put'])\n",
    "payoffs = []\n",
    "for i in df['Equity Market Price at Expiry']:\n",
    "\n",
    "# Calculate Option Payoffs\n",
    "        payoff = max(((strike - i) * sperc) - (pricePut*sperc),-pricePut*sperc)\n",
    "        payoffs.append(payoff)\n",
    "\n",
    "# Create DataFrame\n",
    "ploss['Profit/Loss Put']=payoffs\n",
    "final2=pd.DataFrame(ploss,columns=['Equity Market Price at Expiry','Profit/Loss Put']).set_index('Equity Market Price at Expiry')\n",
    "\n",
    "final2"
   ]
  },
  {
   "cell_type": "code",
   "execution_count": 52,
   "id": "c6adc2f3",
   "metadata": {},
   "outputs": [
    {
     "data": {
      "image/png": "[encoded data removed]",
      "text/plain": [
       "<Figure size 1000x600 with 1 Axes>"
      ]
     },
     "metadata": {},
     "output_type": "display_data"
    }
   ],
   "source": [
    "op.single_plotter(spot=spot, strike=strike, op_type='p', tr_type='b', op_pr=pricePut,spot_range = 100)"
   ]
  },
  {
   "cell_type": "markdown",
   "id": "76455f78",
   "metadata": {},
   "source": [
    "### Multi Plot"
   ]
  },
  {
   "cell_type": "code",
   "execution_count": 53,
   "id": "22fd7913",
   "metadata": {},
   "outputs": [
    {
     "data": {
      "text/html": [
       "<div>\n",
       "<style scoped>\n",
       "    .dataframe tbody tr th:only-of-type {\n",
       "        vertical-align: middle;\n",
       "    }\n",
       "\n",
       "    .dataframe tbody tr th {\n",
       "        vertical-align: top;\n",
       "    }\n",
       "\n",
       "    .dataframe thead th {\n",
       "        text-align: right;\n",
       "    }\n",
       "</style>\n",
       "<table border=\"1\" class=\"dataframe\">\n",
       "  <thead>\n",
       "    <tr style=\"text-align: right;\">\n",
       "      <th></th>\n",
       "      <th>Profit/Loss Call</th>\n",
       "      <th>Profit/Loss Put</th>\n",
       "      <th>P/L</th>\n",
       "    </tr>\n",
       "    <tr>\n",
       "      <th>Equity Market Price at Expiry</th>\n",
       "      <th></th>\n",
       "      <th></th>\n",
       "      <th></th>\n",
       "    </tr>\n",
       "  </thead>\n",
       "  <tbody>\n",
       "    <tr>\n",
       "      <th>3.4265</th>\n",
       "      <td>-154.464239</td>\n",
       "      <td>-0.00275</td>\n",
       "      <td>-154.466989</td>\n",
       "    </tr>\n",
       "    <tr>\n",
       "      <th>3.9160</th>\n",
       "      <td>-105.514240</td>\n",
       "      <td>-0.00275</td>\n",
       "      <td>-105.516989</td>\n",
       "    </tr>\n",
       "    <tr>\n",
       "      <th>4.4055</th>\n",
       "      <td>-56.564240</td>\n",
       "      <td>-0.00275</td>\n",
       "      <td>-56.566989</td>\n",
       "    </tr>\n",
       "    <tr>\n",
       "      <th>4.8950</th>\n",
       "      <td>-7.614240</td>\n",
       "      <td>-0.00275</td>\n",
       "      <td>-7.616990</td>\n",
       "    </tr>\n",
       "    <tr>\n",
       "      <th>5.3845</th>\n",
       "      <td>41.335760</td>\n",
       "      <td>-0.00275</td>\n",
       "      <td>41.333010</td>\n",
       "    </tr>\n",
       "    <tr>\n",
       "      <th>5.8740</th>\n",
       "      <td>90.285760</td>\n",
       "      <td>-0.00275</td>\n",
       "      <td>90.283010</td>\n",
       "    </tr>\n",
       "    <tr>\n",
       "      <th>6.3635</th>\n",
       "      <td>139.235760</td>\n",
       "      <td>-0.00275</td>\n",
       "      <td>139.233010</td>\n",
       "    </tr>\n",
       "  </tbody>\n",
       "</table>\n",
       "</div>"
      ],
      "text/plain": [
       "                               Profit/Loss Call  Profit/Loss Put         P/L\n",
       "Equity Market Price at Expiry                                               \n",
       "3.4265                              -154.464239         -0.00275 -154.466989\n",
       "3.9160                              -105.514240         -0.00275 -105.516989\n",
       "4.4055                               -56.564240         -0.00275  -56.566989\n",
       "4.8950                                -7.614240         -0.00275   -7.616990\n",
       "5.3845                                41.335760         -0.00275   41.333010\n",
       "5.8740                                90.285760         -0.00275   90.283010\n",
       "6.3635                               139.235760         -0.00275  139.233010"
      ]
     },
     "execution_count": 53,
     "metadata": {},
     "output_type": "execute_result"
    }
   ],
   "source": [
    "# Join PLs from Call and Put\n",
    "result = pd.merge(final1, final2, on='Equity Market Price at Expiry', how='inner')\n",
    "result.fillna(0,inplace = True)\n",
    "result['P/L'] = result.sum(axis=1)\n",
    "result[['P/L']].sort_values('Equity Market Price at Expiry')\n",
    "result.sort_values('Equity Market Price at Expiry')"
   ]
  },
  {
   "cell_type": "code",
   "execution_count": 54,
   "id": "eb87a7bf",
   "metadata": {},
   "outputs": [
    {
     "data": {
      "image/png": "[encoded data removed]",
      "text/plain": [
       "<Figure size 1000x600 with 1 Axes>"
      ]
     },
     "metadata": {},
     "output_type": "display_data"
    }
   ],
   "source": [
    "# Plot Put and Call\n",
    "op1={'op_type': 'p', 'strike': strike, 'tr_type': 'b', 'op_pr': pricePut}\n",
    "op2={'op_type': 'c', 'strike': strike, 'tr_type': 'b', 'op_pr': priceCall}\n",
    "\n",
    "op_list=[op1, op2]\n",
    "op.multi_plotter(spot=spot, op_list=op_list,spot_range = 100)"
   ]
  }
 ],
 "metadata": {
  "kernelspec": {
   "display_name": "Python 3 (ipykernel)",
   "language": "python",
   "name": "python3"
  },
  "language_info": {
   "codemirror_mode": {
    "name": "ipython",
    "version": 3
   },
   "file_extension": ".py",
   "mimetype": "text/x-python",
   "name": "python",
   "nbconvert_exporter": "python",
   "pygments_lexer": "ipython3",
   "version": "3.9.13"
  }
 },
 "nbformat": 4,
 "nbformat_minor": 5
}
