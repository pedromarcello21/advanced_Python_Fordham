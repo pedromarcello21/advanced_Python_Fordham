{
 "cells": [
  {
   "cell_type": "code",
   "execution_count": 1,
   "id": "758c7485",
   "metadata": {},
   "outputs": [],
   "source": [
    "# Import relevant libraries\n",
    "import yahoo_fin.options as ops\n",
    "import yahoo_fin.stock_info as si\n",
    "import opstrat as op\n",
    "import datetime\n",
    "import pandas as pd\n",
    "from optionprice import Option\n",
    "from dateutil import parser"
   ]
  },
  {
   "cell_type": "code",
   "execution_count": 2,
   "id": "92ac9d21",
   "metadata": {},
   "outputs": [],
   "source": [
    "# Get today's date\n",
    "today = datetime.date.today()\n",
    "todaysDate = today.strftime('%m/%d/%Y')"
   ]
  },
  {
   "cell_type": "code",
   "execution_count": 3,
   "id": "47ad1091",
   "metadata": {},
   "outputs": [
    {
     "name": "stdout",
     "output_type": "stream",
     "text": [
      "Enter stock ticker \n",
      ">>>SOFI\n"
     ]
    }
   ],
   "source": [
    "# User enters stock for options trading\n",
    "try:\n",
    "    stock = input(\"Enter stock ticker \\n>>>\")\n",
    "    # Get data from stock's most recent close\n",
    "    daily = si.get_data(stock, start_date=\"04/26/2022\", end_date=todaysDate, index_as_date = True, interval=\"1d\")\n",
    "    today = daily.iloc[-1]\n",
    "except:\n",
    "    print(\"Please enter a valid stock ticker\")"
   ]
  },
  {
   "cell_type": "code",
   "execution_count": 4,
   "id": "47f6ba05",
   "metadata": {},
   "outputs": [],
   "source": [
    "# Get data from stock's most recent close\n",
    "daily = si.get_data(stock, start_date=\"04/26/2022\", end_date=todaysDate, index_as_date = True, interval=\"1d\")\n",
    "today = daily.iloc[-1]"
   ]
  },
  {
   "cell_type": "code",
   "execution_count": 5,
   "id": "237e2ee0",
   "metadata": {},
   "outputs": [
    {
     "data": {
      "text/html": [
       "<div>\n",
       "<style scoped>\n",
       "    .dataframe tbody tr th:only-of-type {\n",
       "        vertical-align: middle;\n",
       "    }\n",
       "\n",
       "    .dataframe tbody tr th {\n",
       "        vertical-align: top;\n",
       "    }\n",
       "\n",
       "    .dataframe thead th {\n",
       "        text-align: right;\n",
       "    }\n",
       "</style>\n",
       "<table border=\"1\" class=\"dataframe\">\n",
       "  <thead>\n",
       "    <tr style=\"text-align: right;\">\n",
       "      <th></th>\n",
       "      <th>Expiration Dates</th>\n",
       "    </tr>\n",
       "  </thead>\n",
       "  <tbody>\n",
       "    <tr>\n",
       "      <th>0</th>\n",
       "      <td>May 12, 2023</td>\n",
       "    </tr>\n",
       "    <tr>\n",
       "      <th>1</th>\n",
       "      <td>May 19, 2023</td>\n",
       "    </tr>\n",
       "    <tr>\n",
       "      <th>2</th>\n",
       "      <td>May 26, 2023</td>\n",
       "    </tr>\n",
       "    <tr>\n",
       "      <th>3</th>\n",
       "      <td>June 2, 2023</td>\n",
       "    </tr>\n",
       "    <tr>\n",
       "      <th>4</th>\n",
       "      <td>June 9, 2023</td>\n",
       "    </tr>\n",
       "    <tr>\n",
       "      <th>5</th>\n",
       "      <td>June 16, 2023</td>\n",
       "    </tr>\n",
       "    <tr>\n",
       "      <th>6</th>\n",
       "      <td>June 23, 2023</td>\n",
       "    </tr>\n",
       "    <tr>\n",
       "      <th>7</th>\n",
       "      <td>July 21, 2023</td>\n",
       "    </tr>\n",
       "    <tr>\n",
       "      <th>8</th>\n",
       "      <td>October 20, 2023</td>\n",
       "    </tr>\n",
       "    <tr>\n",
       "      <th>9</th>\n",
       "      <td>December 15, 2023</td>\n",
       "    </tr>\n",
       "    <tr>\n",
       "      <th>10</th>\n",
       "      <td>January 19, 2024</td>\n",
       "    </tr>\n",
       "    <tr>\n",
       "      <th>11</th>\n",
       "      <td>January 17, 2025</td>\n",
       "    </tr>\n",
       "  </tbody>\n",
       "</table>\n",
       "</div>"
      ],
      "text/plain": [
       "     Expiration Dates\n",
       "0        May 12, 2023\n",
       "1        May 19, 2023\n",
       "2        May 26, 2023\n",
       "3        June 2, 2023\n",
       "4        June 9, 2023\n",
       "5       June 16, 2023\n",
       "6       June 23, 2023\n",
       "7       July 21, 2023\n",
       "8    October 20, 2023\n",
       "9   December 15, 2023\n",
       "10   January 19, 2024\n",
       "11   January 17, 2025"
      ]
     },
     "execution_count": 5,
     "metadata": {},
     "output_type": "execute_result"
    }
   ],
   "source": [
    "# Get expiry dates of stock options from input\n",
    "expirationDates = ops.get_expiration_dates(stock)\n",
    "expirationDatesdf = pd.DataFrame(expirationDates, columns=['Expiration Dates'])\n",
    "expirationDatesdf"
   ]
  },
  {
   "cell_type": "code",
   "execution_count": 6,
   "id": "7507d5db",
   "metadata": {},
   "outputs": [
    {
     "name": "stdout",
     "output_type": "stream",
     "text": [
      "Enter a date from above that you'd like to exercise an options trade(s)\n",
      ">>>December 15, 2023\n"
     ]
    }
   ],
   "source": [
    "# User enter's option date of choice\n",
    "optionDate = input('Enter a date from above that you\\'d like to exercise an options trade(s)\\n>>>')"
   ]
  },
  {
   "cell_type": "code",
   "execution_count": 7,
   "id": "f5236222",
   "metadata": {},
   "outputs": [],
   "source": [
    "# Format expiry date to mm/dd/yyyy\n",
    "dateObj = parser.parse(optionDate)\n",
    "formattedExpiryDate = dateObj.strftime(\"%m/%d/%Y\")"
   ]
  },
  {
   "cell_type": "code",
   "execution_count": 8,
   "id": "eb230631",
   "metadata": {},
   "outputs": [],
   "source": [
    "# Get call options of stock for provided expiry date\n",
    "calls = ops.get_calls(stock,optionDate)\n",
    "calls.set_index(\"Contract Name\",inplace = True)"
   ]
  },
  {
   "cell_type": "code",
   "execution_count": 9,
   "id": "0c281940",
   "metadata": {},
   "outputs": [
    {
     "data": {
      "text/html": [
       "<div>\n",
       "<style scoped>\n",
       "    .dataframe tbody tr th:only-of-type {\n",
       "        vertical-align: middle;\n",
       "    }\n",
       "\n",
       "    .dataframe tbody tr th {\n",
       "        vertical-align: top;\n",
       "    }\n",
       "\n",
       "    .dataframe thead th {\n",
       "        text-align: right;\n",
       "    }\n",
       "</style>\n",
       "<table border=\"1\" class=\"dataframe\">\n",
       "  <thead>\n",
       "    <tr style=\"text-align: right;\">\n",
       "      <th></th>\n",
       "      <th>Last Trade Date</th>\n",
       "      <th>Strike</th>\n",
       "      <th>Last Price</th>\n",
       "      <th>Bid</th>\n",
       "      <th>Ask</th>\n",
       "      <th>Change</th>\n",
       "      <th>% Change</th>\n",
       "      <th>Volume</th>\n",
       "      <th>Open Interest</th>\n",
       "      <th>Implied Volatility</th>\n",
       "    </tr>\n",
       "    <tr>\n",
       "      <th>Contract Name</th>\n",
       "      <th></th>\n",
       "      <th></th>\n",
       "      <th></th>\n",
       "      <th></th>\n",
       "      <th></th>\n",
       "      <th></th>\n",
       "      <th></th>\n",
       "      <th></th>\n",
       "      <th></th>\n",
       "      <th></th>\n",
       "    </tr>\n",
       "  </thead>\n",
       "  <tbody>\n",
       "    <tr>\n",
       "      <th>SOFI231215P00001000</th>\n",
       "      <td>2023-05-10 12:46PM EDT</td>\n",
       "      <td>1.0</td>\n",
       "      <td>0.01</td>\n",
       "      <td>0.00</td>\n",
       "      <td>0.01</td>\n",
       "      <td>-0.01</td>\n",
       "      <td>-50.00%</td>\n",
       "      <td>250</td>\n",
       "      <td>5298</td>\n",
       "      <td>93.75%</td>\n",
       "    </tr>\n",
       "    <tr>\n",
       "      <th>SOFI231215P00002000</th>\n",
       "      <td>2023-05-05 2:33PM EDT</td>\n",
       "      <td>2.0</td>\n",
       "      <td>0.11</td>\n",
       "      <td>0.00</td>\n",
       "      <td>0.22</td>\n",
       "      <td>0.00</td>\n",
       "      <td>-</td>\n",
       "      <td>10</td>\n",
       "      <td>10</td>\n",
       "      <td>99.61%</td>\n",
       "    </tr>\n",
       "    <tr>\n",
       "      <th>SOFI231215P00002500</th>\n",
       "      <td>2023-05-10 10:25AM EDT</td>\n",
       "      <td>2.5</td>\n",
       "      <td>0.12</td>\n",
       "      <td>0.11</td>\n",
       "      <td>0.13</td>\n",
       "      <td>-0.02</td>\n",
       "      <td>-14.29%</td>\n",
       "      <td>1</td>\n",
       "      <td>8601</td>\n",
       "      <td>82.03%</td>\n",
       "    </tr>\n",
       "    <tr>\n",
       "      <th>SOFI231215P00004000</th>\n",
       "      <td>2023-05-10 3:16PM EDT</td>\n",
       "      <td>4.0</td>\n",
       "      <td>0.43</td>\n",
       "      <td>0.41</td>\n",
       "      <td>0.44</td>\n",
       "      <td>0.00</td>\n",
       "      <td>-</td>\n",
       "      <td>10</td>\n",
       "      <td>5167</td>\n",
       "      <td>69.14%</td>\n",
       "    </tr>\n",
       "    <tr>\n",
       "      <th>SOFI231215P00005000</th>\n",
       "      <td>2023-05-10 3:58PM EDT</td>\n",
       "      <td>5.0</td>\n",
       "      <td>0.79</td>\n",
       "      <td>0.77</td>\n",
       "      <td>0.82</td>\n",
       "      <td>0.00</td>\n",
       "      <td>-</td>\n",
       "      <td>31</td>\n",
       "      <td>8767</td>\n",
       "      <td>63.38%</td>\n",
       "    </tr>\n",
       "    <tr>\n",
       "      <th>SOFI231215P00005500</th>\n",
       "      <td>2023-05-10 10:56AM EDT</td>\n",
       "      <td>5.5</td>\n",
       "      <td>1.06</td>\n",
       "      <td>1.01</td>\n",
       "      <td>1.06</td>\n",
       "      <td>-0.01</td>\n",
       "      <td>-0.93%</td>\n",
       "      <td>3</td>\n",
       "      <td>103</td>\n",
       "      <td>60.84%</td>\n",
       "    </tr>\n",
       "    <tr>\n",
       "      <th>SOFI231215P00006000</th>\n",
       "      <td>2023-05-10 12:18PM EDT</td>\n",
       "      <td>6.0</td>\n",
       "      <td>1.32</td>\n",
       "      <td>1.29</td>\n",
       "      <td>1.34</td>\n",
       "      <td>0.00</td>\n",
       "      <td>-</td>\n",
       "      <td>6</td>\n",
       "      <td>1738</td>\n",
       "      <td>58.79%</td>\n",
       "    </tr>\n",
       "    <tr>\n",
       "      <th>SOFI231215P00007500</th>\n",
       "      <td>2023-05-08 10:26AM EDT</td>\n",
       "      <td>7.5</td>\n",
       "      <td>2.49</td>\n",
       "      <td>2.35</td>\n",
       "      <td>2.44</td>\n",
       "      <td>0.00</td>\n",
       "      <td>-</td>\n",
       "      <td>3</td>\n",
       "      <td>4880</td>\n",
       "      <td>55.76%</td>\n",
       "    </tr>\n",
       "    <tr>\n",
       "      <th>SOFI231215P00009000</th>\n",
       "      <td>2023-04-24 11:26AM EDT</td>\n",
       "      <td>9.0</td>\n",
       "      <td>3.40</td>\n",
       "      <td>3.60</td>\n",
       "      <td>3.70</td>\n",
       "      <td>0.00</td>\n",
       "      <td>-</td>\n",
       "      <td>1</td>\n",
       "      <td>6</td>\n",
       "      <td>50.20%</td>\n",
       "    </tr>\n",
       "    <tr>\n",
       "      <th>SOFI231215P00010000</th>\n",
       "      <td>2023-05-08 10:35AM EDT</td>\n",
       "      <td>10.0</td>\n",
       "      <td>4.60</td>\n",
       "      <td>4.55</td>\n",
       "      <td>4.65</td>\n",
       "      <td>-0.12</td>\n",
       "      <td>-2.54%</td>\n",
       "      <td>21</td>\n",
       "      <td>3652</td>\n",
       "      <td>50.98%</td>\n",
       "    </tr>\n",
       "    <tr>\n",
       "      <th>SOFI231215P00012500</th>\n",
       "      <td>2023-05-04 10:44AM EDT</td>\n",
       "      <td>12.5</td>\n",
       "      <td>7.89</td>\n",
       "      <td>7.00</td>\n",
       "      <td>7.15</td>\n",
       "      <td>0.00</td>\n",
       "      <td>-</td>\n",
       "      <td>3</td>\n",
       "      <td>2027</td>\n",
       "      <td>59.38%</td>\n",
       "    </tr>\n",
       "    <tr>\n",
       "      <th>SOFI231215P00015000</th>\n",
       "      <td>2023-05-03 11:21AM EDT</td>\n",
       "      <td>15.0</td>\n",
       "      <td>10.15</td>\n",
       "      <td>9.50</td>\n",
       "      <td>9.65</td>\n",
       "      <td>0.00</td>\n",
       "      <td>-</td>\n",
       "      <td>2</td>\n",
       "      <td>16</td>\n",
       "      <td>69.14%</td>\n",
       "    </tr>\n",
       "    <tr>\n",
       "      <th>SOFI231215P00017500</th>\n",
       "      <td>2023-04-14 12:08PM EDT</td>\n",
       "      <td>17.5</td>\n",
       "      <td>11.70</td>\n",
       "      <td>11.95</td>\n",
       "      <td>12.15</td>\n",
       "      <td>0.00</td>\n",
       "      <td>-</td>\n",
       "      <td>50</td>\n",
       "      <td>0</td>\n",
       "      <td>70.31%</td>\n",
       "    </tr>\n",
       "    <tr>\n",
       "      <th>SOFI231215P00020000</th>\n",
       "      <td>2023-03-30 11:26AM EDT</td>\n",
       "      <td>20.0</td>\n",
       "      <td>14.21</td>\n",
       "      <td>13.65</td>\n",
       "      <td>13.90</td>\n",
       "      <td>0.00</td>\n",
       "      <td>-</td>\n",
       "      <td>3</td>\n",
       "      <td>0</td>\n",
       "      <td>0.00%</td>\n",
       "    </tr>\n",
       "    <tr>\n",
       "      <th>SOFI231215P00022500</th>\n",
       "      <td>2022-09-09 1:43PM EDT</td>\n",
       "      <td>22.5</td>\n",
       "      <td>16.25</td>\n",
       "      <td>17.35</td>\n",
       "      <td>17.60</td>\n",
       "      <td>0.00</td>\n",
       "      <td>-</td>\n",
       "      <td>18</td>\n",
       "      <td>9</td>\n",
       "      <td>136.72%</td>\n",
       "    </tr>\n",
       "    <tr>\n",
       "      <th>SOFI231215P00025000</th>\n",
       "      <td>2023-04-06 10:39AM EDT</td>\n",
       "      <td>25.0</td>\n",
       "      <td>19.35</td>\n",
       "      <td>19.80</td>\n",
       "      <td>19.90</td>\n",
       "      <td>0.00</td>\n",
       "      <td>-</td>\n",
       "      <td>23</td>\n",
       "      <td>0</td>\n",
       "      <td>131.84%</td>\n",
       "    </tr>\n",
       "    <tr>\n",
       "      <th>SOFI231215P00030000</th>\n",
       "      <td>2023-04-24 9:56AM EDT</td>\n",
       "      <td>30.0</td>\n",
       "      <td>24.10</td>\n",
       "      <td>24.45</td>\n",
       "      <td>24.70</td>\n",
       "      <td>0.00</td>\n",
       "      <td>-</td>\n",
       "      <td>1</td>\n",
       "      <td>0</td>\n",
       "      <td>102.73%</td>\n",
       "    </tr>\n",
       "    <tr>\n",
       "      <th>SOFI231215P00035000</th>\n",
       "      <td>2023-04-20 11:29AM EDT</td>\n",
       "      <td>35.0</td>\n",
       "      <td>29.05</td>\n",
       "      <td>29.45</td>\n",
       "      <td>29.75</td>\n",
       "      <td>0.00</td>\n",
       "      <td>-</td>\n",
       "      <td>2</td>\n",
       "      <td>0</td>\n",
       "      <td>115.63%</td>\n",
       "    </tr>\n",
       "  </tbody>\n",
       "</table>\n",
       "</div>"
      ],
      "text/plain": [
       "                            Last Trade Date  Strike  Last Price    Bid    Ask  \\\n",
       "Contract Name                                                                   \n",
       "SOFI231215P00001000  2023-05-10 12:46PM EDT     1.0        0.01   0.00   0.01   \n",
       "SOFI231215P00002000   2023-05-05 2:33PM EDT     2.0        0.11   0.00   0.22   \n",
       "SOFI231215P00002500  2023-05-10 10:25AM EDT     2.5        0.12   0.11   0.13   \n",
       "SOFI231215P00004000   2023-05-10 3:16PM EDT     4.0        0.43   0.41   0.44   \n",
       "SOFI231215P00005000   2023-05-10 3:58PM EDT     5.0        0.79   0.77   0.82   \n",
       "SOFI231215P00005500  2023-05-10 10:56AM EDT     5.5        1.06   1.01   1.06   \n",
       "SOFI231215P00006000  2023-05-10 12:18PM EDT     6.0        1.32   1.29   1.34   \n",
       "SOFI231215P00007500  2023-05-08 10:26AM EDT     7.5        2.49   2.35   2.44   \n",
       "SOFI231215P00009000  2023-04-24 11:26AM EDT     9.0        3.40   3.60   3.70   \n",
       "SOFI231215P00010000  2023-05-08 10:35AM EDT    10.0        4.60   4.55   4.65   \n",
       "SOFI231215P00012500  2023-05-04 10:44AM EDT    12.5        7.89   7.00   7.15   \n",
       "SOFI231215P00015000  2023-05-03 11:21AM EDT    15.0       10.15   9.50   9.65   \n",
       "SOFI231215P00017500  2023-04-14 12:08PM EDT    17.5       11.70  11.95  12.15   \n",
       "SOFI231215P00020000  2023-03-30 11:26AM EDT    20.0       14.21  13.65  13.90   \n",
       "SOFI231215P00022500   2022-09-09 1:43PM EDT    22.5       16.25  17.35  17.60   \n",
       "SOFI231215P00025000  2023-04-06 10:39AM EDT    25.0       19.35  19.80  19.90   \n",
       "SOFI231215P00030000   2023-04-24 9:56AM EDT    30.0       24.10  24.45  24.70   \n",
       "SOFI231215P00035000  2023-04-20 11:29AM EDT    35.0       29.05  29.45  29.75   \n",
       "\n",
       "                     Change % Change  Volume  Open Interest Implied Volatility  \n",
       "Contract Name                                                                   \n",
       "SOFI231215P00001000   -0.01  -50.00%     250           5298             93.75%  \n",
       "SOFI231215P00002000    0.00        -      10             10             99.61%  \n",
       "SOFI231215P00002500   -0.02  -14.29%       1           8601             82.03%  \n",
       "SOFI231215P00004000    0.00        -      10           5167             69.14%  \n",
       "SOFI231215P00005000    0.00        -      31           8767             63.38%  \n",
       "SOFI231215P00005500   -0.01   -0.93%       3            103             60.84%  \n",
       "SOFI231215P00006000    0.00        -       6           1738             58.79%  \n",
       "SOFI231215P00007500    0.00        -       3           4880             55.76%  \n",
       "SOFI231215P00009000    0.00        -       1              6             50.20%  \n",
       "SOFI231215P00010000   -0.12   -2.54%      21           3652             50.98%  \n",
       "SOFI231215P00012500    0.00        -       3           2027             59.38%  \n",
       "SOFI231215P00015000    0.00        -       2             16             69.14%  \n",
       "SOFI231215P00017500    0.00        -      50              0             70.31%  \n",
       "SOFI231215P00020000    0.00        -       3              0              0.00%  \n",
       "SOFI231215P00022500    0.00        -      18              9            136.72%  \n",
       "SOFI231215P00025000    0.00        -      23              0            131.84%  \n",
       "SOFI231215P00030000    0.00        -       1              0            102.73%  \n",
       "SOFI231215P00035000    0.00        -       2              0            115.63%  "
      ]
     },
     "execution_count": 9,
     "metadata": {},
     "output_type": "execute_result"
    }
   ],
   "source": [
    "# Get put options of stock for provided expiry date\n",
    "puts = ops.get_puts(stock,optionDate)\n",
    "puts.set_index(\"Contract Name\",inplace = True)\n",
    "puts"
   ]
  },
  {
   "cell_type": "code",
   "execution_count": 10,
   "id": "1bc45c10",
   "metadata": {},
   "outputs": [
    {
     "name": "stdout",
     "output_type": "stream",
     "text": [
      "Enter a strike price in USD for your option(s)\n",
      " E.G.: 2.5\n",
      ">>>2.5\n"
     ]
    }
   ],
   "source": [
    "# Enter price of stock at option expiry (strike price)\n",
    "strike = float(input('Enter a strike price in USD for your option(s)\\n E.G.: 2.5\\n>>>'))"
   ]
  },
  {
   "cell_type": "markdown",
   "id": "eff2f9a3",
   "metadata": {},
   "source": [
    "### Data Allocation"
   ]
  },
  {
   "cell_type": "code",
   "execution_count": 11,
   "id": "003d3a80",
   "metadata": {},
   "outputs": [],
   "source": [
    "# Get data from stock's most recent close\n",
    "daily = si.get_data(stock, start_date=\"04/26/2022\", end_date=todaysDate, index_as_date = True, interval=\"1d\")\n",
    "today = daily.iloc[-1]"
   ]
  },
  {
   "cell_type": "code",
   "execution_count": 12,
   "id": "4d9238de",
   "metadata": {},
   "outputs": [],
   "source": [
    "# Get stock's most recent price to use as Spot Price\n",
    "spot = today[3]"
   ]
  },
  {
   "cell_type": "code",
   "execution_count": 13,
   "id": "d875e53a",
   "metadata": {},
   "outputs": [],
   "source": [
    "#Difference in days between Expiry Date and Today's Date\n",
    "\n",
    "date_format = \"%m/%d/%Y\"\n",
    "date1 = datetime.datetime.strptime(todaysDate, date_format)\n",
    "date2 = datetime.datetime.strptime(formattedExpiryDate, date_format)\n",
    "\n",
    "\n",
    "\n",
    "# Calculate the difference\n",
    "timedelta = date2 - date1\n",
    "\n",
    "# Convert the difference to a number of days\n",
    "days = timedelta.days"
   ]
  },
  {
   "cell_type": "markdown",
   "id": "2a7f3898",
   "metadata": {},
   "source": [
    "### Get Treasury rate for determining option price"
   ]
  },
  {
   "cell_type": "code",
   "execution_count": 14,
   "id": "abaefa66",
   "metadata": {},
   "outputs": [],
   "source": [
    "url = \"https://home.treasury.gov/resource-center/data-chart-center/interest-rates/TextView?type=daily_treasury_yield_curve&field_tdr_date_value=2023\""
   ]
  },
  {
   "cell_type": "code",
   "execution_count": 15,
   "id": "c56b14b6",
   "metadata": {},
   "outputs": [],
   "source": [
    "dfs = pd.read_html(url)"
   ]
  },
  {
   "cell_type": "code",
   "execution_count": 16,
   "id": "8b5f551d",
   "metadata": {},
   "outputs": [],
   "source": [
    "df = dfs[0]"
   ]
  },
  {
   "cell_type": "code",
   "execution_count": 17,
   "id": "83d12e02",
   "metadata": {},
   "outputs": [],
   "source": [
    "# Treasury Rate is given by a range of 1 Month to 10 Years.\n",
    "# This cell maps this range into days from months and years.  Rates are now represented by a number of days,\n",
    "# and the code below fits the closest bucket of days to the number of days until expiry to determine the most\n",
    "# appropriate rate to determine the option price\n",
    "\n",
    "############## Start of Data Wrangling ####################\n",
    "exclude_start = 1\n",
    "exclude_end = 9\n",
    "\n",
    "selected_columns = df.iloc[:, [*range(exclude_start), *range(exclude_end + 1, df.shape[1])]]\n",
    "\n",
    "selected_columns.set_index('Date',inplace = True)\n",
    "treasuryRateChart = selected_columns.tail(1).transpose()\n",
    "\n",
    "newIndex = [30,60,90,120,180,365,365*2,365*3,365*5,365*7,365*10,365*20,365*30]\n",
    "\n",
    "treasuryRateChart.index = newIndex\n",
    "\n",
    "newColumnName = ['Rates']\n",
    "treasuryRateChart.columns = newColumnName\n",
    "treasuryRateChart.index.name = 'Days'\n",
    "\n",
    "############### End of Data Wrangling ##################\n",
    "\n",
    "# Finds the best fit rate based on the number of days until expiry \n",
    "closestIndex = min(treasuryRateChart.index, key=lambda x: abs(x - days))\n",
    "closestValue = treasuryRateChart.loc[closestIndex,'Rates']"
   ]
  },
  {
   "cell_type": "markdown",
   "id": "2d633353",
   "metadata": {},
   "source": [
    "### Call Option"
   ]
  },
  {
   "cell_type": "code",
   "execution_count": 18,
   "id": "d4c566e2",
   "metadata": {},
   "outputs": [],
   "source": [
    "# Get data from call option based on expiry date and strike price\n",
    "call = calls[calls['Strike'] == strike]\n",
    "call = call.to_dict(orient='records')[0]"
   ]
  },
  {
   "cell_type": "code",
   "execution_count": 19,
   "id": "9ff8fd18",
   "metadata": {},
   "outputs": [],
   "source": [
    "#Get implied volatility from option\n",
    "percentage_float = float(call['Implied Volatility'].strip('%'))/100"
   ]
  },
  {
   "cell_type": "code",
   "execution_count": 20,
   "id": "265ae53c",
   "metadata": {},
   "outputs": [],
   "source": [
    "#Define option\n",
    "option_det = Option(european=True,\n",
    "                    kind='call',\n",
    "                    s0=spot,\n",
    "                    k=strike,\n",
    "                    t=days,\n",
    "                    sigma=percentage_float,\n",
    "                    r= (closestValue/100),\n",
    "                    dv=0)"
   ]
  },
  {
   "cell_type": "code",
   "execution_count": 21,
   "id": "40636385",
   "metadata": {},
   "outputs": [],
   "source": [
    "# Get option price\n",
    "priceCall = option_det.getPrice(method='BSM',iteration=5000)"
   ]
  },
  {
   "cell_type": "code",
   "execution_count": 35,
   "id": "b179eff8",
   "metadata": {},
   "outputs": [],
   "source": [
    "# Create dataframe that shows payoffs of option based on probable Equity Prices at Expiry\n",
    "#pct_change = int(Strike/10)\n",
    "ploss = {'Equity Market Price at Expiry': [spot*.7,spot*.8,spot*.9,\n",
    "                                           spot,spot*1.1,spot*1.2,spot*1.3]}\n",
    "## Ask for number of contracts\n",
    "sperc = 100*1 #100 shares per contract\n",
    "df = pd.DataFrame(ploss, columns = ['Equity Market Price at Expiry','Call P/L'])\n",
    "payoffs = []\n",
    "for i in df['Equity Market Price at Expiry']:\n",
    "\n",
    "# Calculate Option Payoffs\n",
    "        payoff = max(((i - strike) * sperc) - (priceCall*sperc),-priceCall*sperc)\n",
    "        payoffs.append(payoff)\n",
    "\n",
    "# Create DataFrame\n",
    "ploss['Call P/L']=payoffs\n",
    "final1=pd.DataFrame(ploss,columns=['Equity Market Price at Expiry','Call P/L'])\n",
    "final1['% Change'] = ['-30%','-20%','-10%','0%','+10%','+20%','+30%']\n",
    "final1.set_index('% Change',inplace = True)"
   ]
  },
  {
   "cell_type": "code",
   "execution_count": 23,
   "id": "62ef10a4",
   "metadata": {},
   "outputs": [
    {
     "data": {
      "image/png": "[encoded data removed]",
      "text/plain": [
       "<Figure size 1000x600 with 1 Axes>"
      ]
     },
     "metadata": {},
     "output_type": "display_data"
    }
   ],
   "source": [
    "# Plot Option\n",
    "op.single_plotter(spot=spot, strike=strike, op_type='c', tr_type='b', op_pr=priceCall,spot_range = 100)"
   ]
  },
  {
   "cell_type": "markdown",
   "id": "ea6cfcd5",
   "metadata": {},
   "source": [
    "### Put Option"
   ]
  },
  {
   "cell_type": "code",
   "execution_count": 24,
   "id": "8b7170c9",
   "metadata": {},
   "outputs": [],
   "source": [
    "# Get data from put option based on expiry date and strike price\n",
    "put = puts[puts['Strike'] == strike]\n",
    "put = put.to_dict(orient='records')[0]"
   ]
  },
  {
   "cell_type": "code",
   "execution_count": 25,
   "id": "7c6a7da8",
   "metadata": {},
   "outputs": [],
   "source": [
    "#Get implied volatility from option\n",
    "percentage_float = float(put['Implied Volatility'].strip('%'))/100"
   ]
  },
  {
   "cell_type": "code",
   "execution_count": 26,
   "id": "3791f45e",
   "metadata": {},
   "outputs": [
    {
     "data": {
      "text/plain": [
       "0.1093545992545219"
      ]
     },
     "execution_count": 26,
     "metadata": {},
     "output_type": "execute_result"
    }
   ],
   "source": [
    "# Define option and get option price \n",
    "option_det = Option(european=True,\n",
    "                    kind='put',\n",
    "                    s0=spot,\n",
    "                    k=strike,\n",
    "                    t=days,\n",
    "                    sigma=percentage_float,\n",
    "                    r=closestValue/100,\n",
    "                    dv=0)\n",
    "\n",
    "pricePut = option_det.getPrice(method='BSM',iteration=5000)\n",
    "pricePut"
   ]
  },
  {
   "cell_type": "code",
   "execution_count": 27,
   "id": "5b37695a",
   "metadata": {},
   "outputs": [],
   "source": [
    "# Get payouts of Put option based off probable equity prices at expiry\n",
    "ploss = {'Equity Market Price at Expiry': [spot*.7,spot*.8,spot*.9,\n",
    "                                           spot,spot*1.1,spot*1.2,spot*1.3]}\n",
    "sperc = 100*1 #100 shares per contract\n",
    "df = pd.DataFrame(ploss, columns = ['Equity Market Price at Expiry','Put P/L'])\n",
    "payoffs = []\n",
    "for i in df['Equity Market Price at Expiry']:\n",
    "\n",
    "# Calculate Option Payoffs\n",
    "        payoff = max(((strike - i) * sperc) - (pricePut*sperc),-pricePut*sperc)\n",
    "        payoffs.append(payoff)\n",
    "\n",
    "# Create DataFrame\n",
    "ploss['Put P/L']=payoffs\n",
    "final2=pd.DataFrame(ploss,columns=['Equity Market Price at Expiry','Put P/L'])\n",
    "final2['% Change'] = ['-30%','-20%','-10%','0%','+10%','+20%','+30%']\n",
    "final2.set_index('% Change',inplace = True)"
   ]
  },
  {
   "cell_type": "code",
   "execution_count": 28,
   "id": "c6adc2f3",
   "metadata": {},
   "outputs": [
    {
     "data": {
      "image/png": "[encoded data removed]",
      "text/plain": [
       "<Figure size 1000x600 with 1 Axes>"
      ]
     },
     "metadata": {},
     "output_type": "display_data"
    }
   ],
   "source": [
    "op.single_plotter(spot=spot, strike=strike, op_type='p', tr_type='b', op_pr=pricePut,spot_range = 100)"
   ]
  },
  {
   "cell_type": "markdown",
   "id": "76455f78",
   "metadata": {},
   "source": [
    "### Multi Plot"
   ]
  },
  {
   "cell_type": "code",
   "execution_count": 36,
   "id": "22fd7913",
   "metadata": {},
   "outputs": [
    {
     "data": {
      "text/html": [
       "<div>\n",
       "<style scoped>\n",
       "    .dataframe tbody tr th:only-of-type {\n",
       "        vertical-align: middle;\n",
       "    }\n",
       "\n",
       "    .dataframe tbody tr th {\n",
       "        vertical-align: top;\n",
       "    }\n",
       "\n",
       "    .dataframe thead th {\n",
       "        text-align: right;\n",
       "    }\n",
       "</style>\n",
       "<table border=\"1\" class=\"dataframe\">\n",
       "  <thead>\n",
       "    <tr style=\"text-align: right;\">\n",
       "      <th></th>\n",
       "      <th>Equity Market Price at Expiry</th>\n",
       "      <th>Call P/L</th>\n",
       "      <th>Put P/L</th>\n",
       "      <th>Total P/L</th>\n",
       "    </tr>\n",
       "    <tr>\n",
       "      <th>% Change</th>\n",
       "      <th></th>\n",
       "      <th></th>\n",
       "      <th></th>\n",
       "      <th></th>\n",
       "    </tr>\n",
       "  </thead>\n",
       "  <tbody>\n",
       "    <tr>\n",
       "      <th>-30%</th>\n",
       "      <td>3.787</td>\n",
       "      <td>-183.152725</td>\n",
       "      <td>-10.93546</td>\n",
       "      <td>-190.301185</td>\n",
       "    </tr>\n",
       "    <tr>\n",
       "      <th>-20%</th>\n",
       "      <td>4.328</td>\n",
       "      <td>-129.052726</td>\n",
       "      <td>-10.93546</td>\n",
       "      <td>-135.660186</td>\n",
       "    </tr>\n",
       "    <tr>\n",
       "      <th>-10%</th>\n",
       "      <td>4.869</td>\n",
       "      <td>-74.952728</td>\n",
       "      <td>-10.93546</td>\n",
       "      <td>-81.019188</td>\n",
       "    </tr>\n",
       "    <tr>\n",
       "      <th>0%</th>\n",
       "      <td>5.410</td>\n",
       "      <td>-20.852729</td>\n",
       "      <td>-10.93546</td>\n",
       "      <td>-26.378189</td>\n",
       "    </tr>\n",
       "    <tr>\n",
       "      <th>+10%</th>\n",
       "      <td>5.951</td>\n",
       "      <td>33.247269</td>\n",
       "      <td>-10.93546</td>\n",
       "      <td>28.262809</td>\n",
       "    </tr>\n",
       "    <tr>\n",
       "      <th>+20%</th>\n",
       "      <td>6.492</td>\n",
       "      <td>87.347268</td>\n",
       "      <td>-10.93546</td>\n",
       "      <td>82.903808</td>\n",
       "    </tr>\n",
       "    <tr>\n",
       "      <th>+30%</th>\n",
       "      <td>7.033</td>\n",
       "      <td>141.447266</td>\n",
       "      <td>-10.93546</td>\n",
       "      <td>137.544806</td>\n",
       "    </tr>\n",
       "  </tbody>\n",
       "</table>\n",
       "</div>"
      ],
      "text/plain": [
       "          Equity Market Price at Expiry    Call P/L   Put P/L   Total P/L\n",
       "% Change                                                                 \n",
       "-30%                              3.787 -183.152725 -10.93546 -190.301185\n",
       "-20%                              4.328 -129.052726 -10.93546 -135.660186\n",
       "-10%                              4.869  -74.952728 -10.93546  -81.019188\n",
       "0%                                5.410  -20.852729 -10.93546  -26.378189\n",
       "+10%                              5.951   33.247269 -10.93546   28.262809\n",
       "+20%                              6.492   87.347268 -10.93546   82.903808\n",
       "+30%                              7.033  141.447266 -10.93546  137.544806"
      ]
     },
     "execution_count": 36,
     "metadata": {},
     "output_type": "execute_result"
    }
   ],
   "source": [
    "# Join PLs from Call and Put\n",
    "final1 = final1[['Equity Market Price at Expiry','Call P/L']]\n",
    "final2 = final2[['Put P/L']]\n",
    "result = pd.merge(final1, final2,on = '% Change' ,how='left')\n",
    "result\n",
    "#result.fillna(0,inplace = True)\n",
    "result['Total P/L'] = result.sum(axis=1)\n",
    "#result[['P/L']].sort_values('Equity Market Price at Expiry')\n",
    "#result.sort_values('Equity Market Price at Expiry')\n",
    "result"
   ]
  },
  {
   "cell_type": "code",
   "execution_count": 30,
   "id": "eb87a7bf",
   "metadata": {},
   "outputs": [
    {
     "data": {
      "image/png": "[encoded data removed]",
      "text/plain": [
       "<Figure size 1000x600 with 1 Axes>"
      ]
     },
     "metadata": {},
     "output_type": "display_data"
    }
   ],
   "source": [
    "# Plot Put and Call\n",
    "op1={'op_type': 'p', 'strike': strike, 'tr_type': 'b', 'op_pr': pricePut}\n",
    "op2={'op_type': 'c', 'strike': strike, 'tr_type': 'b', 'op_pr': priceCall}\n",
    "\n",
    "op_list=[op1, op2]\n",
    "op.multi_plotter(spot=spot, op_list=op_list,spot_range = 100)"
   ]
  }
 ],
 "metadata": {
  "kernelspec": {
   "display_name": "Python 3 (ipykernel)",
   "language": "python",
   "name": "python3"
  },
  "language_info": {
   "codemirror_mode": {
    "name": "ipython",
    "version": 3
   },
   "file_extension": ".py",
   "mimetype": "text/x-python",
   "name": "python",
   "nbconvert_exporter": "python",
   "pygments_lexer": "ipython3",
   "version": "3.9.13"
  }
 },
 "nbformat": 4,
 "nbformat_minor": 5
}
