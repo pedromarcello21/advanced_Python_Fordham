{
 "cells": [
  {
   "cell_type": "code",
   "execution_count": null,
   "id": "758c7485",
   "metadata": {},
   "outputs": [],
   "source": [
    "# Import relevant libraries\n",
    "import yahoo_fin.options as ops\n",
    "import yahoo_fin.stock_info as si\n",
    "import opstrat as op\n",
    "import datetime as dt\n",
    "import pandas as pd\n",
    "from optionprice import Option\n",
    "from dateutil import parser"
   ]
  },
  {
   "cell_type": "code",
   "execution_count": null,
   "id": "92ac9d21",
   "metadata": {},
   "outputs": [],
   "source": [
    "# Get today's date\n",
    "today = dt.date.today()\n",
    "todaysDate = today.strftime('%m/%d/%Y')"
   ]
  },
  {
   "cell_type": "code",
   "execution_count": null,
   "id": "47ad1091",
   "metadata": {},
   "outputs": [],
   "source": [
    "# User enters stock for options trading\n",
    "stock = input(\"Enter Stock\\n>>>\")"
   ]
  },
  {
   "cell_type": "code",
   "execution_count": null,
   "id": "237e2ee0",
   "metadata": {},
   "outputs": [],
   "source": [
    "# Get expiry dates of stock options from input\n",
    "expirationDates = ops.get_expiration_dates(stock)\n",
    "expirationDatesdf = pd.DataFrame(expirationDates, columns=['Expiration Dates'])\n",
    "expirationDatesdf"
   ]
  },
  {
   "cell_type": "code",
   "execution_count": null,
   "id": "7507d5db",
   "metadata": {},
   "outputs": [],
   "source": [
    "# User enter's option date of choice\n",
    "optionDate = input('Enter a date from above that you\\'d like to exercise an options trade(s)\\n>>>')"
   ]
  },
  {
   "cell_type": "code",
   "execution_count": null,
   "id": "f5236222",
   "metadata": {},
   "outputs": [],
   "source": [
    "# Format expiry date to mm/dd/yyyy\n",
    "dateObj = parser.parse(optionDate)\n",
    "formattedExpiryDate = dateObj.strftime(\"%m/%d/%Y\")"
   ]
  },
  {
   "cell_type": "code",
   "execution_count": null,
   "id": "eb230631",
   "metadata": {},
   "outputs": [],
   "source": [
    "# Get call options of stock for provided expiry date\n",
    "calls = ops.get_calls(stock,optionDate)\n",
    "calls.set_index(\"Contract Name\",inplace = True)"
   ]
  },
  {
   "cell_type": "code",
   "execution_count": null,
   "id": "0c281940",
   "metadata": {},
   "outputs": [],
   "source": [
    "# Get put options of stock for provided expiry date\n",
    "puts = ops.get_puts(stock,optionDate)\n",
    "puts.set_index(\"Contract Name\",inplace = True)"
   ]
  },
  {
   "cell_type": "code",
   "execution_count": null,
   "id": "1bc45c10",
   "metadata": {},
   "outputs": [],
   "source": [
    "# Enter price of stock at option expiry (strike price)\n",
    "strike = float(input('Enter a strike price in USD for your option(s)\\n E.G.: 2.5\\n>>>'))"
   ]
  },
  {
   "cell_type": "markdown",
   "id": "eff2f9a3",
   "metadata": {},
   "source": [
    "### Data Allocation"
   ]
  },
  {
   "cell_type": "code",
   "execution_count": null,
   "id": "003d3a80",
   "metadata": {},
   "outputs": [],
   "source": [
    "# Get data from stock's most recent close\n",
    "daily = si.get_data(stock, start_date=\"04/26/2022\", end_date=todaysDate, index_as_date = True, interval=\"1d\")\n",
    "today = daily.iloc[-1]"
   ]
  },
  {
   "cell_type": "code",
   "execution_count": null,
   "id": "4d9238de",
   "metadata": {},
   "outputs": [],
   "source": [
    "# Get stock's most recent price to use as Spot Price\n",
    "spot = today[3]"
   ]
  },
  {
   "cell_type": "code",
   "execution_count": null,
   "id": "d875e53a",
   "metadata": {},
   "outputs": [],
   "source": [
    "#Difference in days between Expiry Date and Today's Date\n",
    "\n",
    "date_format = \"%m/%d/%Y\"\n",
    "date1 = datetime.strptime(todaysDate, date_format).date()\n",
    "date2 = datetime.strptime(formattedExpiryDate, date_format).date()\n",
    "\n",
    "# Calculate the difference\n",
    "timedelta = date2 - date1\n",
    "\n",
    "# Convert the difference to a number of days\n",
    "days = timedelta.days"
   ]
  },
  {
   "cell_type": "markdown",
   "id": "2a7f3898",
   "metadata": {},
   "source": [
    "### Get Treasury rate for determining option price"
   ]
  },
  {
   "cell_type": "code",
   "execution_count": null,
   "id": "abaefa66",
   "metadata": {},
   "outputs": [],
   "source": [
    "url = \"https://home.treasury.gov/resource-center/data-chart-center/interest-rates/TextView?type=daily_treasury_yield_curve&field_tdr_date_value=2023\""
   ]
  },
  {
   "cell_type": "code",
   "execution_count": null,
   "id": "c56b14b6",
   "metadata": {},
   "outputs": [],
   "source": [
    "dfs = pd.read_html(url)"
   ]
  },
  {
   "cell_type": "code",
   "execution_count": null,
   "id": "8b5f551d",
   "metadata": {},
   "outputs": [],
   "source": [
    "df = dfs[0]"
   ]
  },
  {
   "cell_type": "code",
   "execution_count": null,
   "id": "83d12e02",
   "metadata": {},
   "outputs": [],
   "source": [
    "# Treasury Rate is given by a range of 1 Month to 10 Years.\n",
    "# This cell maps this range into days from months and years.  Rates are now represented by a number of days,\n",
    "# and the code below fits the closest bucket of days to the number of days until expiry to determine the most\n",
    "# appropriate rate to determine the option price\n",
    "\n",
    "############## Start of Data Wrangling ####################\n",
    "exclude_start = 1\n",
    "exclude_end = 9\n",
    "\n",
    "selected_columns = df.iloc[:, [*range(exclude_start), *range(exclude_end + 1, df.shape[1])]]\n",
    "\n",
    "selected_columns.set_index('Date',inplace = True)\n",
    "treasuryRateChart = selected_columns.tail(1).transpose()\n",
    "\n",
    "newIndex = [30,60,90,120,180,365,365*2,365*3,365*5,365*7,365*10,365*20,365*30]\n",
    "\n",
    "treasuryRateChart.index = newIndex\n",
    "\n",
    "newColumnName = ['Rates']\n",
    "treasuryRateChart.columns = newColumnName\n",
    "treasuryRateChart.index.name = 'Days'\n",
    "\n",
    "############### End of Data Wrangling ##################\n",
    "\n",
    "# Finds the best fit rate based on the number of days until expiry \n",
    "closestIndex = min(treasuryRateChart.index, key=lambda x: abs(x - days))\n",
    "closestValue = treasuryRateChart.loc[closestIndex,'Rates']"
   ]
  },
  {
   "cell_type": "markdown",
   "id": "2d633353",
   "metadata": {},
   "source": [
    "### Call Option"
   ]
  },
  {
   "cell_type": "code",
   "execution_count": null,
   "id": "d4c566e2",
   "metadata": {},
   "outputs": [],
   "source": [
    "# Get data from call option based on expiry date and strike price\n",
    "call = calls[calls['Strike'] == strike]\n",
    "call = call.to_dict(orient='records')[0]"
   ]
  },
  {
   "cell_type": "code",
   "execution_count": null,
   "id": "9ff8fd18",
   "metadata": {},
   "outputs": [],
   "source": [
    "#Get implied volatility from option\n",
    "percentage_float = float(call['Implied Volatility'].strip('%'))/100"
   ]
  },
  {
   "cell_type": "code",
   "execution_count": null,
   "id": "265ae53c",
   "metadata": {},
   "outputs": [],
   "source": [
    "#Define option\n",
    "option_det = Option(european=True,\n",
    "                    kind='call',\n",
    "                    s0=spot,\n",
    "                    k=strike,\n",
    "                    t=days,\n",
    "                    sigma=percentage_float,\n",
    "                    r= (closest_value/100),\n",
    "                    dv=0)"
   ]
  },
  {
   "cell_type": "code",
   "execution_count": null,
   "id": "40636385",
   "metadata": {},
   "outputs": [],
   "source": [
    "# Get option price\n",
    "priceCall = option_det.getPrice(method='BSM',iteration=5000)"
   ]
  },
  {
   "cell_type": "code",
   "execution_count": null,
   "id": "b179eff8",
   "metadata": {},
   "outputs": [],
   "source": [
    "# Create dataframe that shows payoffs of option based on probable Equity Prices at Expiry\n",
    "#pct_change = int(Strike/10)\n",
    "ploss = {'Equity Market Price at Expiry': [spot*.7,spot*.8,spot*.9,\n",
    "                                           spot,spot*1.1,spot*1.2,spot*1.3]}\n",
    "## Ask for number of contracts\n",
    "sperc = 100*1 #100 shares per contract\n",
    "df = pd.DataFrame(ploss, columns = ['Equity Market Price at Expiry','Profit/Loss Call'])\n",
    "payoffs = []\n",
    "for i in df['Equity Market Price at Expiry']:\n",
    "\n",
    "# Calculate Option Payoffs\n",
    "        payoff = max(((i - strike) * sperc) - (priceCall*sperc),-priceCall*sperc)\n",
    "        payoffs.append(payoff)\n",
    "\n",
    "# Create DataFrame\n",
    "ploss['Profit/Loss Call']=payoffs\n",
    "final1=pd.DataFrame(ploss,columns=['Equity Market Price at Expiry','Profit/Loss Call']).set_index('Equity Market Price at Expiry')\n",
    "\n",
    "final1"
   ]
  },
  {
   "cell_type": "code",
   "execution_count": null,
   "id": "62ef10a4",
   "metadata": {},
   "outputs": [],
   "source": [
    "# Plot Option\n",
    "op.single_plotter(spot=spot, strike=strike, op_type='c', tr_type='b', op_pr=priceCall,spot_range = 100)"
   ]
  },
  {
   "cell_type": "markdown",
   "id": "ea6cfcd5",
   "metadata": {},
   "source": [
    "### Put Option"
   ]
  },
  {
   "cell_type": "code",
   "execution_count": null,
   "id": "8b7170c9",
   "metadata": {},
   "outputs": [],
   "source": [
    "# Get data from put option based on expiry date and strike price\n",
    "put = puts[puts['Strike'] == strike]\n",
    "put = put.to_dict(orient='records')[0]"
   ]
  },
  {
   "cell_type": "code",
   "execution_count": null,
   "id": "7c6a7da8",
   "metadata": {},
   "outputs": [],
   "source": [
    "#Get implied volatility from option\n",
    "percentage_float = float(put['Implied Volatility'].strip('%'))/100"
   ]
  },
  {
   "cell_type": "code",
   "execution_count": null,
   "id": "3791f45e",
   "metadata": {},
   "outputs": [],
   "source": [
    "# Define option and get option price \n",
    "option_det = Option(european=True,\n",
    "                    kind='put',\n",
    "                    s0=spot,\n",
    "                    k=strike,\n",
    "                    t=days,\n",
    "                    sigma=percentage_float,\n",
    "                    r=closestValue/100,\n",
    "                    dv=0)\n",
    "\n",
    "pricePut = option_det.getPrice(method='BSM',iteration=5000)\n",
    "pricePut"
   ]
  },
  {
   "cell_type": "code",
   "execution_count": null,
   "id": "5b37695a",
   "metadata": {},
   "outputs": [],
   "source": [
    "# Get payouts of Put option based off probable equity prices at expiry\n",
    "ploss = {'Equity Market Price at Expiry': [spot*.7,spot*.8,spot*.9,\n",
    "                                           spot,spot*1.1,spot*1.2,spot*1.3]}\n",
    "sperc = 100*1 #100 shares per contract\n",
    "df = pd.DataFrame(ploss, columns = ['Equity Market Price at Expiry','Profit/Loss Put'])\n",
    "payoffs = []\n",
    "for i in df['Equity Market Price at Expiry']:\n",
    "\n",
    "# Calculate Option Payoffs\n",
    "        payoff = max(((strike - i) * sperc) - (pricePut*sperc),-pricePut*sperc)\n",
    "        payoffs.append(payoff)\n",
    "\n",
    "# Create DataFrame\n",
    "ploss['Profit/Loss Put']=payoffs\n",
    "final2=pd.DataFrame(ploss,columns=['Equity Market Price at Expiry','Profit/Loss Put']).set_index('Equity Market Price at Expiry')\n",
    "\n",
    "final2"
   ]
  },
  {
   "cell_type": "code",
   "execution_count": null,
   "id": "c6adc2f3",
   "metadata": {},
   "outputs": [],
   "source": [
    "op.single_plotter(spot=spot, strike=strike, op_type='p', tr_type='b', op_pr=pricePut,spot_range = 100)"
   ]
  },
  {
   "cell_type": "markdown",
   "id": "76455f78",
   "metadata": {},
   "source": [
    "### Multi Plot"
   ]
  },
  {
   "cell_type": "code",
   "execution_count": null,
   "id": "22fd7913",
   "metadata": {},
   "outputs": [],
   "source": [
    "# Join PLs from Call and Put\n",
    "result = pd.merge(final1, final2, on='Equity Market Price at Expiry', how='inner')\n",
    "result.fillna(0,inplace = True)\n",
    "result['P/L'] = result.sum(axis=1)\n",
    "result[['P/L']].sort_values('Equity Market Price at Expiry')\n",
    "result.sort_values('Equity Market Price at Expiry')"
   ]
  },
  {
   "cell_type": "code",
   "execution_count": null,
   "id": "eb87a7bf",
   "metadata": {},
   "outputs": [],
   "source": [
    "# Plot Put and Call\n",
    "op1={'op_type': 'p', 'strike': strike, 'tr_type': 'b', 'op_pr': pricePut}\n",
    "op2={'op_type': 'c', 'strike': strike, 'tr_type': 'b', 'op_pr': priceCall}\n",
    "\n",
    "op_list=[op1, op2]\n",
    "op.multi_plotter(spot=spot, op_list=op_list,spot_range = 100)"
   ]
  }
 ],
 "metadata": {
  "kernelspec": {
   "display_name": "Python 3 (ipykernel)",
   "language": "python",
   "name": "python3"
  },
  "language_info": {
   "codemirror_mode": {
    "name": "ipython",
    "version": 3
   },
   "file_extension": ".py",
   "mimetype": "text/x-python",
   "name": "python",
   "nbconvert_exporter": "python",
   "pygments_lexer": "ipython3",
   "version": "3.9.13"
  }
 },
 "nbformat": 4,
 "nbformat_minor": 5
}
