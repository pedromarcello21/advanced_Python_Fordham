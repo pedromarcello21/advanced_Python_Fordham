{
 "cells": [
  {
   "cell_type": "code",
   "execution_count": 1,
   "id": "758c7485",
   "metadata": {},
   "outputs": [],
   "source": [
    "import yahoo_fin.options as ops\n",
    "import yahoo_fin.stock_info as si\n",
    "import opstrat as op\n",
    "import datetime\n",
    "import pandas as pd"
   ]
  },
  {
   "cell_type": "code",
   "execution_count": 2,
   "id": "92ac9d21",
   "metadata": {},
   "outputs": [
    {
     "data": {
      "text/plain": [
       "'04/29/2023'"
      ]
     },
     "execution_count": 2,
     "metadata": {},
     "output_type": "execute_result"
    }
   ],
   "source": [
    "today = datetime.date.today()\n",
    "formatted_date = today.strftime('%m/%d/%Y')\n",
    "formatted_date"
   ]
  },
  {
   "cell_type": "code",
   "execution_count": 3,
   "id": "47ad1091",
   "metadata": {},
   "outputs": [
    {
     "name": "stdout",
     "output_type": "stream",
     "text": [
      "Enter Stock>>>SOFI\n"
     ]
    }
   ],
   "source": [
    "stock = input(\"Enter Stock>>>\")"
   ]
  },
  {
   "cell_type": "code",
   "execution_count": 4,
   "id": "237e2ee0",
   "metadata": {},
   "outputs": [],
   "source": [
    "expiration_dates = ops.get_expiration_dates(stock)\n",
    "#expiration_dates"
   ]
  },
  {
   "cell_type": "code",
   "execution_count": 5,
   "id": "eb230631",
   "metadata": {},
   "outputs": [],
   "source": [
    "Calls = ops.get_calls(stock,expiration_dates[-3])\n",
    "Calls.set_index(\"Contract Name\",inplace = True)\n",
    "#Calls"
   ]
  },
  {
   "cell_type": "code",
   "execution_count": 6,
   "id": "0c281940",
   "metadata": {},
   "outputs": [],
   "source": [
    "Puts = ops.get_puts(stock,expiration_dates[-3])\n",
    "Puts.set_index(\"Contract Name\",inplace = True)\n",
    "#Puts"
   ]
  },
  {
   "cell_type": "markdown",
   "id": "eff2f9a3",
   "metadata": {},
   "source": [
    "### Single Plot"
   ]
  },
  {
   "cell_type": "code",
   "execution_count": 7,
   "id": "cd05013f",
   "metadata": {},
   "outputs": [
    {
     "data": {
      "text/plain": [
       "Last Trade Date       2023-04-27 10:03AM EDT\n",
       "Strike                                   2.5\n",
       "Last Price                              3.75\n",
       "Bid                                     3.85\n",
       "Ask                                     3.95\n",
       "Change                                   0.0\n",
       "% Change                                   -\n",
       "Volume                                    25\n",
       "Open Interest                            624\n",
       "Implied Volatility                    97.27%\n",
       "Name: SOFI231215C00002500, dtype: object"
      ]
     },
     "execution_count": 7,
     "metadata": {},
     "output_type": "execute_result"
    }
   ],
   "source": [
    "Call = Calls.iloc[1]\n",
    "Call"
   ]
  },
  {
   "cell_type": "code",
   "execution_count": 8,
   "id": "003d3a80",
   "metadata": {},
   "outputs": [],
   "source": [
    "daily = si.get_data(stock, start_date=\"04/26/2022\", end_date=today, index_as_date = True, interval=\"1d\")\n",
    "today = daily.iloc[-1]\n",
    "#today"
   ]
  },
  {
   "cell_type": "code",
   "execution_count": 9,
   "id": "c416344c",
   "metadata": {},
   "outputs": [
    {
     "data": {
      "text/html": [
       "<div>\n",
       "<style scoped>\n",
       "    .dataframe tbody tr th:only-of-type {\n",
       "        vertical-align: middle;\n",
       "    }\n",
       "\n",
       "    .dataframe tbody tr th {\n",
       "        vertical-align: top;\n",
       "    }\n",
       "\n",
       "    .dataframe thead th {\n",
       "        text-align: right;\n",
       "    }\n",
       "</style>\n",
       "<table border=\"1\" class=\"dataframe\">\n",
       "  <thead>\n",
       "    <tr style=\"text-align: right;\">\n",
       "      <th></th>\n",
       "      <th>open</th>\n",
       "      <th>high</th>\n",
       "      <th>low</th>\n",
       "      <th>close</th>\n",
       "      <th>adjclose</th>\n",
       "      <th>volume</th>\n",
       "      <th>ticker</th>\n",
       "    </tr>\n",
       "  </thead>\n",
       "  <tbody>\n",
       "    <tr>\n",
       "      <th>2022-04-26</th>\n",
       "      <td>6.500</td>\n",
       "      <td>6.50</td>\n",
       "      <td>6.14</td>\n",
       "      <td>6.29</td>\n",
       "      <td>6.29</td>\n",
       "      <td>49526100</td>\n",
       "      <td>SOFI</td>\n",
       "    </tr>\n",
       "    <tr>\n",
       "      <th>2022-04-27</th>\n",
       "      <td>6.250</td>\n",
       "      <td>6.46</td>\n",
       "      <td>6.09</td>\n",
       "      <td>6.15</td>\n",
       "      <td>6.15</td>\n",
       "      <td>42697500</td>\n",
       "      <td>SOFI</td>\n",
       "    </tr>\n",
       "    <tr>\n",
       "      <th>2022-04-28</th>\n",
       "      <td>6.300</td>\n",
       "      <td>6.54</td>\n",
       "      <td>6.02</td>\n",
       "      <td>6.45</td>\n",
       "      <td>6.45</td>\n",
       "      <td>46069000</td>\n",
       "      <td>SOFI</td>\n",
       "    </tr>\n",
       "    <tr>\n",
       "      <th>2022-04-29</th>\n",
       "      <td>6.370</td>\n",
       "      <td>6.75</td>\n",
       "      <td>6.10</td>\n",
       "      <td>6.12</td>\n",
       "      <td>6.12</td>\n",
       "      <td>33526800</td>\n",
       "      <td>SOFI</td>\n",
       "    </tr>\n",
       "    <tr>\n",
       "      <th>2022-05-02</th>\n",
       "      <td>6.105</td>\n",
       "      <td>6.34</td>\n",
       "      <td>6.01</td>\n",
       "      <td>6.33</td>\n",
       "      <td>6.33</td>\n",
       "      <td>43738400</td>\n",
       "      <td>SOFI</td>\n",
       "    </tr>\n",
       "    <tr>\n",
       "      <th>...</th>\n",
       "      <td>...</td>\n",
       "      <td>...</td>\n",
       "      <td>...</td>\n",
       "      <td>...</td>\n",
       "      <td>...</td>\n",
       "      <td>...</td>\n",
       "      <td>...</td>\n",
       "    </tr>\n",
       "    <tr>\n",
       "      <th>2023-04-24</th>\n",
       "      <td>5.920</td>\n",
       "      <td>5.95</td>\n",
       "      <td>5.79</td>\n",
       "      <td>5.83</td>\n",
       "      <td>5.83</td>\n",
       "      <td>20058000</td>\n",
       "      <td>SOFI</td>\n",
       "    </tr>\n",
       "    <tr>\n",
       "      <th>2023-04-25</th>\n",
       "      <td>5.775</td>\n",
       "      <td>5.84</td>\n",
       "      <td>5.72</td>\n",
       "      <td>5.75</td>\n",
       "      <td>5.75</td>\n",
       "      <td>21036200</td>\n",
       "      <td>SOFI</td>\n",
       "    </tr>\n",
       "    <tr>\n",
       "      <th>2023-04-26</th>\n",
       "      <td>5.810</td>\n",
       "      <td>5.88</td>\n",
       "      <td>5.66</td>\n",
       "      <td>5.67</td>\n",
       "      <td>5.67</td>\n",
       "      <td>24210900</td>\n",
       "      <td>SOFI</td>\n",
       "    </tr>\n",
       "    <tr>\n",
       "      <th>2023-04-27</th>\n",
       "      <td>5.770</td>\n",
       "      <td>6.19</td>\n",
       "      <td>5.75</td>\n",
       "      <td>6.06</td>\n",
       "      <td>6.06</td>\n",
       "      <td>43199900</td>\n",
       "      <td>SOFI</td>\n",
       "    </tr>\n",
       "    <tr>\n",
       "      <th>2023-04-28</th>\n",
       "      <td>6.150</td>\n",
       "      <td>6.30</td>\n",
       "      <td>5.94</td>\n",
       "      <td>6.23</td>\n",
       "      <td>6.23</td>\n",
       "      <td>54976100</td>\n",
       "      <td>SOFI</td>\n",
       "    </tr>\n",
       "  </tbody>\n",
       "</table>\n",
       "<p>254 rows × 7 columns</p>\n",
       "</div>"
      ],
      "text/plain": [
       "             open  high   low  close  adjclose    volume ticker\n",
       "2022-04-26  6.500  6.50  6.14   6.29      6.29  49526100   SOFI\n",
       "2022-04-27  6.250  6.46  6.09   6.15      6.15  42697500   SOFI\n",
       "2022-04-28  6.300  6.54  6.02   6.45      6.45  46069000   SOFI\n",
       "2022-04-29  6.370  6.75  6.10   6.12      6.12  33526800   SOFI\n",
       "2022-05-02  6.105  6.34  6.01   6.33      6.33  43738400   SOFI\n",
       "...           ...   ...   ...    ...       ...       ...    ...\n",
       "2023-04-24  5.920  5.95  5.79   5.83      5.83  20058000   SOFI\n",
       "2023-04-25  5.775  5.84  5.72   5.75      5.75  21036200   SOFI\n",
       "2023-04-26  5.810  5.88  5.66   5.67      5.67  24210900   SOFI\n",
       "2023-04-27  5.770  6.19  5.75   6.06      6.06  43199900   SOFI\n",
       "2023-04-28  6.150  6.30  5.94   6.23      6.23  54976100   SOFI\n",
       "\n",
       "[254 rows x 7 columns]"
      ]
     },
     "execution_count": 9,
     "metadata": {},
     "output_type": "execute_result"
    }
   ],
   "source": [
    "daily"
   ]
  },
  {
   "cell_type": "code",
   "execution_count": null,
   "id": "6189fc6c",
   "metadata": {},
   "outputs": [],
   "source": [
    "#daily['close']"
   ]
  },
  {
   "cell_type": "code",
   "execution_count": 10,
   "id": "8a9655a8",
   "metadata": {},
   "outputs": [],
   "source": [
    "dailyPctChange = daily['close'].pct_change()\n",
    "avgDailyChange = dailyPctChange.mean()\n",
    "#avgDailyChange = print(\"daily percent change = \", \"{:.2%}\".format(dailyPctChange.mean()))"
   ]
  },
  {
   "cell_type": "code",
   "execution_count": 11,
   "id": "420dcf42",
   "metadata": {},
   "outputs": [
    {
     "data": {
      "text/plain": [
       "0.0009881073270132051"
      ]
     },
     "execution_count": 11,
     "metadata": {},
     "output_type": "execute_result"
    }
   ],
   "source": [
    "avgDailyChange"
   ]
  },
  {
   "cell_type": "code",
   "execution_count": 12,
   "id": "4d9238de",
   "metadata": {},
   "outputs": [],
   "source": [
    "Spot = today[3]\n",
    "Strike = Call[1]\n",
    "optionPrice = Call[2]"
   ]
  },
  {
   "cell_type": "code",
   "execution_count": 17,
   "id": "0c75fee0",
   "metadata": {},
   "outputs": [
    {
     "data": {
      "text/html": [
       "<div>\n",
       "<style scoped>\n",
       "    .dataframe tbody tr th:only-of-type {\n",
       "        vertical-align: middle;\n",
       "    }\n",
       "\n",
       "    .dataframe tbody tr th {\n",
       "        vertical-align: top;\n",
       "    }\n",
       "\n",
       "    .dataframe thead th {\n",
       "        text-align: right;\n",
       "    }\n",
       "</style>\n",
       "<table border=\"1\" class=\"dataframe\">\n",
       "  <thead>\n",
       "    <tr style=\"text-align: right;\">\n",
       "      <th></th>\n",
       "      <th>Profit/Loss</th>\n",
       "    </tr>\n",
       "    <tr>\n",
       "      <th>Equity Market Price at Expiry</th>\n",
       "      <th></th>\n",
       "    </tr>\n",
       "  </thead>\n",
       "  <tbody>\n",
       "    <tr>\n",
       "      <th>0.0</th>\n",
       "      <td>-375.0</td>\n",
       "    </tr>\n",
       "    <tr>\n",
       "      <th>2.5</th>\n",
       "      <td>-375.0</td>\n",
       "    </tr>\n",
       "    <tr>\n",
       "      <th>6.5</th>\n",
       "      <td>25.0</td>\n",
       "    </tr>\n",
       "    <tr>\n",
       "      <th>10.5</th>\n",
       "      <td>425.0</td>\n",
       "    </tr>\n",
       "    <tr>\n",
       "      <th>14.5</th>\n",
       "      <td>825.0</td>\n",
       "    </tr>\n",
       "  </tbody>\n",
       "</table>\n",
       "</div>"
      ],
      "text/plain": [
       "                               Profit/Loss\n",
       "Equity Market Price at Expiry             \n",
       "0.0                                 -375.0\n",
       "2.5                                 -375.0\n",
       "6.5                                   25.0\n",
       "10.5                                 425.0\n",
       "14.5                                 825.0"
      ]
     },
     "execution_count": 17,
     "metadata": {},
     "output_type": "execute_result"
    }
   ],
   "source": [
    "#pct_change = int(Strike/10)\n",
    "ploss = {'Equity Market Price at Expiry': [Strike-2.5,Strike,Strike+4,\n",
    "                                           Strike+8,Strike+12]}\n",
    "#noc = int(Call[-3]) #number of contracts bought/sold\n",
    "sperc = 100*1 #100 shares per contract\n",
    "df = pd.DataFrame(ploss, columns = ['Equity Market Price at Expiry','Profit/Loss'])\n",
    "payoffs = []\n",
    "for i in df['Equity Market Price at Expiry']:\n",
    "\n",
    "# Calculate Option Payoffs\n",
    "        payoff = max(((i - Strike) * sperc) - (Call[2]*sperc),-Call[2]*sperc)\n",
    "        payoffs.append(payoff)\n",
    "\n",
    "# Create DataFrame\n",
    "ploss['Profit/Loss']=payoffs\n",
    "final=pd.DataFrame(ploss,columns=['Equity Market Price at Expiry','Profit/Loss']).set_index('Equity Market Price at Expiry')\n",
    "\n",
    "final"
   ]
  },
  {
   "cell_type": "code",
   "execution_count": 18,
   "id": "e1b5092f",
   "metadata": {},
   "outputs": [
    {
     "data": {
      "text/html": [
       "<div>\n",
       "<style scoped>\n",
       "    .dataframe tbody tr th:only-of-type {\n",
       "        vertical-align: middle;\n",
       "    }\n",
       "\n",
       "    .dataframe tbody tr th {\n",
       "        vertical-align: top;\n",
       "    }\n",
       "\n",
       "    .dataframe thead th {\n",
       "        text-align: right;\n",
       "    }\n",
       "</style>\n",
       "<table border=\"1\" class=\"dataframe\">\n",
       "  <thead>\n",
       "    <tr style=\"text-align: right;\">\n",
       "      <th></th>\n",
       "      <th>Profit/Loss</th>\n",
       "    </tr>\n",
       "    <tr>\n",
       "      <th>Equity Market Price at Expiry</th>\n",
       "      <th></th>\n",
       "    </tr>\n",
       "  </thead>\n",
       "  <tbody>\n",
       "    <tr>\n",
       "      <th>0.0</th>\n",
       "      <td>-375.0</td>\n",
       "    </tr>\n",
       "    <tr>\n",
       "      <th>2.5</th>\n",
       "      <td>-375.0</td>\n",
       "    </tr>\n",
       "    <tr>\n",
       "      <th>6.5</th>\n",
       "      <td>25.0</td>\n",
       "    </tr>\n",
       "    <tr>\n",
       "      <th>10.5</th>\n",
       "      <td>425.0</td>\n",
       "    </tr>\n",
       "    <tr>\n",
       "      <th>14.5</th>\n",
       "      <td>825.0</td>\n",
       "    </tr>\n",
       "  </tbody>\n",
       "</table>\n",
       "</div>"
      ],
      "text/plain": [
       "                               Profit/Loss\n",
       "Equity Market Price at Expiry             \n",
       "0.0                                 -375.0\n",
       "2.5                                 -375.0\n",
       "6.5                                   25.0\n",
       "10.5                                 425.0\n",
       "14.5                                 825.0"
      ]
     },
     "execution_count": 18,
     "metadata": {},
     "output_type": "execute_result"
    }
   ],
   "source": [
    "#noc = int(Call[-3]) #number of contracts bought/sold\n",
    "sperc = 100*1 #100 shares per contract\n",
    "df = pd.DataFrame(ploss, columns = ['Equity Market Price at Expiry','Profit/Loss'])\n",
    "payoffs = []\n",
    "for i in df['Equity Market Price at Expiry']:\n",
    "\n",
    "# Calculate Option Payoffs\n",
    "        payoff = max(((i - Strike) * sperc) - (optionPrice*sperc),-optionPrice*sperc)\n",
    "        payoffs.append(payoff)\n",
    "\n",
    "# Create DataFrame\n",
    "ploss['Profit/Loss']=payoffs\n",
    "final=pd.DataFrame(ploss,columns=['Equity Market Price at Expiry','Profit/Loss']).set_index('Equity Market Price at Expiry')\n",
    "\n",
    "final"
   ]
  },
  {
   "cell_type": "code",
   "execution_count": null,
   "id": "62ef10a4",
   "metadata": {},
   "outputs": [],
   "source": [
    "op.single_plotter(spot=Spot, strike=Strike, op_type='c', tr_type='b', op_pr=Call[2])"
   ]
  },
  {
   "cell_type": "markdown",
   "id": "ea6cfcd5",
   "metadata": {},
   "source": [
    "### Put Option"
   ]
  },
  {
   "cell_type": "code",
   "execution_count": 20,
   "id": "8b7170c9",
   "metadata": {},
   "outputs": [
    {
     "data": {
      "text/plain": [
       "Last Trade Date       2023-04-28 2:04PM EDT\n",
       "Strike                                  2.5\n",
       "Last Price                             0.11\n",
       "Bid                                    0.09\n",
       "Ask                                    0.13\n",
       "Change                                 0.02\n",
       "% Change                            +22.22%\n",
       "Volume                                  392\n",
       "Open Interest                          8930\n",
       "Implied Volatility                   85.94%\n",
       "Name: SOFI231215P00002500, dtype: object"
      ]
     },
     "execution_count": 20,
     "metadata": {},
     "output_type": "execute_result"
    }
   ],
   "source": [
    "Put = Puts.iloc[1]\n",
    "Put"
   ]
  },
  {
   "cell_type": "code",
   "execution_count": 21,
   "id": "fc00d0c1",
   "metadata": {},
   "outputs": [
    {
     "data": {
      "text/plain": [
       "2.5"
      ]
     },
     "execution_count": 21,
     "metadata": {},
     "output_type": "execute_result"
    }
   ],
   "source": [
    "Strike1 = Put[1]\n",
    "#Strike2 = Call[1]\n",
    "Strike1"
   ]
  },
  {
   "cell_type": "code",
   "execution_count": 22,
   "id": "202d8460",
   "metadata": {},
   "outputs": [
    {
     "data": {
      "text/plain": [
       "0.11"
      ]
     },
     "execution_count": 22,
     "metadata": {},
     "output_type": "execute_result"
    }
   ],
   "source": [
    "putOptionPrice = Put[2]\n",
    "putOptionPrice"
   ]
  },
  {
   "cell_type": "code",
   "execution_count": null,
   "id": "03479b94",
   "metadata": {},
   "outputs": [],
   "source": [
    "#callOptionPrice = Call[2]\n",
    "#callOptionPrice"
   ]
  },
  {
   "cell_type": "code",
   "execution_count": 23,
   "id": "6a2e9517",
   "metadata": {},
   "outputs": [
    {
     "data": {
      "text/plain": [
       "6.230000019073486"
      ]
     },
     "execution_count": 23,
     "metadata": {},
     "output_type": "execute_result"
    }
   ],
   "source": [
    "Spot"
   ]
  },
  {
   "cell_type": "code",
   "execution_count": 24,
   "id": "fff37b65",
   "metadata": {},
   "outputs": [
    {
     "data": {
      "text/html": [
       "<div>\n",
       "<style scoped>\n",
       "    .dataframe tbody tr th:only-of-type {\n",
       "        vertical-align: middle;\n",
       "    }\n",
       "\n",
       "    .dataframe tbody tr th {\n",
       "        vertical-align: top;\n",
       "    }\n",
       "\n",
       "    .dataframe thead th {\n",
       "        text-align: right;\n",
       "    }\n",
       "</style>\n",
       "<table border=\"1\" class=\"dataframe\">\n",
       "  <thead>\n",
       "    <tr style=\"text-align: right;\">\n",
       "      <th></th>\n",
       "      <th>Profit/Loss</th>\n",
       "    </tr>\n",
       "    <tr>\n",
       "      <th>Equity Market Price at Expiry</th>\n",
       "      <th></th>\n",
       "    </tr>\n",
       "  </thead>\n",
       "  <tbody>\n",
       "    <tr>\n",
       "      <th>1.0</th>\n",
       "      <td>139.0</td>\n",
       "    </tr>\n",
       "    <tr>\n",
       "      <th>1.5</th>\n",
       "      <td>89.0</td>\n",
       "    </tr>\n",
       "    <tr>\n",
       "      <th>2.0</th>\n",
       "      <td>39.0</td>\n",
       "    </tr>\n",
       "    <tr>\n",
       "      <th>2.5</th>\n",
       "      <td>-11.0</td>\n",
       "    </tr>\n",
       "    <tr>\n",
       "      <th>3.0</th>\n",
       "      <td>-11.0</td>\n",
       "    </tr>\n",
       "  </tbody>\n",
       "</table>\n",
       "</div>"
      ],
      "text/plain": [
       "                               Profit/Loss\n",
       "Equity Market Price at Expiry             \n",
       "1.0                                  139.0\n",
       "1.5                                   89.0\n",
       "2.0                                   39.0\n",
       "2.5                                  -11.0\n",
       "3.0                                  -11.0"
      ]
     },
     "execution_count": 24,
     "metadata": {},
     "output_type": "execute_result"
    }
   ],
   "source": [
    "ploss = {'Equity Market Price at Expiry': [max(Strike1-1.5,0),Strike1-1,Strike1-.5,\n",
    "                                           Strike1,Strike1+.5]}\n",
    "sperc = 100*1 #100 shares per contract\n",
    "df = pd.DataFrame(ploss, columns = ['Equity Market Price at Expiry','Profit/Loss'])\n",
    "payoffs = []\n",
    "for i in df['Equity Market Price at Expiry']:\n",
    "\n",
    "# Calculate Option Payoffs\n",
    "        payoff = max(((Strike1 - i) * sperc) - (putOptionPrice*sperc),-putOptionPrice*sperc)\n",
    "        payoffs.append(payoff)\n",
    "\n",
    "# Create DataFrame\n",
    "ploss['Profit/Loss']=payoffs\n",
    "final=pd.DataFrame(ploss,columns=['Equity Market Price at Expiry','Profit/Loss']).set_index('Equity Market Price at Expiry')\n",
    "\n",
    "final"
   ]
  },
  {
   "cell_type": "code",
   "execution_count": 31,
   "id": "e1d6d9e0",
   "metadata": {},
   "outputs": [
    {
     "data": {
      "image/png": "[encoded data removed]",
      "text/plain": [
       "<Figure size 1000x600 with 1 Axes>"
      ]
     },
     "metadata": {},
     "output_type": "display_data"
    }
   ],
   "source": [
    "op.single_plotter(spot=Spot, strike=Strike1, op_type='p', tr_type='b', op_pr=putOptionPrice,spot_range = 100)"
   ]
  },
  {
   "cell_type": "code",
   "execution_count": null,
   "id": "ed67da5e",
   "metadata": {},
   "outputs": [],
   "source": [
    "#noc = int(Call[-3]) #number of contracts bought/sold\n",
    "sperc = 100*1 #100 shares per contract\n",
    "df = pd.DataFrame(ploss, columns = ['Equity Market Price at Expiry','Profit/Loss'])\n",
    "payoffs = []\n",
    "for i in df['Equity Market Price at Expiry']:\n",
    "\n",
    "# Calculate Option Payoffs\n",
    "        payoff = max(((i - Strike) * sperc) - (optionPrice*sperc),-optionPrice*sperc)\n",
    "        payoffs.append(payoff)\n",
    "\n",
    "# Create DataFrame\n",
    "ploss['Profit/Loss']=payoffs\n",
    "final=pd.DataFrame(ploss,columns=['Equity Market Price at Expiry','Profit/Loss']).set_index('Equity Market Price at Expiry')\n",
    "\n",
    "final"
   ]
  },
  {
   "cell_type": "code",
   "execution_count": null,
   "id": "eb87a7bf",
   "metadata": {},
   "outputs": [],
   "source": [
    "op1={'op_type': 'p', 'strike': Strike1, 'tr_type': 's', 'op_pr': Call[2]}\n",
    "op2={'op_type': 'c', 'strike': Strike2, 'tr_type': 'b', 'op_pr': Put[2]}\n",
    "\n",
    "op_list=[op1, op2]\n",
    "op.multi_plotter(spot=Spot, op_list=op_list)"
   ]
  },
  {
   "cell_type": "code",
   "execution_count": null,
   "id": "749f0427",
   "metadata": {},
   "outputs": [],
   "source": []
  }
 ],
 "metadata": {
  "kernelspec": {
   "display_name": "Python 3 (ipykernel)",
   "language": "python",
   "name": "python3"
  },
  "language_info": {
   "codemirror_mode": {
    "name": "ipython",
    "version": 3
   },
   "file_extension": ".py",
   "mimetype": "text/x-python",
   "name": "python",
   "nbconvert_exporter": "python",
   "pygments_lexer": "ipython3",
   "version": "3.9.13"
  }
 },
 "nbformat": 4,
 "nbformat_minor": 5
}
