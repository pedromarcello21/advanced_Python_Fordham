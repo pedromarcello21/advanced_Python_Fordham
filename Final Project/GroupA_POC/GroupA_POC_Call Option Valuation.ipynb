{
 "cells": [
  {
   "cell_type": "markdown",
   "metadata": {},
   "source": [
    "## Disney Call Option - valuation, delta, vega\n",
    "QuantLib Closed Form"
   ]
  },
  {
   "cell_type": "code",
   "execution_count": 1,
   "metadata": {},
   "outputs": [],
   "source": [
    "import QuantLib as ql\n",
    "\n",
    "# option data\n",
    "expiry_date = ql.Date(21, 7, 2023)\n",
    "spot_price = 99.64\n",
    "strike_price = 45\n",
    "volatility = 1.3 # yahoo finance 5y monthly\n",
    "dividend_rate =  0\n",
    "option_type = ql.Option.Call\n",
    "\n",
    "risk_free_rate = 0.0343 #10-year yield\n",
    "day_count = ql.Actual365Fixed()\n",
    "calendar = ql.UnitedStates(ql.UnitedStates.NYSE)\n",
    "\n",
    "calculation_date = ql.Date(12, 4, 2023)\n",
    "ql.Settings.instance().evaluationDate = calculation_date"
   ]
  },
  {
   "cell_type": "code",
   "execution_count": 2,
   "metadata": {},
   "outputs": [],
   "source": [
    "# construct the European Option\n",
    "payoff = ql.PlainVanillaPayoff(option_type, strike_price)\n",
    "exercise = ql.EuropeanExercise(expiry_date)\n",
    "european_option = ql.VanillaOption(payoff, exercise)\n",
    "\n",
    "spot_handle = ql.QuoteHandle(\n",
    "    ql.SimpleQuote(spot_price)\n",
    ")\n",
    "flat_ts = ql.YieldTermStructureHandle(\n",
    "    ql.FlatForward(calculation_date, risk_free_rate, day_count)\n",
    ")\n",
    "dividend_yield = ql.YieldTermStructureHandle(\n",
    "    ql.FlatForward(calculation_date, dividend_rate, day_count)\n",
    ")\n",
    "flat_vol_ts = ql.BlackVolTermStructureHandle(\n",
    "    ql.BlackConstantVol(calculation_date, calendar, volatility, day_count)\n",
    ")\n",
    "bsm_process = ql.BlackScholesMertonProcess(spot_handle,\n",
    "                                           dividend_yield,\n",
    "                                           flat_ts,\n",
    "                                           flat_vol_ts)\n",
    "\n",
    "european_option.setPricingEngine(ql.AnalyticEuropeanEngine(bsm_process))"
   ]
  },
  {
   "cell_type": "code",
   "execution_count": 3,
   "metadata": {
    "scrolled": true
   },
   "outputs": [
    {
     "name": "stdout",
     "output_type": "stream",
     "text": [
      "option value is 57.600\n",
      "option delta is 0.936\n",
      "option vega is 6.532\n"
     ]
    }
   ],
   "source": [
    "# calculate and display results\n",
    "print(\"option value is\", \"%.3f\" % european_option.NPV())\n",
    "print(\"option delta is\", \"%.3f\" % european_option.delta())\n",
    "print(\"option vega is\", \"%.3f\" % european_option.vega())"
   ]
  },
  {
   "cell_type": "code",
   "execution_count": 4,
   "metadata": {},
   "outputs": [
    {
     "data": {
      "text/plain": [
       "Contract Name             DIS230721C00045000\n",
       "Last Trade Date       2023-04-14 10:14AM EDT\n",
       "Strike                                  45.0\n",
       "Last Price                              55.9\n",
       "Bid                                     55.5\n",
       "Ask                                    56.35\n",
       "Change                                   0.0\n",
       "% Change                                   -\n",
       "Volume                                     1\n",
       "Open Interest                             46\n",
       "Implied Volatility                    93.65%\n",
       "Name: 0, dtype: object"
      ]
     },
     "execution_count": 4,
     "metadata": {},
     "output_type": "execute_result"
    }
   ],
   "source": [
    "import yahoo_fin.options as ops\n",
    "ops.get_calls(\"dis\", \"07/21/2023\").iloc[0]"
   ]
  },
  {
   "cell_type": "code",
   "execution_count": 5,
   "metadata": {},
   "outputs": [],
   "source": [
    "# The result is quite similar"
   ]
  }
 ],
 "metadata": {
  "kernelspec": {
   "display_name": "Python 3 (ipykernel)",
   "language": "python",
   "name": "python3"
  },
  "language_info": {
   "codemirror_mode": {
    "name": "ipython",
    "version": 3
   },
   "file_extension": ".py",
   "mimetype": "text/x-python",
   "name": "python",
   "nbconvert_exporter": "python",
   "pygments_lexer": "ipython3",
   "version": "3.9.13"
  }
 },
 "nbformat": 4,
 "nbformat_minor": 2
}
