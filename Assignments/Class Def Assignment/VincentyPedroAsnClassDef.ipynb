{
 "cells": [
  {
   "cell_type": "code",
   "execution_count": 1,
   "id": "aaee36ba",
   "metadata": {},
   "outputs": [],
   "source": [
    "# Pedro Vincenty Assignment Class Definition"
   ]
  },
  {
   "cell_type": "code",
   "execution_count": 2,
   "id": "e7f8b16e",
   "metadata": {},
   "outputs": [],
   "source": [
    "from datetime import date\n",
    "from dateutil.relativedelta import relativedelta\n",
    "import pandas as pd"
   ]
  },
  {
   "cell_type": "code",
   "execution_count": 3,
   "id": "e294cd2d",
   "metadata": {},
   "outputs": [],
   "source": [
    "class FixedRateBond:\n",
    "    #set initializer\n",
    "    def __init__(self,principal, coupon, frequency, years, maturityDate):\n",
    "        self.principal = principal\n",
    "        self.coupon = coupon\n",
    "        self.frequency = frequency\n",
    "        self.years = years\n",
    "        self.maturityDate = maturityDate\n",
    "        \n",
    "    #Get representations of variable\n",
    "    def __str__(self):\n",
    "        return str(self.principal)+','+str(self.coupon)+','+str(self.frequency)+','+str(self.years)+','+str(self.maturityDate)\n",
    "    \n",
    "    #create __repr__ since we have lists of variables\n",
    "    __repr__ = __str__\n",
    "    \n",
    "    #define cashflows\n",
    "    def cashflows(self):\n",
    "        #create calculated columns:\n",
    "        #payment_dates\n",
    "        periods = self.years * self.frequency\n",
    "        coupon_payment = (self.coupon * self.principal) / self.frequency\n",
    "        payment_dates = []\n",
    "        for i in range(periods):\n",
    "            payment_dates.append(self.maturityDate - relativedelta(months=6*i))\n",
    "        #Reverse order of payment dates\n",
    "        payment_dates = payment_dates[::-1]\n",
    "        \n",
    "        #interest_payments(Principalxcoupon/frequency)\n",
    "        interest_payments = (self.coupon * self.principal)/(self.frequency)\n",
    "        \n",
    "        #principal_payments\n",
    "        principal_payments = []\n",
    "        for i in range(periods-1):\n",
    "            principal_payments.append(i*0)\n",
    "            \n",
    "        principal_payments.append(self.principal)\n",
    "        \n",
    "        #Create dataframe of calculated columns\n",
    "        df = pd.DataFrame({'Payment Date': payment_dates,\n",
    "                           'Interest Payment': interest_payments,\n",
    "                           'Principal Payment': principal_payments})\n",
    "\n",
    "        return df\n",
    "    def printFlows(self):\n",
    "    #Display 3 parallel lists\n",
    "        cashflows = self.cashflows()\n",
    "        print(\"Payment Dates:\",cashflows['Payment Date'].to_list())\n",
    "        print(\"Interest Payment: \",cashflows['Interest Payment'].to_list())\n",
    "        print(\"Principal Payment:\",cashflows['Principal Payment'].to_list())"
   ]
  },
  {
   "cell_type": "code",
   "execution_count": 4,
   "id": "d94adc25",
   "metadata": {},
   "outputs": [],
   "source": [
    "maturity = date(2023,6,1)\n",
    "bond = FixedRateBond(1000,.05,2,3,maturity)"
   ]
  },
  {
   "cell_type": "code",
   "execution_count": 5,
   "id": "e1007298",
   "metadata": {},
   "outputs": [
    {
     "data": {
      "text/html": [
       "<div>\n",
       "<style scoped>\n",
       "    .dataframe tbody tr th:only-of-type {\n",
       "        vertical-align: middle;\n",
       "    }\n",
       "\n",
       "    .dataframe tbody tr th {\n",
       "        vertical-align: top;\n",
       "    }\n",
       "\n",
       "    .dataframe thead th {\n",
       "        text-align: right;\n",
       "    }\n",
       "</style>\n",
       "<table border=\"1\" class=\"dataframe\">\n",
       "  <thead>\n",
       "    <tr style=\"text-align: right;\">\n",
       "      <th></th>\n",
       "      <th>Payment Date</th>\n",
       "      <th>Interest Payment</th>\n",
       "      <th>Principal Payment</th>\n",
       "    </tr>\n",
       "  </thead>\n",
       "  <tbody>\n",
       "    <tr>\n",
       "      <th>0</th>\n",
       "      <td>2020-12-01</td>\n",
       "      <td>25.0</td>\n",
       "      <td>0</td>\n",
       "    </tr>\n",
       "    <tr>\n",
       "      <th>1</th>\n",
       "      <td>2021-06-01</td>\n",
       "      <td>25.0</td>\n",
       "      <td>0</td>\n",
       "    </tr>\n",
       "    <tr>\n",
       "      <th>2</th>\n",
       "      <td>2021-12-01</td>\n",
       "      <td>25.0</td>\n",
       "      <td>0</td>\n",
       "    </tr>\n",
       "    <tr>\n",
       "      <th>3</th>\n",
       "      <td>2022-06-01</td>\n",
       "      <td>25.0</td>\n",
       "      <td>0</td>\n",
       "    </tr>\n",
       "    <tr>\n",
       "      <th>4</th>\n",
       "      <td>2022-12-01</td>\n",
       "      <td>25.0</td>\n",
       "      <td>0</td>\n",
       "    </tr>\n",
       "    <tr>\n",
       "      <th>5</th>\n",
       "      <td>2023-06-01</td>\n",
       "      <td>25.0</td>\n",
       "      <td>1000</td>\n",
       "    </tr>\n",
       "  </tbody>\n",
       "</table>\n",
       "</div>"
      ],
      "text/plain": [
       "  Payment Date  Interest Payment  Principal Payment\n",
       "0   2020-12-01              25.0                  0\n",
       "1   2021-06-01              25.0                  0\n",
       "2   2021-12-01              25.0                  0\n",
       "3   2022-06-01              25.0                  0\n",
       "4   2022-12-01              25.0                  0\n",
       "5   2023-06-01              25.0               1000"
      ]
     },
     "execution_count": 5,
     "metadata": {},
     "output_type": "execute_result"
    }
   ],
   "source": [
    "bond.cashflows()"
   ]
  },
  {
   "cell_type": "code",
   "execution_count": 6,
   "id": "79ce2914",
   "metadata": {},
   "outputs": [
    {
     "name": "stdout",
     "output_type": "stream",
     "text": [
      "Payment Dates: [datetime.date(2020, 12, 1), datetime.date(2021, 6, 1), datetime.date(2021, 12, 1), datetime.date(2022, 6, 1), datetime.date(2022, 12, 1), datetime.date(2023, 6, 1)]\n",
      "Interest Payment:  [25.0, 25.0, 25.0, 25.0, 25.0, 25.0]\n",
      "Principal Payment: [0, 0, 0, 0, 0, 1000]\n"
     ]
    }
   ],
   "source": [
    "bond.printFlows()"
   ]
  },
  {
   "cell_type": "code",
   "execution_count": 9,
   "id": "27d91e5d",
   "metadata": {},
   "outputs": [
    {
     "data": {
      "text/plain": [
       "'datetime.date(2023, 6, 1)'"
      ]
     },
     "execution_count": 9,
     "metadata": {},
     "output_type": "execute_result"
    }
   ],
   "source": [
    "maturity.__repr__()"
   ]
  },
  {
   "cell_type": "code",
   "execution_count": 16,
   "id": "2e4be3b5",
   "metadata": {},
   "outputs": [],
   "source": [
    "pedro = Patient(1221,76,205)"
   ]
  },
  {
   "cell_type": "code",
   "execution_count": 17,
   "id": "152a11c0",
   "metadata": {},
   "outputs": [],
   "source": [
    "class Patient:\n",
    "    def __init__(self, id, height, weight):\n",
    "        self.id = id\n",
    "        self.height = height\n",
    "        self.weight = weight\n",
    "\n",
    "    def __str__(self):\n",
    "        return self.id+\",\"+self.weight+\",\"+self.height\n",
    "\n",
    "    def bmi(self):\n",
    "        return(self.weight / self.height**2 * 703)\n",
    "\n",
    "\n",
    "    def toLose(self):\n",
    "        if bmi>25:\n",
    "            return(self.weight - self.height**2 * 25 / 703)\n",
    "        else:\n",
    "            print(\"This program doesn\\'t recommend\"+i+ \"to lose weight\")"
   ]
  },
  {
   "cell_type": "code",
   "execution_count": 18,
   "id": "215a9ce4",
   "metadata": {},
   "outputs": [
    {
     "data": {
      "text/plain": [
       "24.950657894736842"
      ]
     },
     "execution_count": 18,
     "metadata": {},
     "output_type": "execute_result"
    }
   ],
   "source": [
    "pedro.bmi()"
   ]
  },
  {
   "cell_type": "code",
   "execution_count": null,
   "id": "0c1020b6",
   "metadata": {},
   "outputs": [],
   "source": []
  }
 ],
 "metadata": {
  "kernelspec": {
   "display_name": "Python 3 (ipykernel)",
   "language": "python",
   "name": "python3"
  },
  "language_info": {
   "codemirror_mode": {
    "name": "ipython",
    "version": 3
   },
   "file_extension": ".py",
   "mimetype": "text/x-python",
   "name": "python",
   "nbconvert_exporter": "python",
   "pygments_lexer": "ipython3",
   "version": "3.9.13"
  }
 },
 "nbformat": 4,
 "nbformat_minor": 5
}
