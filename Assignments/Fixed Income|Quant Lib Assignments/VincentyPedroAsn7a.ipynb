{
 "cells": [
  {
   "cell_type": "code",
   "execution_count": 1,
   "id": "0780197d",
   "metadata": {},
   "outputs": [],
   "source": [
    "#Pedro Vincenty Assignment 7 A"
   ]
  },
  {
   "cell_type": "code",
   "execution_count": 2,
   "id": "8ad47fb2",
   "metadata": {},
   "outputs": [],
   "source": [
    "#Import relevant library\n",
    "import pandas as pd"
   ]
  },
  {
   "cell_type": "code",
   "execution_count": 5,
   "id": "31a11e8e",
   "metadata": {},
   "outputs": [],
   "source": [
    "#Create function that displays compound interest scheduel\n",
    "#bb = beginning balance\n",
    "#eb = ending balance\n",
    "#t = time\n",
    "#r = rate\n",
    "#f = frequency\n",
    "\n",
    "def CompoundInterestSchedule(bb,t,r,f):\n",
    "#Create lists to be appended as values in dictionary\n",
    "    timeList=[]\n",
    "    startingBalanceList=[]\n",
    "    interestList=[]\n",
    "    endingBalanceList=[]\n",
    "#Start from first period, end at maturity\n",
    "    for i in range(1,t+1):\n",
    "        timeList.append(i)\n",
    "        startingBalanceList.append(bb)\n",
    "        #Formula for ending balance\n",
    "        eb = bb*(1+r/f)**f\n",
    "        #interest = end balance-beginning balance\n",
    "        interestList.append(eb-bb)\n",
    "        endingBalanceList.append(eb)\n",
    "        #beginning balance of next term = ending balance of previous term\n",
    "        bb=eb\n",
    "    #Create dataframe from dictionary\n",
    "    df = pd.DataFrame({\n",
    "        'Time':timeList,\n",
    "        'Starting Balance':startingBalanceList,\n",
    "        'Interest Earned':interestList,\n",
    "        'Ending Balance':endingBalanceList\n",
    "    })\n",
    "    df.set_index('Time', inplace=True)\n",
    "    \n",
    "    return df.round(2)"
   ]
  },
  {
   "cell_type": "code",
   "execution_count": 6,
   "id": "875386d8",
   "metadata": {},
   "outputs": [
    {
     "data": {
      "text/html": [
       "<div>\n",
       "<style scoped>\n",
       "    .dataframe tbody tr th:only-of-type {\n",
       "        vertical-align: middle;\n",
       "    }\n",
       "\n",
       "    .dataframe tbody tr th {\n",
       "        vertical-align: top;\n",
       "    }\n",
       "\n",
       "    .dataframe thead th {\n",
       "        text-align: right;\n",
       "    }\n",
       "</style>\n",
       "<table border=\"1\" class=\"dataframe\">\n",
       "  <thead>\n",
       "    <tr style=\"text-align: right;\">\n",
       "      <th></th>\n",
       "      <th>Starting Balance</th>\n",
       "      <th>Interest Earned</th>\n",
       "      <th>Ending Balance</th>\n",
       "    </tr>\n",
       "    <tr>\n",
       "      <th>Time</th>\n",
       "      <th></th>\n",
       "      <th></th>\n",
       "      <th></th>\n",
       "    </tr>\n",
       "  </thead>\n",
       "  <tbody>\n",
       "    <tr>\n",
       "      <th>1</th>\n",
       "      <td>1000.00</td>\n",
       "      <td>50.62</td>\n",
       "      <td>1050.62</td>\n",
       "    </tr>\n",
       "    <tr>\n",
       "      <th>2</th>\n",
       "      <td>1050.62</td>\n",
       "      <td>53.19</td>\n",
       "      <td>1103.81</td>\n",
       "    </tr>\n",
       "    <tr>\n",
       "      <th>3</th>\n",
       "      <td>1103.81</td>\n",
       "      <td>55.88</td>\n",
       "      <td>1159.69</td>\n",
       "    </tr>\n",
       "    <tr>\n",
       "      <th>4</th>\n",
       "      <td>1159.69</td>\n",
       "      <td>58.71</td>\n",
       "      <td>1218.40</td>\n",
       "    </tr>\n",
       "    <tr>\n",
       "      <th>5</th>\n",
       "      <td>1218.40</td>\n",
       "      <td>61.68</td>\n",
       "      <td>1280.08</td>\n",
       "    </tr>\n",
       "  </tbody>\n",
       "</table>\n",
       "</div>"
      ],
      "text/plain": [
       "      Starting Balance  Interest Earned  Ending Balance\n",
       "Time                                                   \n",
       "1              1000.00            50.62         1050.62\n",
       "2              1050.62            53.19         1103.81\n",
       "3              1103.81            55.88         1159.69\n",
       "4              1159.69            58.71         1218.40\n",
       "5              1218.40            61.68         1280.08"
      ]
     },
     "execution_count": 6,
     "metadata": {},
     "output_type": "execute_result"
    }
   ],
   "source": [
    "CompoundInterestSchedule(1000,5,.05,2)"
   ]
  }
 ],
 "metadata": {
  "kernelspec": {
   "display_name": "Python 3 (ipykernel)",
   "language": "python",
   "name": "python3"
  },
  "language_info": {
   "codemirror_mode": {
    "name": "ipython",
    "version": 3
   },
   "file_extension": ".py",
   "mimetype": "text/x-python",
   "name": "python",
   "nbconvert_exporter": "python",
   "pygments_lexer": "ipython3",
   "version": "3.9.13"
  }
 },
 "nbformat": 4,
 "nbformat_minor": 5
}
