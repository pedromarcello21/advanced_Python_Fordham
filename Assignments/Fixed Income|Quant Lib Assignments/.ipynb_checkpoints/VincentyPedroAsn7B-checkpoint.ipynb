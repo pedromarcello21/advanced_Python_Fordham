{
 "cells": [
  {
   "cell_type": "code",
   "execution_count": 3,
   "id": "2c41f8ae",
   "metadata": {},
   "outputs": [],
   "source": [
    "#Pedro Vincenty Assignment 7 B"
   ]
  },
  {
   "cell_type": "code",
   "execution_count": 1,
   "id": "56e036c5",
   "metadata": {},
   "outputs": [],
   "source": [
    "import QuantLib as ql"
   ]
  },
  {
   "cell_type": "code",
   "execution_count": 3,
   "id": "9ddf0cc4",
   "metadata": {},
   "outputs": [],
   "source": [
    "# Set the issue date\n",
    "issue_date = ql.Date(14, 1, 2021)"
   ]
  },
  {
   "cell_type": "code",
   "execution_count": 95,
   "id": "26dd64f4",
   "metadata": {},
   "outputs": [],
   "source": [
    "# Construct bond scheduel\n",
    "calendar = ql.UnitedStates(ql.UnitedStates.GovernmentBond)\n",
    "face_value = 100.0\n",
    "issue_date = ql.Date(14, 2, 2023)\n",
    "maturity_date = ql.Date(14, 2, 2053)\n",
    "settlement_days = 1\n",
    "frequency = ql.Period(ql.Semiannual)\n",
    "day_count = ql.ActualActual(ql.ActualActual.Bond)\n",
    "schedule = ql.Schedule(issue_date, maturity_date, frequency, calendar, ql.ModifiedFollowing, \n",
    "                       ql.ModifiedFollowing, ql.DateGeneration.Backward,False)\n"
   ]
  },
  {
   "cell_type": "code",
   "execution_count": 96,
   "id": "610d89c9",
   "metadata": {},
   "outputs": [],
   "source": [
    "# Create the coupon rate and bond object\n",
    "coupon_rate = 0.03625\n",
    "bond = ql.FixedRateBond(0, face_value, schedule, [coupon_rate], ql.Thirty360(ql.Thirty360.BondBasis))"
   ]
  },
  {
   "cell_type": "code",
   "execution_count": 97,
   "id": "41acfc1c",
   "metadata": {},
   "outputs": [],
   "source": [
    "# Set the bond pricing engine to the discounting engine\n",
    "discounting_curve = ql.FlatForward(evaluation_date, 0.01, day_count)\n",
    "discounting_engine = ql.DiscountingBondEngine(ql.YieldTermStructureHandle(discounting_curve))\n",
    "bond.setPricingEngine(discounting_engine)"
   ]
  },
  {
   "cell_type": "code",
   "execution_count": 98,
   "id": "b70be312",
   "metadata": {},
   "outputs": [
    {
     "name": "stdout",
     "output_type": "stream",
     "text": [
      "Flat price: 167.59\n",
      "Full price: 168.23\n",
      "Accrued interest: 0.64\n"
     ]
    }
   ],
   "source": [
    "# Calculate flat, full and interest prices\n",
    "clean_price = bond.cleanPrice()\n",
    "dirty_price = bond.dirtyPrice()\n",
    "accrued_interest = bond.accruedAmount()\n",
    "yield_to_maturity = bond.bondYield(clean_price, day_count, ql.Compounded, ql.Semiannual)\n",
    "\n",
    "# Print the results\n",
    "print(f\"Flat price: {clean_price:.2f}\")\n",
    "print(f\"Full price: {dirty_price:.2f}\")\n",
    "print(f\"Accrued interest: {accrued_interest:.2f}\")"
   ]
  }
 ],
 "metadata": {
  "kernelspec": {
   "display_name": "Python 3 (ipykernel)",
   "language": "python",
   "name": "python3"
  },
  "language_info": {
   "codemirror_mode": {
    "name": "ipython",
    "version": 3
   },
   "file_extension": ".py",
   "mimetype": "text/x-python",
   "name": "python",
   "nbconvert_exporter": "python",
   "pygments_lexer": "ipython3",
   "version": "3.9.13"
  }
 },
 "nbformat": 4,
 "nbformat_minor": 5
}
