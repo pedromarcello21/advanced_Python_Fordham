{
 "cells": [
  {
   "cell_type": "code",
   "execution_count": 1,
   "id": "08ab7d31",
   "metadata": {},
   "outputs": [],
   "source": [
    "class Greeting:\n",
    "    def __init__ (self,first,last):\n",
    "        self.first = first\n",
    "        self.last = last\n",
    "    def __str__(self):\n",
    "        return self.first+\",\"+self.last\n",
    "    __repr__ = __str__\n",
    "    def display(self,formal = False):\n",
    "        if formal == True:\n",
    "            print(\"Hello\",self.first,self.last)\n",
    "        else:\n",
    "            print(\"Hi\", self.first)"
   ]
  },
  {
   "cell_type": "code",
   "execution_count": 2,
   "id": "5757daea",
   "metadata": {},
   "outputs": [
    {
     "name": "stdout",
     "output_type": "stream",
     "text": [
      "Hello Donald Becker\n"
     ]
    },
    {
     "data": {
      "text/plain": [
       "Donald,Becker"
      ]
     },
     "execution_count": 2,
     "metadata": {},
     "output_type": "execute_result"
    }
   ],
   "source": [
    "greeting = Greeting(\"Donald\",\"Becker\")\n",
    "greeting.display(formal = True)\n",
    "greeting"
   ]
  },
  {
   "cell_type": "code",
   "execution_count": 12,
   "id": "62adbdfe",
   "metadata": {},
   "outputs": [
    {
     "data": {
      "text/plain": [
       "'Donald,Becker'"
      ]
     },
     "execution_count": 12,
     "metadata": {},
     "output_type": "execute_result"
    }
   ],
   "source": [
    "greeting.__str__()"
   ]
  }
 ],
 "metadata": {
  "kernelspec": {
   "display_name": "Python 3 (ipykernel)",
   "language": "python",
   "name": "python3"
  },
  "language_info": {
   "codemirror_mode": {
    "name": "ipython",
    "version": 3
   },
   "file_extension": ".py",
   "mimetype": "text/x-python",
   "name": "python",
   "nbconvert_exporter": "python",
   "pygments_lexer": "ipython3",
   "version": "3.9.13"
  }
 },
 "nbformat": 4,
 "nbformat_minor": 5
}
